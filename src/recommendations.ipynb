{
 "cells": [
  {
   "cell_type": "markdown",
   "metadata": {
    "id": "XgfM-wQzL9J3"
   },
   "source": [
    "# Ethical Movie Recommendations\n"
   ]
  },
  {
   "cell_type": "markdown",
   "metadata": {
    "id": "dHy-TfeCL0DI"
   },
   "source": [
    "The deliverable for our project is an Altair-based user interface that provides\n",
    "movie recommendations to users. Users will be prompted to input what kind of\n",
    "film they want to see and, importantly, what describes what they would like not\n",
    "to see. The latter can be content they find triggering or inappropriate for\n",
    "them. We seek to empower users to be more efficient and comfortable with their\n",
    "search experience.\n"
   ]
  },
  {
   "cell_type": "markdown",
   "metadata": {
    "id": "GSERGqc0L7NT"
   },
   "source": [
    "For example, in our visualization section, we show a recommendation in which we\n",
    "verified that ‘smoking’ is not a tag for that film. A user may wish to avoid\n",
    "renewing their smoking habit by reducing the chance of stimulating their craving\n",
    "for it. The recommendation algorithm will be based on popularity such that after\n",
    "filtering for what users wish to see and what they do not want to see, we will\n",
    "return the top movies with the highest mean review. The goal is to explore how\n",
    "recommendations can be more sensitive to users preferences and to demonstrate a\n",
    "need for these algorithms.\n"
   ]
  },
  {
   "cell_type": "markdown",
   "metadata": {
    "id": "geTuqs7DTvQL"
   },
   "source": [
    "# Imports\n"
   ]
  },
  {
   "cell_type": "markdown",
   "metadata": {
    "id": "XZ9zy4eOMNJj"
   },
   "source": [
    "Here we create the path to the directory with our MovieLens, IMDB, and poster\n",
    "movie data which we can combine to get descriptive information about the films\n"
   ]
  },
  {
   "cell_type": "code",
   "execution_count": 1,
   "metadata": {},
   "outputs": [
    {
     "name": "stdout",
     "output_type": "stream",
     "text": [
      "Python 3.8.13\n"
     ]
    }
   ],
   "source": [
    "!python --version"
   ]
  },
  {
   "cell_type": "code",
   "execution_count": 2,
   "metadata": {
    "colab": {
     "base_uri": "https://localhost:8080/"
    },
    "id": "4lK2cRXAB856",
    "outputId": "d8d4bfe6-5ea5-428b-abae-ba647c54831f"
   },
   "outputs": [
    {
     "ename": "ModuleNotFoundError",
     "evalue": "No module named 'nltk'",
     "output_type": "error",
     "traceback": [
      "\u001b[0;31m---------------------------------------------------------------------------\u001b[0m",
      "\u001b[0;31mModuleNotFoundError\u001b[0m                       Traceback (most recent call last)",
      "Input \u001b[0;32mIn [2]\u001b[0m, in \u001b[0;36m<cell line: 14>\u001b[0;34m()\u001b[0m\n\u001b[1;32m     12\u001b[0m \u001b[38;5;28;01mimport\u001b[39;00m \u001b[38;5;21;01mre\u001b[39;00m\n\u001b[1;32m     13\u001b[0m \u001b[38;5;28;01mimport\u001b[39;00m \u001b[38;5;21;01mstring\u001b[39;00m\n\u001b[0;32m---> 14\u001b[0m \u001b[38;5;28;01mimport\u001b[39;00m \u001b[38;5;21;01mnltk\u001b[39;00m\n\u001b[1;32m     15\u001b[0m \u001b[38;5;28;01mfrom\u001b[39;00m \u001b[38;5;21;01mnltk\u001b[39;00m\u001b[38;5;21;01m.\u001b[39;00m\u001b[38;5;21;01mstem\u001b[39;00m \u001b[38;5;28;01mimport\u001b[39;00m PorterStemmer\n\u001b[1;32m     17\u001b[0m \u001b[38;5;28;01mfrom\u001b[39;00m \u001b[38;5;21;01mPIL\u001b[39;00m \u001b[38;5;28;01mimport\u001b[39;00m Image\n",
      "\u001b[0;31mModuleNotFoundError\u001b[0m: No module named 'nltk'"
     ]
    }
   ],
   "source": [
    "import pandas as pd\n",
    "\n",
    "import base64, io\n",
    "from collections import Counter\n",
    "import warnings\n",
    "\n",
    "\n",
    "from IPython.display import display\n",
    "import ipywidgets as widgets\n",
    "import urllib.request\n",
    "\n",
    "import re\n",
    "import string\n",
    "import nltk\n",
    "from nltk.stem import PorterStemmer\n",
    "\n",
    "from PIL import Image\n",
    "import altair as alt\n",
    "\n",
    "nltk.download(\"wordnet\")\n",
    "warnings.simplefilter(action=\"ignore\", category=FutureWarning)\n",
    "warnings.filterwarnings(\"ignore\")\n",
    "alt.themes.enable(\"fivethirtyeight\")"
   ]
  },
  {
   "cell_type": "markdown",
   "metadata": {
    "id": "qJNbxcM4PZ8m"
   },
   "source": [
    "# Data Ingestion\n"
   ]
  },
  {
   "cell_type": "code",
   "execution_count": null,
   "metadata": {
    "id": "3xYsuS0NPcxp"
   },
   "outputs": [],
   "source": [
    "# movie lens datasets\n",
    "ml_movies = pd.read_csv(\"./data/ml_movies_100.csv\")\n",
    "ml_tags = pd.read_csv(f\"./data/ml_tags_100.csv\")\n",
    "ml_ratings = pd.read_csv(f\"./data/ml_ratings_100.csv\")\n",
    "\n",
    "# imdb dataset\n",
    "imdb_reviews = pd.read_json(f\"./data/sample_100.json\")\n",
    "\n",
    "# posters dataset\n",
    "images = pd.read_csv(f\"./data/images_100.csv\")\n"
   ]
  },
  {
   "cell_type": "markdown",
   "metadata": {
    "id": "-ZmxPrWDP_fA"
   },
   "source": [
    "# Data Preprocessing\n",
    "\n",
    "Define functions to be used to prepare text for filters and aid in\n",
    "preprocessing.\n"
   ]
  },
  {
   "cell_type": "code",
   "execution_count": null,
   "metadata": {
    "id": "xJxIwit3PXD-"
   },
   "outputs": [],
   "source": [
    "def prep_string(text:str) -> str:\n",
    "    \"\"\"remove punctuation, whitespace, and make lowercase\"\"\"\n",
    "\n",
    "    # remove whitespace and apply lowercasing\n",
    "    text_lstrip = str(text).lower().strip()\n",
    "\n",
    "    # replace puncutation with empty string\n",
    "    text = re.sub(\"[%s]\" % re.escape(string.punctuation), \"\", text_lstrip)\n",
    "    return text\n"
   ]
  },
  {
   "cell_type": "code",
   "execution_count": null,
   "metadata": {
    "id": "zywyHtOoPXq9"
   },
   "outputs": [],
   "source": [
    "def stem_words(text:str) -> str:\n",
    "    \"\"\"normalize text by shortening words to their root (i.e., removing commoner morphological and inflexional endings from words)\"\"\"\n",
    "    stemmer = PorterStemmer()\n",
    "    return \" \".join([stemmer.stem(word) for word in text.split()])\n"
   ]
  },
  {
   "cell_type": "markdown",
   "metadata": {
    "id": "kRMGRykAKoQ4"
   },
   "source": [
    "## Imdb Data Preprocesing\n",
    "\n",
    "Becuase we will use both title and year to join the imdb and movie lens data, we\n",
    "need year and movie title to be seperate columns. In the imdb datset, year and\n",
    "title are in the same column so we will need to split them.\n"
   ]
  },
  {
   "cell_type": "code",
   "execution_count": null,
   "metadata": {
    "id": "RqWWDcsvQBhq"
   },
   "outputs": [],
   "source": [
    "# seperate the movie title and year from the movie column, create two seperate columns for them\n",
    "imdb_reviews[\"title\"] = imdb_reviews[\"movie\"].apply(\n",
    "    lambda x: x.split(\"(\")[0].strip().lower()\n",
    ")\n",
    "imdb_reviews[\"year\"] = imdb_reviews[\"movie\"].apply(\n",
    "    lambda x: x.split(\"(\")[-1].split(\")\")[0].strip().replace(\"–\", \"\")\n",
    ")\n"
   ]
  },
  {
   "cell_type": "markdown",
   "metadata": {
    "id": "MtefSnwvECRu"
   },
   "source": [
    "imdb data is at the review level, but we need it to be at the movie level so we\n",
    "will aggregare review information by movie.\n"
   ]
  },
  {
   "cell_type": "code",
   "execution_count": null,
   "metadata": {
    "id": "lN-81OtsRNlV"
   },
   "outputs": [],
   "source": [
    "# refactor imdb reviews dataset to the movie level for easy joining with movie lens\n",
    "rating = (\n",
    "    imdb_reviews.groupby([\"title\", \"year\"])\n",
    "    .agg(\n",
    "        {\n",
    "            \"rating\": lambda x: list(x),\n",
    "            \"review_detail\": lambda x: list(x),\n",
    "            \"review_summary\": lambda x: list(x),\n",
    "            \"helpful\": lambda x: list(x),\n",
    "        }\n",
    "    )\n",
    "    .reset_index()\n",
    "    .rename(\n",
    "        columns={\n",
    "            \"title\": \"title\",\n",
    "            \"year\": \"year\",\n",
    "            \"rating\": \"imdb_ratings\",\n",
    "            \"review_detail\": \"imdb_review_detail\",\n",
    "            \"review_summary\": \"imdb_review_summary\",\n",
    "            \"helpful\": \"imdb_helpful\",\n",
    "        }\n",
    "    )\n",
    ")\n"
   ]
  },
  {
   "cell_type": "code",
   "execution_count": null,
   "metadata": {
    "id": "1RuBQgvfQDYE"
   },
   "outputs": [],
   "source": [
    "# uncomment to see the resulting dataframe\n",
    "# imdb_movies.head(2)\n"
   ]
  },
  {
   "cell_type": "code",
   "execution_count": null,
   "metadata": {
    "id": "NKZ97GbXls0-"
   },
   "outputs": [],
   "source": [
    "# uncoment to reveal an example imdb detailed review\n",
    "# imdb_movies['imdb_review_detail'].iloc[0]\n"
   ]
  },
  {
   "cell_type": "markdown",
   "metadata": {
    "id": "MtYbiOMCQKQe"
   },
   "source": [
    "## Movie Lens Data Preprocessing\n"
   ]
  },
  {
   "cell_type": "markdown",
   "metadata": {
    "id": "D6tgurMFE5rT"
   },
   "source": [
    "Becuase we will use both title and year to join the imdb and movie lens data, we\n",
    "need year and movie title to be seperate columns. In the imdb datset, year and\n",
    "title are in the same column so we will need to split them.\n"
   ]
  },
  {
   "cell_type": "code",
   "execution_count": 3,
   "metadata": {
    "id": "1Jybu_L3QNPD"
   },
   "outputs": [
    {
     "ename": "NameError",
     "evalue": "name 'ml_movies' is not defined",
     "output_type": "error",
     "traceback": [
      "\u001b[0;31m---------------------------------------------------------------------------\u001b[0m",
      "\u001b[0;31mNameError\u001b[0m                                 Traceback (most recent call last)",
      "Input \u001b[0;32mIn [3]\u001b[0m, in \u001b[0;36m<cell line: 3>\u001b[0;34m()\u001b[0m\n\u001b[1;32m      1\u001b[0m \u001b[38;5;66;03m# seperate the movie title and year from the movie column, create two seperate columns for them\u001b[39;00m\n\u001b[1;32m      2\u001b[0m \u001b[38;5;66;03m# note: don't run this multiple times during same session\u001b[39;00m\n\u001b[0;32m----> 3\u001b[0m ml_movies[\u001b[38;5;124m\"\u001b[39m\u001b[38;5;124myear\u001b[39m\u001b[38;5;124m\"\u001b[39m] \u001b[38;5;241m=\u001b[39m \u001b[43mml_movies\u001b[49m[\u001b[38;5;124m\"\u001b[39m\u001b[38;5;124mtitle\u001b[39m\u001b[38;5;124m\"\u001b[39m]\u001b[38;5;241m.\u001b[39mapply(\u001b[38;5;28;01mlambda\u001b[39;00m x: x[\u001b[38;5;241m-\u001b[39m\u001b[38;5;241m5\u001b[39m:\u001b[38;5;241m-\u001b[39m\u001b[38;5;241m1\u001b[39m])\n\u001b[1;32m      4\u001b[0m ml_movies[\u001b[38;5;124m\"\u001b[39m\u001b[38;5;124mtitle\u001b[39m\u001b[38;5;124m\"\u001b[39m] \u001b[38;5;241m=\u001b[39m ml_movies[\u001b[38;5;124m\"\u001b[39m\u001b[38;5;124mtitle\u001b[39m\u001b[38;5;124m\"\u001b[39m]\u001b[38;5;241m.\u001b[39mapply(\u001b[38;5;28;01mlambda\u001b[39;00m x: x[:\u001b[38;5;241m-\u001b[39m\u001b[38;5;241m6\u001b[39m]\u001b[38;5;241m.\u001b[39mstrip()\u001b[38;5;241m.\u001b[39mlower())\n",
      "\u001b[0;31mNameError\u001b[0m: name 'ml_movies' is not defined"
     ]
    }
   ],
   "source": [
    "# seperate the movie title and year from the movie column, create two seperate columns for them\n",
    "# note: don't run this multiple times during same session\n",
    "ml_movies[\"year\"] = ml_movies[\"title\"].apply(lambda x: x[-5:-1])\n",
    "ml_movies[\"title\"] = ml_movies[\"title\"].apply(lambda x: x[:-6].strip().lower())\n"
   ]
  },
  {
   "cell_type": "code",
   "execution_count": 4,
   "metadata": {
    "id": "9_0chPeaQRbt"
   },
   "outputs": [
    {
     "ename": "NameError",
     "evalue": "name 'ml_movies' is not defined",
     "output_type": "error",
     "traceback": [
      "\u001b[0;31m---------------------------------------------------------------------------\u001b[0m",
      "\u001b[0;31mNameError\u001b[0m                                 Traceback (most recent call last)",
      "Input \u001b[0;32mIn [4]\u001b[0m, in \u001b[0;36m<cell line: 2>\u001b[0;34m()\u001b[0m\n\u001b[1;32m      1\u001b[0m \u001b[38;5;66;03m# split genres into a list for easy use\u001b[39;00m\n\u001b[0;32m----> 2\u001b[0m ml_movies[\u001b[38;5;124m\"\u001b[39m\u001b[38;5;124mgenres\u001b[39m\u001b[38;5;124m\"\u001b[39m] \u001b[38;5;241m=\u001b[39m \u001b[43mml_movies\u001b[49m[\u001b[38;5;124m\"\u001b[39m\u001b[38;5;124mgenres\u001b[39m\u001b[38;5;124m\"\u001b[39m]\u001b[38;5;241m.\u001b[39mstr\u001b[38;5;241m.\u001b[39msplit(\u001b[38;5;124m\"\u001b[39m\u001b[38;5;124m|\u001b[39m\u001b[38;5;124m\"\u001b[39m)\n",
      "\u001b[0;31mNameError\u001b[0m: name 'ml_movies' is not defined"
     ]
    }
   ],
   "source": [
    "# split genres into a list for easy use\n",
    "ml_movies[\"genres\"] = ml_movies[\"genres\"].str.split(\"|\")\n"
   ]
  },
  {
   "cell_type": "code",
   "execution_count": 5,
   "metadata": {
    "id": "QoKWs9agQWK1"
   },
   "outputs": [
    {
     "ename": "NameError",
     "evalue": "name 'ml_tags' is not defined",
     "output_type": "error",
     "traceback": [
      "\u001b[0;31m---------------------------------------------------------------------------\u001b[0m",
      "\u001b[0;31mNameError\u001b[0m                                 Traceback (most recent call last)",
      "Input \u001b[0;32mIn [5]\u001b[0m, in \u001b[0;36m<cell line: 4>\u001b[0;34m()\u001b[0m\n\u001b[1;32m      1\u001b[0m \u001b[38;5;66;03m# cleanup movie tags and gather all tags per movie for consistency\u001b[39;00m\n\u001b[1;32m      2\u001b[0m \n\u001b[1;32m      3\u001b[0m \u001b[38;5;66;03m# remove punctuation and whitespace from tags\u001b[39;00m\n\u001b[0;32m----> 4\u001b[0m ml_tags[\u001b[38;5;124m\"\u001b[39m\u001b[38;5;124mtag\u001b[39m\u001b[38;5;124m\"\u001b[39m] \u001b[38;5;241m=\u001b[39m \u001b[43mml_tags\u001b[49m[\u001b[38;5;124m\"\u001b[39m\u001b[38;5;124mtag\u001b[39m\u001b[38;5;124m\"\u001b[39m]\u001b[38;5;241m.\u001b[39mapply(\u001b[38;5;28;01mlambda\u001b[39;00m x: prep_string(x))\n\u001b[1;32m      6\u001b[0m \u001b[38;5;66;03m# replace tags with their stemmed versions for comparison\u001b[39;00m\n\u001b[1;32m      7\u001b[0m ml_tags[\u001b[38;5;124m\"\u001b[39m\u001b[38;5;124mtag\u001b[39m\u001b[38;5;124m\"\u001b[39m] \u001b[38;5;241m=\u001b[39m ml_tags[\u001b[38;5;124m\"\u001b[39m\u001b[38;5;124mtag\u001b[39m\u001b[38;5;124m\"\u001b[39m]\u001b[38;5;241m.\u001b[39mapply(\u001b[38;5;28;01mlambda\u001b[39;00m x: stem_words(x))\n",
      "\u001b[0;31mNameError\u001b[0m: name 'ml_tags' is not defined"
     ]
    }
   ],
   "source": [
    "# cleanup movie tags and gather all tags per movie for consistency\n",
    "\n",
    "# remove punctuation and whitespace from tags\n",
    "ml_tags[\"tag\"] = ml_tags[\"tag\"].apply(lambda x: prep_string(x))\n",
    "\n",
    "# replace tags with their stemmed versions for comparison\n",
    "ml_tags[\"tag\"] = ml_tags[\"tag\"].apply(lambda x: stem_words(x))\n",
    "\n",
    "# group tags by movie and create a list of unique tags for each movie to be appended to ml_movies\n",
    "ml_tags_by_movie = ml_tags.groupby(\"movieId\")[\"tag\"].apply(set).apply(list)\n",
    "ml_tags_by_movie = pd.DataFrame(ml_tags_by_movie).reset_index()\n",
    "\n",
    "# merge ml_tags_by_movie with ml_movies on movieId\n",
    "ml_movies = ml_movies.merge(ml_tags_by_movie, on=\"movieId\", how=\"left\")\n"
   ]
  },
  {
   "cell_type": "code",
   "execution_count": 6,
   "metadata": {
    "id": "TXYqgXhcQX-1"
   },
   "outputs": [
    {
     "ename": "NameError",
     "evalue": "name 'ml_ratings' is not defined",
     "output_type": "error",
     "traceback": [
      "\u001b[0;31m---------------------------------------------------------------------------\u001b[0m",
      "\u001b[0;31mNameError\u001b[0m                                 Traceback (most recent call last)",
      "Input \u001b[0;32mIn [6]\u001b[0m, in \u001b[0;36m<cell line: 4>\u001b[0;34m()\u001b[0m\n\u001b[1;32m      1\u001b[0m \u001b[38;5;66;03m# add aggregated movie lens rating information to DataFrame\u001b[39;00m\n\u001b[1;32m      2\u001b[0m ratings_agg \u001b[38;5;241m=\u001b[39m (\n\u001b[1;32m      3\u001b[0m     (\n\u001b[0;32m----> 4\u001b[0m         \u001b[43mml_ratings\u001b[49m\u001b[38;5;241m.\u001b[39mgroupby(\u001b[38;5;124m\"\u001b[39m\u001b[38;5;124mmovieId\u001b[39m\u001b[38;5;124m\"\u001b[39m)\n\u001b[1;32m      5\u001b[0m         \u001b[38;5;241m.\u001b[39magg({\u001b[38;5;124m\"\u001b[39m\u001b[38;5;124mrating\u001b[39m\u001b[38;5;124m\"\u001b[39m: [\u001b[38;5;124m\"\u001b[39m\u001b[38;5;124mmean\u001b[39m\u001b[38;5;124m\"\u001b[39m, \u001b[38;5;124m\"\u001b[39m\u001b[38;5;124mcount\u001b[39m\u001b[38;5;124m\"\u001b[39m, \u001b[38;5;124m\"\u001b[39m\u001b[38;5;124mmedian\u001b[39m\u001b[38;5;124m\"\u001b[39m, \u001b[38;5;124m\"\u001b[39m\u001b[38;5;124mstd\u001b[39m\u001b[38;5;124m\"\u001b[39m]})\n\u001b[1;32m      6\u001b[0m         \u001b[38;5;241m.\u001b[39mreset_index()\n\u001b[1;32m      7\u001b[0m     )\n\u001b[1;32m      8\u001b[0m     \u001b[38;5;241m.\u001b[39mdroplevel(level\u001b[38;5;241m=\u001b[39m\u001b[38;5;241m0\u001b[39m, axis\u001b[38;5;241m=\u001b[39m\u001b[38;5;241m1\u001b[39m)\n\u001b[1;32m      9\u001b[0m     \u001b[38;5;241m.\u001b[39mrename(\n\u001b[1;32m     10\u001b[0m         columns\u001b[38;5;241m=\u001b[39m{\n\u001b[1;32m     11\u001b[0m             \u001b[38;5;124m\"\u001b[39m\u001b[38;5;124m\"\u001b[39m: \u001b[38;5;124m\"\u001b[39m\u001b[38;5;124mmovieId\u001b[39m\u001b[38;5;124m\"\u001b[39m,\n\u001b[1;32m     12\u001b[0m             \u001b[38;5;124m\"\u001b[39m\u001b[38;5;124mmean\u001b[39m\u001b[38;5;124m\"\u001b[39m: \u001b[38;5;124m\"\u001b[39m\u001b[38;5;124mrating_mean\u001b[39m\u001b[38;5;124m\"\u001b[39m,\n\u001b[1;32m     13\u001b[0m             \u001b[38;5;124m\"\u001b[39m\u001b[38;5;124mcount\u001b[39m\u001b[38;5;124m\"\u001b[39m: \u001b[38;5;124m\"\u001b[39m\u001b[38;5;124mrating_count\u001b[39m\u001b[38;5;124m\"\u001b[39m,\n\u001b[1;32m     14\u001b[0m             \u001b[38;5;124m\"\u001b[39m\u001b[38;5;124mmedian\u001b[39m\u001b[38;5;124m\"\u001b[39m: \u001b[38;5;124m\"\u001b[39m\u001b[38;5;124mrating_median\u001b[39m\u001b[38;5;124m\"\u001b[39m,\n\u001b[1;32m     15\u001b[0m             \u001b[38;5;124m\"\u001b[39m\u001b[38;5;124mstd\u001b[39m\u001b[38;5;124m\"\u001b[39m: \u001b[38;5;124m\"\u001b[39m\u001b[38;5;124mrating_std\u001b[39m\u001b[38;5;124m\"\u001b[39m,\n\u001b[1;32m     16\u001b[0m         }\n\u001b[1;32m     17\u001b[0m     )\n\u001b[1;32m     18\u001b[0m )\n\u001b[1;32m     20\u001b[0m ml_movies \u001b[38;5;241m=\u001b[39m ml_movies\u001b[38;5;241m.\u001b[39mmerge(ratings_agg, on\u001b[38;5;241m=\u001b[39m\u001b[38;5;124m\"\u001b[39m\u001b[38;5;124mmovieId\u001b[39m\u001b[38;5;124m\"\u001b[39m, how\u001b[38;5;241m=\u001b[39m\u001b[38;5;124m\"\u001b[39m\u001b[38;5;124mleft\u001b[39m\u001b[38;5;124m\"\u001b[39m)\u001b[38;5;241m.\u001b[39mround(\u001b[38;5;241m1\u001b[39m)\n",
      "\u001b[0;31mNameError\u001b[0m: name 'ml_ratings' is not defined"
     ]
    }
   ],
   "source": [
    "# add aggregated movie lens rating information to DataFrame\n",
    "ratings_agg = (\n",
    "    (\n",
    "        ml_ratings.groupby(\"movieId\")\n",
    "        .agg({\"rating\": [\"mean\", \"count\", \"median\", \"std\"]})\n",
    "        .reset_index()\n",
    "    )\n",
    "    .droplevel(level=0, axis=1)\n",
    "    .rename(\n",
    "        columns={\n",
    "            \"\": \"movieId\",\n",
    "            \"mean\": \"rating_mean\",\n",
    "            \"count\": \"rating_count\",\n",
    "            \"median\": \"rating_median\",\n",
    "            \"std\": \"rating_std\",\n",
    "        }\n",
    "    )\n",
    ")\n",
    "\n",
    "ml_movies = ml_movies.merge(ratings_agg, on=\"movieId\", how=\"left\").round(1)\n"
   ]
  },
  {
   "cell_type": "code",
   "execution_count": 32,
   "metadata": {
    "id": "2vrLlMHpfTu7"
   },
   "outputs": [],
   "source": [
    "# uncomment the following line to see the merged DataFrame\n",
    "# ml_movies.head(1)\n"
   ]
  },
  {
   "cell_type": "markdown",
   "metadata": {
    "id": "p0PIlCHaKgLs"
   },
   "source": [
    "# Joining movie lens and imdb\n"
   ]
  },
  {
   "cell_type": "code",
   "execution_count": 33,
   "metadata": {
    "id": "Hrh8Dl-PKwjW"
   },
   "outputs": [],
   "source": [
    "ml_movies.merge(imdb_reviews, on=[\"title\", \"year\"], how=\"inner\").to_csv(\n",
    "    \"ml_movies_imdb_joined.csv\", index=False\n",
    ")\n"
   ]
  },
  {
   "cell_type": "markdown",
   "metadata": {
    "id": "UGVrUFYwGLSH"
   },
   "source": [
    "# Exploring the MovieLens Dataset\n",
    "\n",
    "The Movielens dataset is a popular resource for movie ratings, containing over\n",
    "27,000 movies and their respective ratings from a diverse group of users.\n"
   ]
  },
  {
   "cell_type": "markdown",
   "metadata": {
    "id": "nxIQSnx4GQkc"
   },
   "source": [
    "## Analyzing Movies by Popularity\n",
    "\n",
    "This bar chart is useful for quickly identifying the most popular or highly\n",
    "rated movies in the dataset.\n"
   ]
  },
  {
   "cell_type": "code",
   "execution_count": 34,
   "metadata": {
    "id": "RZTYx0NAjFXB"
   },
   "outputs": [],
   "source": [
    "ml_ratings_scale = alt.Scale(domain=[0, 5])\n",
    "imdb_ratings_scale = alt.Scale(domain=[0, 10])\n"
   ]
  },
  {
   "cell_type": "code",
   "execution_count": 35,
   "metadata": {
    "id": "YP28YfXzGR6l"
   },
   "outputs": [
    {
     "data": {
      "text/html": [
       "\n",
       "<div id=\"altair-viz-ff60a7d4e4a24a22a69c386c226663cd\"></div>\n",
       "<script type=\"text/javascript\">\n",
       "  var VEGA_DEBUG = (typeof VEGA_DEBUG == \"undefined\") ? {} : VEGA_DEBUG;\n",
       "  (function(spec, embedOpt){\n",
       "    let outputDiv = document.currentScript.previousElementSibling;\n",
       "    if (outputDiv.id !== \"altair-viz-ff60a7d4e4a24a22a69c386c226663cd\") {\n",
       "      outputDiv = document.getElementById(\"altair-viz-ff60a7d4e4a24a22a69c386c226663cd\");\n",
       "    }\n",
       "    const paths = {\n",
       "      \"vega\": \"https://cdn.jsdelivr.net/npm//vega@5?noext\",\n",
       "      \"vega-lib\": \"https://cdn.jsdelivr.net/npm//vega-lib?noext\",\n",
       "      \"vega-lite\": \"https://cdn.jsdelivr.net/npm//vega-lite@4.17.0?noext\",\n",
       "      \"vega-embed\": \"https://cdn.jsdelivr.net/npm//vega-embed@6?noext\",\n",
       "    };\n",
       "\n",
       "    function maybeLoadScript(lib, version) {\n",
       "      var key = `${lib.replace(\"-\", \"\")}_version`;\n",
       "      return (VEGA_DEBUG[key] == version) ?\n",
       "        Promise.resolve(paths[lib]) :\n",
       "        new Promise(function(resolve, reject) {\n",
       "          var s = document.createElement('script');\n",
       "          document.getElementsByTagName(\"head\")[0].appendChild(s);\n",
       "          s.async = true;\n",
       "          s.onload = () => {\n",
       "            VEGA_DEBUG[key] = version;\n",
       "            return resolve(paths[lib]);\n",
       "          };\n",
       "          s.onerror = () => reject(`Error loading script: ${paths[lib]}`);\n",
       "          s.src = paths[lib];\n",
       "        });\n",
       "    }\n",
       "\n",
       "    function showError(err) {\n",
       "      outputDiv.innerHTML = `<div class=\"error\" style=\"color:red;\">${err}</div>`;\n",
       "      throw err;\n",
       "    }\n",
       "\n",
       "    function displayChart(vegaEmbed) {\n",
       "      vegaEmbed(outputDiv, spec, embedOpt)\n",
       "        .catch(err => showError(`Javascript Error: ${err.message}<br>This usually means there's a typo in your chart specification. See the javascript console for the full traceback.`));\n",
       "    }\n",
       "\n",
       "    if(typeof define === \"function\" && define.amd) {\n",
       "      requirejs.config({paths});\n",
       "      require([\"vega-embed\"], displayChart, err => showError(`Error loading script: ${err.message}`));\n",
       "    } else {\n",
       "      maybeLoadScript(\"vega\", \"5\")\n",
       "        .then(() => maybeLoadScript(\"vega-lite\", \"4.17.0\"))\n",
       "        .then(() => maybeLoadScript(\"vega-embed\", \"6\"))\n",
       "        .catch(showError)\n",
       "        .then(() => displayChart(vegaEmbed));\n",
       "    }\n",
       "  })({\"usermeta\": {\"embedOptions\": {\"theme\": \"fivethirtyeight\"}}, \"config\": {\"view\": {\"continuousWidth\": 400, \"continuousHeight\": 300, \"height\": 256, \"width\": 512}, \"axis\": {\"grid\": false}}, \"data\": {\"name\": \"data-393d7357fe0ecf3c4d1380e265475e7c\"}, \"mark\": \"bar\", \"encoding\": {\"tooltip\": [{\"field\": \"title\", \"type\": \"nominal\"}, {\"field\": \"year\", \"type\": \"ordinal\"}, {\"field\": \"rating_mean\", \"type\": \"quantitative\"}, {\"field\": \"rating_count\", \"type\": \"quantitative\"}, {\"field\": \"movieId\", \"type\": \"nominal\"}], \"x\": {\"field\": \"rating_mean\", \"scale\": {\"domain\": [0, 5]}, \"title\": \"Rating\", \"type\": \"quantitative\"}, \"y\": {\"field\": \"title\", \"sort\": \"-x\", \"title\": \"Title\", \"type\": \"nominal\"}}, \"title\": {\"text\": \"MovieLens' Top Movies\"}, \"$schema\": \"https://vega.github.io/schema/vega-lite/v4.17.0.json\", \"datasets\": {\"data-393d7357fe0ecf3c4d1380e265475e7c\": [{\"title\": \"interstellar\", \"year\": \"2014\", \"movieId\": 109487, \"genres\": \"Sci-Fi\", \"rating_count\": 22634, \"rating_mean\": 4.1}, {\"title\": \"no country for old men\", \"year\": \"2007\", \"movieId\": 55820, \"genres\": \"Crime\", \"rating_count\": 18474, \"rating_mean\": 4.0}, {\"title\": \"zombieland\", \"year\": \"2009\", \"movieId\": 71535, \"genres\": \"Action\", \"rating_count\": 13628, \"rating_mean\": 3.8}, {\"title\": \"coraline\", \"year\": \"2009\", \"movieId\": 66097, \"genres\": \"Animation\", \"rating_count\": 6530, \"rating_mean\": 3.7}, {\"title\": \"up in the air\", \"year\": \"2009\", \"movieId\": 72011, \"genres\": \"Drama\", \"rating_count\": 6325, \"rating_mean\": 3.7}, {\"title\": \"real steel\", \"year\": \"2011\", \"movieId\": 90249, \"genres\": \"Action\", \"rating_count\": 2667, \"rating_mean\": 3.3}, {\"title\": \"spy\", \"year\": \"2015\", \"movieId\": 134368, \"genres\": \"Action\", \"rating_count\": 2608, \"rating_mean\": 3.5}, {\"title\": \"sucker punch\", \"year\": \"2011\", \"movieId\": 85510, \"genres\": \"Action\", \"rating_count\": 2436, \"rating_mean\": 2.9}, {\"title\": \"warm bodies\", \"year\": \"2013\", \"movieId\": 99007, \"genres\": \"Comedy\", \"rating_count\": 2261, \"rating_mean\": 3.3}, {\"title\": \"rio\", \"year\": \"2011\", \"movieId\": 86298, \"genres\": \"Adventure\", \"rating_count\": 2004, \"rating_mean\": 3.2}]}}, {\"mode\": \"vega-lite\"});\n",
       "</script>"
      ],
      "text/plain": [
       "alt.Chart(...)"
      ]
     },
     "execution_count": 35,
     "metadata": {},
     "output_type": "execute_result"
    }
   ],
   "source": [
    "def barchart_top_movies(\n",
    "    df: pd.DataFrame = ml_movies,\n",
    "    rating_col: str = \"rating_mean\",\n",
    "    rating_counts_col: str = \"rating_count\",\n",
    "    limit=10,\n",
    "    descending=False,\n",
    "):\n",
    "    \"\"\"Populates a barchart with the most popular movies.\"\"\"\n",
    "\n",
    "    mdf = df.copy()\n",
    "    mdf[\"genres\"] = mdf[\"genres\"].apply(lambda x: x[0] if isinstance(x, list) else \"\")\n",
    "    mdf = (\n",
    "        mdf.groupby([\"title\", \"year\", \"movieId\", \"genres\"])\n",
    "        .agg({rating_counts_col: \"sum\", rating_col: \"mean\"})\n",
    "        .sort_values([rating_counts_col, rating_col], ascending=False)\n",
    "        .dropna()\n",
    "    )\n",
    "\n",
    "    if descending:\n",
    "        mdf = mdf.tail(limit).reset_index()\n",
    "    else:\n",
    "        mdf = mdf.head(limit).reset_index\n",
    "\n",
    "    return (\n",
    "        alt.Chart(mdf)\n",
    "        .mark_bar()\n",
    "        .encode(\n",
    "            x=alt.X(f\"{rating_col}:Q\", title=\"Rating\", scale=ml_ratings_scale),\n",
    "            y=alt.Y(\"title:N\", title=\"Title\", sort=\"-x\"),\n",
    "            tooltip=[\n",
    "                \"title:N\",\n",
    "                \"year:O\",\n",
    "                f\"{rating_col}:Q\",\n",
    "                f\"{rating_counts_col}:Q\",\n",
    "                \"movieId:N\",\n",
    "            ],\n",
    "        )\n",
    "        .configure_axis(grid=False)\n",
    "        .configure_view(width=512, height=256)\n",
    "    )\n",
    "\n",
    "\n",
    "barchart_top_movies().properties(title={\"text\": \"MovieLens' Top Movies\"})"
   ]
  },
  {
   "cell_type": "markdown",
   "metadata": {
    "id": "Kc8xhjrNGqK9"
   },
   "source": [
    "The Shawshawnk Redemption (`id:318`) ranks 1 followed by Schindlers List\n",
    "(`id:527`) - both movies are highly regarded by critics.\n"
   ]
  },
  {
   "cell_type": "code",
   "execution_count": 38,
   "metadata": {
    "id": "WfaLdpTJOMCI"
   },
   "outputs": [
    {
     "data": {
      "text/html": [
       "\n",
       "<div id=\"altair-viz-5e48bd99f4134fe6a14a584d3f55a6a1\"></div>\n",
       "<script type=\"text/javascript\">\n",
       "  var VEGA_DEBUG = (typeof VEGA_DEBUG == \"undefined\") ? {} : VEGA_DEBUG;\n",
       "  (function(spec, embedOpt){\n",
       "    let outputDiv = document.currentScript.previousElementSibling;\n",
       "    if (outputDiv.id !== \"altair-viz-5e48bd99f4134fe6a14a584d3f55a6a1\") {\n",
       "      outputDiv = document.getElementById(\"altair-viz-5e48bd99f4134fe6a14a584d3f55a6a1\");\n",
       "    }\n",
       "    const paths = {\n",
       "      \"vega\": \"https://cdn.jsdelivr.net/npm//vega@5?noext\",\n",
       "      \"vega-lib\": \"https://cdn.jsdelivr.net/npm//vega-lib?noext\",\n",
       "      \"vega-lite\": \"https://cdn.jsdelivr.net/npm//vega-lite@4.17.0?noext\",\n",
       "      \"vega-embed\": \"https://cdn.jsdelivr.net/npm//vega-embed@6?noext\",\n",
       "    };\n",
       "\n",
       "    function maybeLoadScript(lib, version) {\n",
       "      var key = `${lib.replace(\"-\", \"\")}_version`;\n",
       "      return (VEGA_DEBUG[key] == version) ?\n",
       "        Promise.resolve(paths[lib]) :\n",
       "        new Promise(function(resolve, reject) {\n",
       "          var s = document.createElement('script');\n",
       "          document.getElementsByTagName(\"head\")[0].appendChild(s);\n",
       "          s.async = true;\n",
       "          s.onload = () => {\n",
       "            VEGA_DEBUG[key] = version;\n",
       "            return resolve(paths[lib]);\n",
       "          };\n",
       "          s.onerror = () => reject(`Error loading script: ${paths[lib]}`);\n",
       "          s.src = paths[lib];\n",
       "        });\n",
       "    }\n",
       "\n",
       "    function showError(err) {\n",
       "      outputDiv.innerHTML = `<div class=\"error\" style=\"color:red;\">${err}</div>`;\n",
       "      throw err;\n",
       "    }\n",
       "\n",
       "    function displayChart(vegaEmbed) {\n",
       "      vegaEmbed(outputDiv, spec, embedOpt)\n",
       "        .catch(err => showError(`Javascript Error: ${err.message}<br>This usually means there's a typo in your chart specification. See the javascript console for the full traceback.`));\n",
       "    }\n",
       "\n",
       "    if(typeof define === \"function\" && define.amd) {\n",
       "      requirejs.config({paths});\n",
       "      require([\"vega-embed\"], displayChart, err => showError(`Error loading script: ${err.message}`));\n",
       "    } else {\n",
       "      maybeLoadScript(\"vega\", \"5\")\n",
       "        .then(() => maybeLoadScript(\"vega-lite\", \"4.17.0\"))\n",
       "        .then(() => maybeLoadScript(\"vega-embed\", \"6\"))\n",
       "        .catch(showError)\n",
       "        .then(() => displayChart(vegaEmbed));\n",
       "    }\n",
       "  })({\"usermeta\": {\"embedOptions\": {\"theme\": \"fivethirtyeight\"}}, \"config\": {\"view\": {\"continuousWidth\": 400, \"continuousHeight\": 300, \"height\": 256, \"width\": 512}, \"axis\": {\"grid\": false}}, \"data\": {\"name\": \"data-4d38550e6670fad2e115fcb8b16806f1\"}, \"mark\": \"bar\", \"encoding\": {\"tooltip\": [{\"field\": \"title\", \"type\": \"nominal\"}, {\"field\": \"year\", \"type\": \"ordinal\"}, {\"field\": \"rating_mean\", \"type\": \"quantitative\"}, {\"field\": \"rating_count\", \"type\": \"quantitative\"}, {\"field\": \"movieId\", \"type\": \"nominal\"}], \"x\": {\"field\": \"rating_mean\", \"scale\": {\"domain\": [0, 5]}, \"title\": \"Rating\", \"type\": \"quantitative\"}, \"y\": {\"field\": \"title\", \"sort\": \"-x\", \"title\": \"Title\", \"type\": \"nominal\"}}, \"title\": {\"text\": \"MovieLens' least popular movies\"}, \"$schema\": \"https://vega.github.io/schema/vega-lite/v4.17.0.json\", \"datasets\": {\"data-4d38550e6670fad2e115fcb8b16806f1\": [{\"title\": \"the apostle\", \"year\": \"2012\", \"movieId\": 182459, \"genres\": \"(no genres listed)\", \"rating_count\": 4, \"rating_mean\": 3.4}, {\"title\": \"the last flight\", \"year\": \"2009\", \"movieId\": 124535, \"genres\": \"Adventure\", \"rating_count\": 3, \"rating_mean\": 3.0}, {\"title\": \"the strange ones\", \"year\": \"2011\", \"movieId\": 169778, \"genres\": \"Drama\", \"rating_count\": 3, \"rating_mean\": 3.0}, {\"title\": \"kitty\", \"year\": \"2016\", \"movieId\": 189207, \"genres\": \"Fantasy\", \"rating_count\": 3, \"rating_mean\": 2.7}, {\"title\": \"baar baar dekho\", \"year\": \"2016\", \"movieId\": 178489, \"genres\": \"Action\", \"rating_count\": 3, \"rating_mean\": 2.0}, {\"title\": \"wolf\", \"year\": \"2008\", \"movieId\": 148078, \"genres\": \"Action\", \"rating_count\": 2, \"rating_mean\": 3.0}, {\"title\": \"spaceman\", \"year\": \"2016\", \"movieId\": 165895, \"genres\": \"Comedy\", \"rating_count\": 2, \"rating_mean\": 2.2}, {\"title\": \"tik tok\", \"year\": \"2016\", \"movieId\": 164381, \"genres\": \"Action\", \"rating_count\": 2, \"rating_mean\": 1.8}, {\"title\": \"vipers\", \"year\": \"2008\", \"movieId\": 152465, \"genres\": \"Action\", \"rating_count\": 2, \"rating_mean\": 1.8}, {\"title\": \"autumn blood\", \"year\": \"2013\", \"movieId\": 181249, \"genres\": \"Drama\", \"rating_count\": 2, \"rating_mean\": 0.8}]}}, {\"mode\": \"vega-lite\"});\n",
       "</script>"
      ],
      "text/plain": [
       "alt.Chart(...)"
      ]
     },
     "execution_count": 38,
     "metadata": {},
     "output_type": "execute_result"
    }
   ],
   "source": [
    "barchart_top_movies(descending=True).properties(\n",
    "    title={\"text\": \"MovieLens' least popular movies\"}\n",
    ")\n"
   ]
  },
  {
   "cell_type": "markdown",
   "metadata": {
    "id": "mOizbCZHGrUC"
   },
   "source": [
    "## MovieLens Average Rating per Genre\n",
    "\n",
    "This bar chart can be useful for quickly identifying which movie genres tend to\n",
    "be rated more highly by users in the Movielens dataset, and can provide insights\n",
    "into which genres may be more popular or highly regarded by a large sample of\n",
    "moviegoers.\n"
   ]
  },
  {
   "cell_type": "code",
   "execution_count": 39,
   "metadata": {
    "id": "sKPl7tvAGtFq"
   },
   "outputs": [
    {
     "data": {
      "text/html": [
       "\n",
       "<div id=\"altair-viz-ead5707a13744b4f8b49d5a09460c1df\"></div>\n",
       "<script type=\"text/javascript\">\n",
       "  var VEGA_DEBUG = (typeof VEGA_DEBUG == \"undefined\") ? {} : VEGA_DEBUG;\n",
       "  (function(spec, embedOpt){\n",
       "    let outputDiv = document.currentScript.previousElementSibling;\n",
       "    if (outputDiv.id !== \"altair-viz-ead5707a13744b4f8b49d5a09460c1df\") {\n",
       "      outputDiv = document.getElementById(\"altair-viz-ead5707a13744b4f8b49d5a09460c1df\");\n",
       "    }\n",
       "    const paths = {\n",
       "      \"vega\": \"https://cdn.jsdelivr.net/npm//vega@5?noext\",\n",
       "      \"vega-lib\": \"https://cdn.jsdelivr.net/npm//vega-lib?noext\",\n",
       "      \"vega-lite\": \"https://cdn.jsdelivr.net/npm//vega-lite@4.17.0?noext\",\n",
       "      \"vega-embed\": \"https://cdn.jsdelivr.net/npm//vega-embed@6?noext\",\n",
       "    };\n",
       "\n",
       "    function maybeLoadScript(lib, version) {\n",
       "      var key = `${lib.replace(\"-\", \"\")}_version`;\n",
       "      return (VEGA_DEBUG[key] == version) ?\n",
       "        Promise.resolve(paths[lib]) :\n",
       "        new Promise(function(resolve, reject) {\n",
       "          var s = document.createElement('script');\n",
       "          document.getElementsByTagName(\"head\")[0].appendChild(s);\n",
       "          s.async = true;\n",
       "          s.onload = () => {\n",
       "            VEGA_DEBUG[key] = version;\n",
       "            return resolve(paths[lib]);\n",
       "          };\n",
       "          s.onerror = () => reject(`Error loading script: ${paths[lib]}`);\n",
       "          s.src = paths[lib];\n",
       "        });\n",
       "    }\n",
       "\n",
       "    function showError(err) {\n",
       "      outputDiv.innerHTML = `<div class=\"error\" style=\"color:red;\">${err}</div>`;\n",
       "      throw err;\n",
       "    }\n",
       "\n",
       "    function displayChart(vegaEmbed) {\n",
       "      vegaEmbed(outputDiv, spec, embedOpt)\n",
       "        .catch(err => showError(`Javascript Error: ${err.message}<br>This usually means there's a typo in your chart specification. See the javascript console for the full traceback.`));\n",
       "    }\n",
       "\n",
       "    if(typeof define === \"function\" && define.amd) {\n",
       "      requirejs.config({paths});\n",
       "      require([\"vega-embed\"], displayChart, err => showError(`Error loading script: ${err.message}`));\n",
       "    } else {\n",
       "      maybeLoadScript(\"vega\", \"5\")\n",
       "        .then(() => maybeLoadScript(\"vega-lite\", \"4.17.0\"))\n",
       "        .then(() => maybeLoadScript(\"vega-embed\", \"6\"))\n",
       "        .catch(showError)\n",
       "        .then(() => displayChart(vegaEmbed));\n",
       "    }\n",
       "  })({\"usermeta\": {\"embedOptions\": {\"theme\": \"fivethirtyeight\"}}, \"config\": {\"view\": {\"continuousWidth\": 400, \"continuousHeight\": 300, \"height\": 256, \"width\": 512}, \"axis\": {\"grid\": false}}, \"data\": {\"name\": \"data-4058fe2ef046e395d6a6730e9e468968\"}, \"mark\": \"bar\", \"encoding\": {\"tooltip\": [{\"field\": \"rating_count\", \"type\": \"quantitative\"}], \"x\": {\"field\": \"rating_mean\", \"scale\": {\"domain\": [0, 5]}, \"title\": \"Rating\", \"type\": \"quantitative\"}, \"y\": {\"field\": \"genres\", \"sort\": \"-x\", \"title\": \"Genre\", \"type\": \"nominal\"}}, \"title\": {\"text\": \"MovieLens average rating per genre\"}, \"$schema\": \"https://vega.github.io/schema/vega-lite/v4.17.0.json\", \"datasets\": {\"data-4058fe2ef046e395d6a6730e9e468968\": [{\"genres\": \"(no genres listed)\", \"rating_count\": 31, \"rating_mean\": 2.75}, {\"genres\": \"Action\", \"rating_count\": 24680, \"rating_mean\": 2.8684210526315788}, {\"genres\": \"Adventure\", \"rating_count\": 5884, \"rating_mean\": 3.2299999999999995}, {\"genres\": \"Animation\", \"rating_count\": 10714, \"rating_mean\": 3.1}, {\"genres\": \"Children\", \"rating_count\": 4105, \"rating_mean\": 2.783333333333333}, {\"genres\": \"Comedy\", \"rating_count\": 26210, \"rating_mean\": 3.0441176470588234}, {\"genres\": \"Crime\", \"rating_count\": 22588, \"rating_mean\": 3.2399999999999998}, {\"genres\": \"Drama\", \"rating_count\": 39072, \"rating_mean\": 3.15}, {\"genres\": \"Fantasy\", \"rating_count\": 13064, \"rating_mean\": 3.2625}, {\"genres\": \"Horror\", \"rating_count\": 17215, \"rating_mean\": 2.772222222222222}, {\"genres\": \"IMAX\", \"rating_count\": 27737, \"rating_mean\": 3.433333333333333}, {\"genres\": \"Musical\", \"rating_count\": 636, \"rating_mean\": 3.6}, {\"genres\": \"Mystery\", \"rating_count\": 3008, \"rating_mean\": 3.0125}, {\"genres\": \"Romance\", \"rating_count\": 12221, \"rating_mean\": 3.235294117647059}, {\"genres\": \"Sci-Fi\", \"rating_count\": 26139, \"rating_mean\": 2.82}, {\"genres\": \"Thriller\", \"rating_count\": 13807, \"rating_mean\": 2.895652173913043}, {\"genres\": \"War\", \"rating_count\": 12, \"rating_mean\": 2.6}]}}, {\"mode\": \"vega-lite\"});\n",
       "</script>"
      ],
      "text/plain": [
       "alt.Chart(...)"
      ]
     },
     "execution_count": 39,
     "metadata": {},
     "output_type": "execute_result"
    }
   ],
   "source": [
    "def ratings_by_genre(df=ml_movies):\n",
    "    mdf = df.copy()\n",
    "    mdf = (\n",
    "        mdf.explode(\"genres\")\n",
    "        .groupby([\"genres\"])\n",
    "        .agg({\"rating_count\": \"sum\", \"rating_mean\": \"mean\"})\n",
    "    ).reset_index()\n",
    "\n",
    "    chart = (\n",
    "        alt.Chart(mdf)\n",
    "        .mark_bar()\n",
    "        .encode(\n",
    "            x=alt.X(\"rating_mean:Q\", title=\"Rating\", scale=ml_ratings_scale),\n",
    "            y=alt.Y(\"genres:N\", title=\"Genre\", sort=\"-x\"),\n",
    "            tooltip=[\"rating_count:Q\"],\n",
    "        )\n",
    "        .configure_axis(grid=False)\n",
    "        .configure_view(width=512, height=256)\n",
    "        .properties(title={\"text\": \"MovieLens average rating per genre\"})\n",
    "    )\n",
    "\n",
    "    return chart\n",
    "\n",
    "\n",
    "ratings_by_genre()\n"
   ]
  },
  {
   "cell_type": "markdown",
   "metadata": {
    "id": "wdvVeQN0GxEo"
   },
   "source": [
    "# Exploring the IMDB Movie Ratings Dataset\n",
    "\n",
    "The IMDB ratings dataset is a collection of movie ratings from the popular\n",
    "website IMDB, which provides users with an opportunity to rate movies on a scale\n",
    "of 1-10.\n"
   ]
  },
  {
   "cell_type": "markdown",
   "metadata": {
    "id": "A4r5Dwx6GyxY"
   },
   "source": [
    "## Understanding the distribution of the IMDB Movie ratings\n",
    "\n",
    "The histogram below is useful in displaying the distribution of movie ratings,\n",
    "which can provide insight into how users tend to rate movies and what patterns\n",
    "or trends may exist in the data.\n"
   ]
  },
  {
   "cell_type": "code",
   "execution_count": 40,
   "metadata": {
    "id": "RWLdHPWLGz_q"
   },
   "outputs": [],
   "source": [
    "alt.data_transformers.disable_max_rows()\n",
    "\n",
    "\n",
    "def get_rating_distribution(df=imdb_reviews):\n",
    "    df = df.copy()\n",
    "    return (\n",
    "        alt.Chart(df)\n",
    "        .mark_bar()\n",
    "        .encode(\n",
    "            alt.X(\"rating:Q\", bin=True, title=\"Rating\", scale=imdb_ratings_scale),\n",
    "            y=alt.Y(\"count()\", title=\"Number of Reviews\"),\n",
    "        )\n",
    "        .configure_axis(grid=False)\n",
    "        .configure_view(width=512, height=256)\n",
    "        .properties(title={\"text\": \"Rating Distribution Across Movies\", \"fontSize\": 20})\n",
    "    )\n"
   ]
  },
  {
   "cell_type": "code",
   "execution_count": 41,
   "metadata": {
    "id": "zVu7vRhLTl01"
   },
   "outputs": [
    {
     "data": {
      "text/html": [
       "\n",
       "<div id=\"altair-viz-f00f227f0108429490ca8ef7a572dbf9\"></div>\n",
       "<script type=\"text/javascript\">\n",
       "  var VEGA_DEBUG = (typeof VEGA_DEBUG == \"undefined\") ? {} : VEGA_DEBUG;\n",
       "  (function(spec, embedOpt){\n",
       "    let outputDiv = document.currentScript.previousElementSibling;\n",
       "    if (outputDiv.id !== \"altair-viz-f00f227f0108429490ca8ef7a572dbf9\") {\n",
       "      outputDiv = document.getElementById(\"altair-viz-f00f227f0108429490ca8ef7a572dbf9\");\n",
       "    }\n",
       "    const paths = {\n",
       "      \"vega\": \"https://cdn.jsdelivr.net/npm//vega@5?noext\",\n",
       "      \"vega-lib\": \"https://cdn.jsdelivr.net/npm//vega-lib?noext\",\n",
       "      \"vega-lite\": \"https://cdn.jsdelivr.net/npm//vega-lite@4.17.0?noext\",\n",
       "      \"vega-embed\": \"https://cdn.jsdelivr.net/npm//vega-embed@6?noext\",\n",
       "    };\n",
       "\n",
       "    function maybeLoadScript(lib, version) {\n",
       "      var key = `${lib.replace(\"-\", \"\")}_version`;\n",
       "      return (VEGA_DEBUG[key] == version) ?\n",
       "        Promise.resolve(paths[lib]) :\n",
       "        new Promise(function(resolve, reject) {\n",
       "          var s = document.createElement('script');\n",
       "          document.getElementsByTagName(\"head\")[0].appendChild(s);\n",
       "          s.async = true;\n",
       "          s.onload = () => {\n",
       "            VEGA_DEBUG[key] = version;\n",
       "            return resolve(paths[lib]);\n",
       "          };\n",
       "          s.onerror = () => reject(`Error loading script: ${paths[lib]}`);\n",
       "          s.src = paths[lib];\n",
       "        });\n",
       "    }\n",
       "\n",
       "    function showError(err) {\n",
       "      outputDiv.innerHTML = `<div class=\"error\" style=\"color:red;\">${err}</div>`;\n",
       "      throw err;\n",
       "    }\n",
       "\n",
       "    function displayChart(vegaEmbed) {\n",
       "      vegaEmbed(outputDiv, spec, embedOpt)\n",
       "        .catch(err => showError(`Javascript Error: ${err.message}<br>This usually means there's a typo in your chart specification. See the javascript console for the full traceback.`));\n",
       "    }\n",
       "\n",
       "    if(typeof define === \"function\" && define.amd) {\n",
       "      requirejs.config({paths});\n",
       "      require([\"vega-embed\"], displayChart, err => showError(`Error loading script: ${err.message}`));\n",
       "    } else {\n",
       "      maybeLoadScript(\"vega\", \"5\")\n",
       "        .then(() => maybeLoadScript(\"vega-lite\", \"4.17.0\"))\n",
       "        .then(() => maybeLoadScript(\"vega-embed\", \"6\"))\n",
       "        .catch(showError)\n",
       "        .then(() => displayChart(vegaEmbed));\n",
       "    }\n",
       "  })({\"usermeta\": {\"embedOptions\": {\"theme\": \"fivethirtyeight\"}}, \"config\": {\"view\": {\"continuousWidth\": 400, \"continuousHeight\": 300, \"height\": 256, \"width\": 512}, \"axis\": {\"grid\": false}}, \"data\": {\"name\": \"data-15666f12583dfb2358c14411636c3b4f\"}, \"mark\": \"bar\", \"encoding\": {\"x\": {\"bin\": true, \"field\": \"rating\", \"scale\": {\"domain\": [0, 10]}, \"title\": \"Rating\", \"type\": \"quantitative\"}, \"y\": {\"aggregate\": \"count\", \"title\": \"Number of Reviews\", \"type\": \"quantitative\"}}, \"title\": {\"text\": \"Rating Distribution Across Movies\", \"fontSize\": 20}, \"$schema\": \"https://vega.github.io/schema/vega-lite/v4.17.0.json\", \"datasets\": {\"data-15666f12583dfb2358c14411636c3b4f\": [{\"review_id\": \"rw1179735\", \"reviewer\": \"lloyd dobler\", \"movie\": \"Corpse Bride (2005)\", \"rating\": 3.0, \"review_summary\": \"what's with the hype?\", \"review_date\": \"25 September 2005\", \"spoiler_tag\": 0, \"review_detail\": \"alright. seriously. do you guys just like Tim Burton still, cause you still wanna be 'dark' and if you say you don't like something of his then you won't be able to hang out with your 'dark' friends anymore cause they'll call you an optimist? This isn't dark. It's a stereotypical script, where the stakes are too low and it took 3 people to write this? Seriously this guy wrote GO and Big Fish, great movies, but Willy Wonka and Corpse Bride, they didn't need to be told. Who cares?I would've felt something for the guy if he hadn't just met the woman he was being forced to marry, but why did I care if he married a corpse or not? I didn't. blah. Tim.(we're on a first name basis today, cause I paid to see this flick) Make something good again, remember how much you love great stories, like edward scissorhands and big fish, those are good. these are unnecessary.\", \"helpful\": [\"3\", \"15\"], \"title\": \"corpse bride\", \"year\": \"2005\"}, {\"review_id\": \"rw1170165\", \"reviewer\": \"susan7\", \"movie\": \"Hannie Caulder (1971)\", \"rating\": 8.0, \"review_summary\": \"They Made Her Mad\", \"review_date\": \"11 September 2005\", \"spoiler_tag\": 0, \"review_detail\": \"A nice musical score, with a good solo guitar sequence in the middle that recurs from time to time. The relationship between Hannie Caulder (Raquel Welch) and Thomas Luther Price (Robert Culp) matures over time and is the really interesting part of this film. Steven Boyd's bit part could have been left out altogether with no loss to the story. The three \\\"village idiots\\\" as I call them, provide some comic relief.The editing on the film was pretty bad. In one or two places, I think the negative was reversed, and in at least one place it seemed to me that a scene was inserted out of place, making the film somewhat choppy. Still, I have enjoyed the VHS edition and would very much like to replace it with a North American (Region 1) DVD version. When is it going to be available?\", \"helpful\": [\"9\", \"16\"], \"title\": \"hannie caulder\", \"year\": \"1971\"}, {\"review_id\": \"rw1243644\", \"reviewer\": \"drhackenstine\", \"movie\": \"The Toxic Avenger (1984)\", \"rating\": null, \"review_summary\": \"A Film Everyone Should See...\", \"review_date\": \"20 December 2005\", \"spoiler_tag\": 1, \"review_detail\": \"Melvin is a dork who works at the Tromaville Health Club. He's the mop boy. The jocky, smart-ass, racist, child-killing, old-lady beating teens who work out there despise him, and set up a prank which ends in disaster for Melvin. He falls into a barrel of toxic waste and goes through a horrible meltdown, but thats okay because he returns as THE TOXIC AVENGER. Armed with a mop, he seeks revenge on the horrible jocks and their snob-ass girlfriends, as well as the local cretins, thugs and just all-around bad-guys who make up Tromaville. This is one of my favorite movies, right along with Troma's Terror Firmer, and if that sounds lame then keep reading. Troma made a couple of bad-taste teen comedies before this that basically ripped off Porky's, but were in a more Airplane/Naked Gun league with dirtier, piggish, arm-pitted humor. Here, they took those aspects, added a lot of gore (in a comic-book way) and added a Mad Magazine mentality and created one hell of a good movie. There is a lot of violence in this, but if you can take violence, then you will see the humor here. Like I said it's like Mad Magazine. Bad-taste, gratuitous nudity, and racial slurs run rampant, but it comes off as a slap in the face to all the types of people who glorify that type of thing. It's good gory fun. This is the movie that put Troma on the map. They have made some of the best B movies out there. Class Of Nuke'em High, Troma's War, Tromeo And Juliet are all worth a look. They have released films by other people that are good too. Blood Hook, Cannibal!The Musical, Dead Dudes In The House prove to be good views. See this if you like movies. The sequels to The Toxic Avenger are not bad. The fourth being the best, the third being the worst. I remember this used to play on the USA Network, with all the violence and gore intact (pretty much) and had deleted scenes that were never before seen (by me at least ) until this hit DVD. Three Stars.\", \"helpful\": [\"0\", \"0\"], \"title\": \"the toxic avenger\", \"year\": \"1984\"}, {\"review_id\": \"rw1170235\", \"reviewer\": \"sandhirflora\", \"movie\": \"Iqbal (2005)\", \"rating\": 9.0, \"review_summary\": \"iqbal-a winner\", \"review_date\": \"9 September 2005\", \"spoiler_tag\": 0, \"review_detail\": \"Iqbal doesn't require those plain, ch..ya reviews but aggressive reviews. Call it a bouncer, a sixer, a century, whatever. The experience is as exhilarating. Welcome new cinema. Welcome Iqbal. A movie devoted to a criminally ignored aspect of cricket called bowling with so much of spunk, style, freshness, novelty and surprises that even those not interested in game find it simply irresistible. It has all the aces. Firstly, amazing stories and people happening in small towns too who are crying to be a part of mainstream but nobody really took notice of them. No need to add situational/ item numbers (read non situational)songs or beautiful bimbettes in the name of \\\"heroines\\\". Instead a brother-sister combo is remarkably portrayed. And when it starts talking cricket-the game, the passion, the technique, the struggle, the pain, the politics, the victory, everything beautifully woven interspersed in between in subtle humor such that it all looks as real as life itself in flesh and blood. The honors should equally be shared by background score, songs, cinematography, editing (especially), sound design and script. All performances are first rate. Ultimately, and at last a director's film-Nagesh Kukunoor's best among his six and not to forget a superb one coming from producers mukta arts years after. Three cheers. Now few Grey areas. The film slightly looses its crispness in certain parts such as-Iqbal trying hard to get Naseer to coach him; the struggle Iqbal went through after inducted in Ranji Team and lastly the film ends on a slightly abrupt note. But all these are minor diversions. Lastly, a word of advice to established set ups tried and tested, star-studded, NRI romances format of film making. Please step aside. Your turn is over. A New dawn has set. A New player in the offing. Indian films finally finding their identity. Undoubtedly, the best film released so far this year, year 2005 will be remembered for Iqbal and likes. And Box office. F... box office. To those conventional distributors, being a modest budget film it is an easy break even so you GTH (go to hell) Also, if Tax free status is not granted sooner to this film then it is better to abolish this system of promotion via tax-free. Jiyo Iqbal !\", \"helpful\": [\"24\", \"32\"], \"title\": \"iqbal\", \"year\": \"2005\"}, {\"review_id\": \"rw1153196\", \"reviewer\": \"latinbrother4\", \"movie\": \"Marimar (1994)\", \"rating\": null, \"review_summary\": \"Marimar\", \"review_date\": \"18 August 2005\", \"spoiler_tag\": 0, \"review_detail\": \"Thal\\u00eda plays the leading role in \\\"Marimar\\\", the second soap opera of the \\\"Mar\\u00eda\\\" trilogy, where she is yet another peasant girl. She lived by the sea with her grandparents, and fell in love with Sergio, the son of the owner of an \\\"hacienda\\\". Sergio's family disapproved of the relationship, especially after the couple married. The cast included renowned soap opera figures such as co-host Eduardo Capetillo and actress Chantal Andere. This soap marks the beginning of Thalia's international exposure- it is distributed in 180 countries and translated in all languages, stealing the hearts of millions of fans around the World. It paralyzed TV in entire countries, such as Brazil, Mauritius, Indonesia, the Philippines and many others. It also opened new markets in Europe, Asia and the rest of South America, where she traveled to give concerts in Spanish, her native language.\", \"helpful\": [\"7\", \"9\"], \"title\": \"marimar\", \"year\": \"1994\"}, {\"review_id\": \"rw1206460\", \"reviewer\": \"brandon-radisic\", \"movie\": \"Dot the I (2003)\", \"rating\": 8.0, \"review_summary\": \"au contraire, to the negativity...I say Bravo\", \"review_date\": \"1 November 2005\", \"spoiler_tag\": 0, \"review_detail\": \"Having seen most of Bernal's films, or at least everything available in the US, I've grown to like him greatly as an actor, thus explaining my motivation for renting this. The description given on the jacket, added with the blurb equating it with Memento (which was a very entertaining mind-boggle), talked me in. Call it a two-for-two deal.Reading through the commentary left by others, I'm troubled by the negativity being attached. Exactly when did it become a crime to invoke plot-twists as a story device? The last I knew, filmmakers such as Hitchcock and Preminger relied upon them incessantly. A twist in plot, if carried off well, can satisfy viewers and fire the imagination.Personally, I find the romantic drama as a genre in dire need of a wake-up call. Films such as this one, Closer, Unfaithful, Wicker Park, and very few others, are daring to attempt something original, whether it be a more frank look at relationships, a less clich\\u00e9d or sexist view of infidelity, or a new take on the love triangle... and by new I mean new in both this film and Wicker Park. Rather than recycle Shakespeare, Jane Austen, or An Affair To Remember for the forty-billionth time, the director and cast broke new ground.This is not a perfect film, and really, honestly, who gets entertainment from \\\"perfect\\\" films? Admiration, yes. Respect, yes. Are perfect films fun though? That's an argument for a forum... I gave this an eight out of ten, with two points off for those imperfections. The three leads are solid; the story is clever and solid enough. The two points to perfection can easily be forgiven.I had fun watching this movie.\", \"helpful\": [\"48\", \"56\"], \"title\": \"dot the i\", \"year\": \"2003\"}, {\"review_id\": \"rw1222594\", \"reviewer\": \"amierock2001\", \"movie\": \"Rent (2005)\", \"rating\": 10.0, \"review_summary\": \"Fantastic!!!\", \"review_date\": \"22 November 2005\", \"spoiler_tag\": 0, \"review_detail\": \"Not having the privilege of seeing this show on stage, I couldn't wait to see the movie! I had free 'sneak preview' passes for the show and it was packed out and we almost didn't get in. We had to sit in the very front row but even so, it was an amazing movie that I loved! I haven't stopped talking about it since seeing it last night!I can't wait for the movie to come out on DVD...I will definitely be one of the first to buy a copy.I'm curious about one thing though and maybe someone can email me the answer...most of the original cast members were in the movie...does anyone know why the role of Mimi and Joanne were recast?Thanks!\", \"helpful\": [\"1\", \"5\"], \"title\": \"rent\", \"year\": \"2005\"}, {\"review_id\": \"rw1217770\", \"reviewer\": \"The_Welshman\", \"movie\": \"The Warriors (2005 Video Game)\", \"rating\": null, \"review_summary\": \"Excellent game 9/10\", \"review_date\": \"16 November 2005\", \"spoiler_tag\": 0, \"review_detail\": \"Simply one of the best games I have ever played. Rockstar Games capture the dialogue perfectly, the screenplay brilliant and the game play amazing. The characters are amazingly accurate, but just one flaw in the graphical division - is the Rockstar image getting a bit old, is it time for a change? Who thinks I'm right?Playing the game for the first time, it all felt a bit Grand Theft Autoey, but after a few hours, you simply drown everything in this game. You block out reality to just concentrate on the action! It gets a bit tense in the police chases, which are brilliant, and the rooftop chase with the High Hats and the Baseball Furies chase are some of the best levels in the game.\", \"helpful\": [\"1\", \"1\"], \"title\": \"the warriors\", \"year\": \"2005 Video Game\"}, {\"review_id\": \"rw1175338\", \"reviewer\": \"paulp-12\", \"movie\": \"Lord of War (2005)\", \"rating\": 4.0, \"review_summary\": \"well acted but too politically heavy-handed\", \"review_date\": \"18 September 2005\", \"spoiler_tag\": 1, \"review_detail\": \"Think grey. Lord of War while a good movie technically--the acting is sound, the story is relatively tight, and it has a good \\\"texture\\\" to it for what it's trying to portray\\u0097it is not a well-balanced movie and portrays a worldview of hopelessness and will-to-power fatalism. The world is grey, ethically, politically, socially. The only way to navigate a grey world is to wield the most power and don't allow yourself to think about the rest. \\\"There are three way to sell arms. White-legally, Black-illegally, and, my personal favorite, grey.\\\" says the film's main character.Lord of War feels almost like a documentary as it traces the life of a very successful arms trafficker Yuri Orlov (Cage). Orlov is a man of almost no feeling, certainly one of no moral sense, and who is extremely talented at selling arms internationally. Orlov travels the globe selling small and large arms literally to anyone who will buy while evading the law, bribing officials, doing drugs, and having sex. By the end of the movie Orlov is legally untouchable though he's not megalomaniacal. He has a good sense of his place and wields his power by filling his role with precision.Lord of War is cynical both in it's view of the world and it's portrayal of the human response to evil. Actually, in this film, there are no neat distinctions between good and evil. The line that sums up the movie best were in the mouth of Orlov, \\\"They say that evil prevails when good men do nothing... Actually what they should say is that evil prevails.\\\" Agent Jack Valentine (Hawke) plays an innocuous would-be spoiler to Orlov's cynicism and play far too minor a role in this film in this writer's opinion. Valentine still believes in right and wrong but seems to have no adequate answers to Orlov's frequent a-moralizing. The feeling you get is that there are no answers and that's why /director Andrew Niccol puts none in the mouth of Valentine.The movie is somewhat drab and methodical partly because Niccol wants us to focus on the message not the special effects or even the technical details. This film, like so many modern films has no hero. Valentine is powerless, the U.N. is corrupt and impotent, there's no world leader that isn't self-absorbed, and even friends and family are motivated by drugs and money. Niccol, who wrote the screenplay for one of my favorite movies, The Truman Show, may now see clearly the outcome of facing a world without God\\u0097moral decision making becomes very difficult if not impossible. Cynicism is the last defense.Still, for all the film's cynicism, fatalism, and amorality, Niccol clearly doesn't participate in the same worldview as his anti-hero. Niccol clearly wants us to walk out of the movie with a clear moral message: guns are bad and the people that sell them (the US, George Bush, and other members of the U.N. Security Council) are evil. Niccol seems to have no problem making clear moral judgments. Too bad he doesn't allow his characters to do the same.\", \"helpful\": [\"3\", \"11\"], \"title\": \"lord of war\", \"year\": \"2005\"}, {\"review_id\": \"rw1251971\", \"reviewer\": \"sjsmart1\", \"movie\": \"Fun with Dick and Jane (2005)\", \"rating\": 10.0, \"review_summary\": \"amazing movie\", \"review_date\": \"31 December 2005\", \"spoiler_tag\": 0, \"review_detail\": \"My daughter took me to see this movie. At first i thought that it was going to be just like every other movie, but i was proved wrong. I loved this movie. To me it was the best movie that Jim Carey ever stared in. I loved this movie because it explains to me and the world that no matter of how big of a pickle you are in you will always be able to get out of it. I thank Jim Carey and all of the other actors that participated in this movie because i think that it proves a good point. No matter what pickle you are in you can always solve it. When this movie comes out on DVD i will be sure to buy it no matter what. Everyone who reads this comment should go to the movie and see it. It will knock your socks off. Two thumbs up.\", \"helpful\": [\"8\", \"15\"], \"title\": \"fun with dick and jane\", \"year\": \"2005\"}, {\"review_id\": \"rw1185141\", \"reviewer\": \"makin_movie_magic\", \"movie\": \"The Purifiers (2004)\", \"rating\": 8.0, \"review_summary\": \"might be a spoiler, but not really sure...\", \"review_date\": \"2 October 2005\", \"spoiler_tag\": 1, \"review_detail\": \"Before you read on, I'm not positive this is a spoiler, or at least part of it, that's why I checked the box.I loved it! I mean, yeah the plot was a little...shady??...um, mehish. The cinematography was beautiful and the lighting was really...experimental, but it worked. The only thing I didn't like (besides the language and the mehish plot) was the split screen parts. It was too much to be watching and too fast.Dominic however, was fantastic (maybe I'm a bit biased?)and I'm really pleased to see him in a darker sort of role. He got out of his comfort zone and I loved it.\", \"helpful\": [\"1\", \"14\"], \"title\": \"the purifiers\", \"year\": \"2004\"}, {\"review_id\": \"rw1240400\", \"reviewer\": \"paulpenet\", \"movie\": \"The Brothers Grimm (2005)\", \"rating\": null, \"review_summary\": \"Waaaaaay to long\", \"review_date\": \"17 December 2005\", \"spoiler_tag\": 0, \"review_detail\": \"Really disappointing this script - Gilliam was not necessarily the name that would come to mind when thinking of movies based almost entirely on image and special effects, but well... we all have our downs, i guess. The connection with the tales and the real Grimms is not only completely avoiding the truth - that would be okay IF any aesthetic reason would explain it - actually the whole script is nothing but a patchwork of circumstantial hints to the tales. Very little of the spirit of the tales is kept, and almost nothing of the historical truth about the authors. This movie is nothing but a poorly-written TV film extended to the limit, making use of the name of Grimm to sell a common ghost story.\", \"helpful\": [\"2\", \"5\"], \"title\": \"the brothers grimm\", \"year\": \"2005\"}, {\"review_id\": \"rw1234848\", \"reviewer\": \"rokstarchic85\", \"movie\": \"Brokeback Mountain (2005)\", \"rating\": 10.0, \"review_summary\": \"RUN, don't walk, to Brokeback Mountain\", \"review_date\": \"10 December 2005\", \"spoiler_tag\": 0, \"review_detail\": \"Having the extreme fortune to actually get a ticket for one of the sold out NY screenings, all I have to say is that this is what classic cinema is all about. This is actually the first time that I can say that not only did I see a film that did the book justice, it was actually better than I have ever imagined. Everything was shot perfectly, the scenery was magnificent, the music was fitting, & the acting really blew me away. Heath Ledger earned himself an Oscar nomination for this role, just like all the critics said, but lets not leave out Jake Gyllenhaal; he also gave one hell of a performance & deserves to get recognition as well. I believe that if Mid-America would drop their guard & actually see the film for what it is, they will have a complete change of heart. Don't limit this movie to female or gay audiences, this is a film that everyone should have a chance to experience.\", \"helpful\": [\"15\", \"22\"], \"title\": \"brokeback mountain\", \"year\": \"2005\"}, {\"review_id\": \"rw1215598\", \"reviewer\": \"grahammeredithjones\", \"movie\": \"Peep Show (2003\\u20132015)\", \"rating\": null, \"review_summary\": \"Why isn't Peep Show more popular?\", \"review_date\": \"14 November 2005\", \"spoiler_tag\": 0, \"review_detail\": \"I don't know exactly why it hasn't gained the recognition it deserves. Perhaps that will change with the pat on the head it received from Ricky Gervais on the poster I saw on the tube.It may not be the wittiest show on British television, but watching the second series screened late in the evening after \\\"Teachers\\\" it seemed like Oscar Wilde in comparison.It is just \\\"The Odd Couple\\\" I suppose, a cross between that and a much more understated version of \\\"Bottom\\\", but the conflict between the attitudes of the two main characters is very engaging. The supporting characters are good too - Sophie, Super Hans, Johnson etc. - stereotypical but rounded. It is mercifully short of lad mag machismo, or when it rears its head it is not without shed-loads of self-deprecation and post-modern irony. Is that why it doesn't have much a following from its target audience of immature males? I imagine for it to be shown at peak time they would have to cut out the obscenity, though Mark's bland, yet frightening, yet endearing conservatism seems to mitigate that somehow - and the cynicism.I haven't seen any of the third series. My TV set broke down recently and British television is at such a nadir at the moment I don't feel inspired to buy a new one, even if the Dude Bros are addicted to Big Brother. I just got the DVD of the first series out of the library (I played it on the computer) and that is worth seeing for Mark's extras: the hilarious digital camcorder CV and appalled readings from one of his militaristic tomes by his mates.\", \"helpful\": [\"16\", \"28\"], \"title\": \"peep show\", \"year\": \"20032015\"}, {\"review_id\": \"rw1146565\", \"reviewer\": \"xdarkstar\", \"movie\": \"The Howard Stern Show (1990\\u20131993)\", \"rating\": null, \"review_summary\": \"not a spoiler.. the absolute truth.\", \"review_date\": \"8 August 2005\", \"spoiler_tag\": 1, \"review_detail\": \"Granted the show came about wayyy earlier than the show 'Jackass', it's comparable in nature, except he makes fun of mentally and physically handicapped people, he coaxes women to get unclothed or naked for free boob jobs and money. If they don't go 'far enough' (for ratings) no boob job... How sad, yet hilarious for womanizers and immature dimwits out there. This show lacks basic values. You would think it had been written by a pre-pubescent teen who can't control himself.I guess his Mother didn't teach him respect. He's a mediocre guy who gets taken advantage of for his money because that's all he has to offer. Now tell me, If he walked up to socially 'beautiful' models, porn-star's and spoke the way he does on air, in a TRUE TO LIFE SITUATION, he would be shot straight down to hell because without the money, he would be socially inapt. *LOL* Doesn't he see that he is being used? *lol* Hmm, I guess not. :)\", \"helpful\": [\"2\", \"12\"], \"title\": \"the howard stern show\", \"year\": \"19901993\"}, {\"review_id\": \"rw1154183\", \"reviewer\": \"poolandrews\", \"movie\": \"Freddy vs. Jason (2003)\", \"rating\": 9.0, \"review_summary\": \"Entertaining comic book type horror film featuring two of horror's greatest icons.\", \"review_date\": \"20 August 2005\", \"spoiler_tag\": 1, \"review_detail\": \"Freddy Vs. Jason starts with Freddy Krueger (Robert Englund) bemoaning the fact that the children of Elm Street have forgotten about him & the fear that he feeds off is no longer there, because of this Freddy is currently dead. However Freddy has devised a plan that involves raising notorious indestructible serial killer Jason Voorhees (Ken Kirzinger) from the dead & making him carry his killing spree on in Elm Street & there by the fear will return... Cut to 1428 Elm Street, Springfield where it's a dark night & is lashing with rain as three friends Lori Campbell (Monica Keena), Kia Waterson (Kelly Rowland) & Gibb (Katherine Isabelle) are having a night in when two lads arrive Trey (Jesse Hutch) & Blake (David Kopp). Trey & Gibb head off upstairs to have sex, afterwards while in the shower Gibb hears a noise & discovers Trey murdered. In no time the local police are everywhere & Lori overhears Sheriff Williams (Gary Chalk) mention the name Freddy Krueger. Meanwhile Lori's old boyfriend Will Rollins (Jason Ritter) hears about the murder on the news & together with his friend Mark Davis (Brendan Fletcher) escape the mental hospital where they are currently institutionalised. Blake is the next victim as Freddy's name is spread through the local high-school, shortly after Freddy is strong enough to terrorise the children of Elm Street again but he has competition in the form of the seemingly unstoppable Jason. The residents of Springfield are not safe either awake or asleep...Directed by Ronny Yu I though Freddy Vs. Jason was terrific fun, especially if your a die hard horror buff like myself! The script by Damian Shannon & Mark Swift is incredibly silly & not to be taken seriously but makes for good fun & entertainment. Freddy Vs. Jason moves along like a rocket & is never dull or boring, something is always happening & it's a nice tight well paced film. There are plenty of film homages & it has a definite sense of fun. While the characters aren't particularly original or well developed they are likable & have just enough about them to care for. There are plenty of one liners & quips & the dialogue isn't exactly absorbing but it suits the comic book feel of the film very well. Between them Freddy & Jason have starred in no less than 17 films (I have seen them all) before Freddy Vs. Jason (plus Freddy got his own TV series) & are perhaps two of my favourite & greatest horror icons ever to grace the silver screen, well I think so anyway so I got a big kick out of seeing these characters that I grew up with in the same film. Director Yu treats them with respect & are instantly familiar & still look pretty imposing even in 2003 some 20 odd years after they first appeared. Director Yu treats us to some serious over-the-top violence which by the end becomes very comic book like, there are plenty of machete violence, stabbings, decapitations, someone is cut in half, arms are ripped off & gory fights galore. Some of the CGI effects are a little fake looking but the make-up effects are a lot better with plenty of spurting blood. There is a strong action element to Freddy Vs. Jason & Yu brings his experience to create some great choreographed fights between Freddy & Jason which become more & more outrageous as the film goes on. The acting is about as good as you would expect from a film such as this but I thought everyone did OK & no one was trying to win an Oscar were they? Even singer Kelly Rowlan didn't annoy me which was a surprise as 'hip' singers don't usually make for good actors. Technically the film is impressive & with a fairly healthy budget of about $25,000,000 that's the least I'd expect. The music mixes familiar tunes & cues from both series of films which helped get me in the mood although I didn't like the annoying rock tracks that much. I liked Freddy Vs. Jason a lot, the filmmakers did a much better job than I could have hoped for. The idea is ridiculous & if you are not into horror then forget it but since I am & I am a definite fan of these two characters I found myself enjoying every overblown, silly but hugely entertaining minute of it! Watch it as soon as possible.\", \"helpful\": [\"2\", \"9\"], \"title\": \"freddy vs. jason\", \"year\": \"2003\"}, {\"review_id\": \"rw1198450\", \"reviewer\": \"Malte006\", \"movie\": \"Mean Streets (1973)\", \"rating\": 8.0, \"review_summary\": \"This movie is not just a good movie - It also is the movie which helped form the foundation of Martin Scorsese's later pictures.\", \"review_date\": \"21 October 2005\", \"spoiler_tag\": 0, \"review_detail\": \"Mean Streets \\\"I f*uck you right where you breathe\\\" Directed by Martin Scorsese (1973)Mean Streets came out in 1973 after Scorsese almost had the script under development in a decade. This is one of his first personal movies, describing the raw environment in the streets of Little Italy in NYC. We follow Charlie in the leading role and the bunch of guys around him. The hustler Johnny Boy owes a lot of money to the loan shark Tony and doesn't make his payments to him. Charlie now tries to work out a deal with Tony and is trying to get Johnny Boy to pull himself together, even though this looks like an impossible mission.Scorsese's first motion picture Who's That Knocking at My Door and Mean Streets have many resemblances and contain the typical trademarks that Scorsese is now well known for. He almost always makes a character study of the life of lonely men, who are trying to get the best out of their situation in the asphalt jungle. Hustling, working, drinking, taking drugs etc. are very typical things to do for the persons appearing in his movies.Mean Streets is photographed mostly with a hand hold camera, which helps create a raw look that fits pretty good to this environment. Also the movie doesn't contain an actual score. Actually songs from the director's personal music collection do work as the background music. The plot is this picture is only secondary. This is like many of Scorsese's other movie primarily a character driven story with a raw environment description.The movie marks the start of one of the greatest director/actor collaborations ever! The role of Johnny Boy was Robert De Niro's role in a Scorsese picture, and later on he went to bigger leading roles under the director, which gave them both the reputation that they have today. Also this is Harvey Keitel's second leading role in a Scorsese picture, but after this movie Keitel and De Niro kind switched roles (see Taxi Driver).This movie is not just a good movie - It also is the movie which helped form the foundation of Martin Scorsese's later pictures.8/10\", \"helpful\": [\"57\", \"94\"], \"title\": \"mean streets\", \"year\": \"1973\"}, {\"review_id\": \"rw1241191\", \"reviewer\": \"JimSDCal\", \"movie\": \"The Family Stone (2005)\", \"rating\": 7.0, \"review_summary\": \"A good Christmas comedy/drama\", \"review_date\": \"18 December 2005\", \"spoiler_tag\": 0, \"review_detail\": \"The Family Stone is a pretty good combination of comedy and drama. While it is an ensemble piece, the main members of the ensemble are Everett Stone, the somewhat yuppie son of the free-spirited Stone family, and Meredith Morton, a very up-tight business woman whom the Stone family takes an immediate dislike to. Meredith makes her predicament more tenuous by coming across as borderline racist and homophobe. In a game of Charades, for the film \\\"The Bride Wore Black\\\", for a clue for black she points at gay son Thad's black boyfriend Patrick. Later at dinner she further offends the Stones by opining that no parent would willingly want a child that was gay. After these incidents Everett begins to wonder if Meredith is really the woman for him. He has asked his mother to be given \\\"the family stone\\\", his grandmother's engagement ring to give to Meredith but questions whether it is her that he should marry. This is the crux of the story, but there are subplots concerning the health of the mother, Sybil Stone and the romantic prospects of brother Ben and sister Amy. By movie's end the proper romantic pairings are made, and this is shown the next Christmas which shows how happy each child is.\", \"helpful\": [\"4\", \"12\"], \"title\": \"the family stone\", \"year\": \"2005\"}, {\"review_id\": \"rw1232850\", \"reviewer\": \"tjjohnstn\", \"movie\": \"One Eight Seven (1997)\", \"rating\": 10.0, \"review_summary\": \"Tight, well-directed, well-acted\", \"review_date\": \"7 December 2005\", \"spoiler_tag\": 0, \"review_detail\": \"Capturing just a glimpse of the threat and dangers of gangs in schools, 187 provides a chilling story of survival in public schools. Samuel Jackson portrays all the levels of emotions and we get behind his crusade to clean up the useless waste of human flesh.A jewel in this movie is the performance of Clifton Collins as Cesar Sanchez. He shows the depth of anger and (at the end) the desperate need for identity that only his gang can provide.The climax scene, although shocking, makes perfect sense. There is no alternative that wouldn't be a cop-out and it couldn't be portrayed any better.\", \"helpful\": [\"12\", \"15\"], \"title\": \"one eight seven\", \"year\": \"1997\"}, {\"review_id\": \"rw1172942\", \"reviewer\": \"jaihind_17\", \"movie\": \"Two Strangers (1976)\", \"rating\": 8.0, \"review_summary\": \"Good story that avokes curiosity at every step.\", \"review_date\": \"15 September 2005\", \"spoiler_tag\": 1, \"review_detail\": \"Dulal Guha's Do Anjaane was one of the first movies Amitabh and Rekha worked together on. The story explores greed, ruthlessness and revenge. Rakha plays a girl who get married to Amitabh a middle class well to doer, she wants to be a star and always finds herself drawn down by Amitabhs modesty and reluctance to move to a higher stauts in life.Cue Prem Chopra, Amitabh's friend from youth, who is rich and dresses very lets say extrovertly (its quite hilarious!) He enters both their lives and starts throwing around his money and exploits Rekhas weakness. How the story continues is a fascinating watch.The film has it's usual fair of songs and dances but it has a very distinct story to tell, and which was quite unique in the times of its release. Amitabh's drunk scene when he's at home I believe to be his best drunk scene yes even better than Amar Akbar Anthony which was released around a year later! As far as performances go Amitabh againis immaculate his transition as middle class struggling husband to suave and calculating film producer is fantastically portrayed by the artiste. Rekha is great and show good emotion and greed. Prem Chopra I believe is hugely underrated as a villain, he might not be Amjad Khan or Amrish Puri type of villain, because he's different. He different in the way that he very sly, manipulative and likes stirring the pot and was the best guy at doing so, and to try to cover things he becomes sincere again.Thoroughly recommended movie, great entertainment!\", \"helpful\": [\"2\", \"3\"], \"title\": \"two strangers\", \"year\": \"1976\"}, {\"review_id\": \"rw1214257\", \"reviewer\": \"dlsatl2005\", \"movie\": \"Coquette (1929)\", \"rating\": 6.0, \"review_summary\": \"Slow Start\", \"review_date\": \"12 November 2005\", \"spoiler_tag\": 0, \"review_detail\": \"This film started off slow but as it progressed the acting intensified. Ms.Pickford was not right for this role -but she was brilliant in this dull, stagy film -it was her technical merit and an ability to capture an audience that won her the Oscar..... However overall the film may not have been a Tour-De-Force , but she managed to pull off a respectable performance. I expected more from Ms.Pickford she delivered but I still felt something was missing from the film.Other pictures from Ms. Pickford suggest her range I scratch my head at the casting of this film. \\\"Coquette\\\" is worth watching if you are a fan of Ms.Pickford but, not her best performance...\", \"helpful\": [\"3\", \"6\"], \"title\": \"coquette\", \"year\": \"1929\"}, {\"review_id\": \"rw1145242\", \"reviewer\": \"itsbrettney\", \"movie\": \"Spider (1996\\u2013 )\", \"rating\": null, \"review_summary\": \"Short Musical Cartoon.... Spider\", \"review_date\": \"8 August 2005\", \"spoiler_tag\": 0, \"review_detail\": \"this great short musical cartoon featuring a small black cartoon spider was one of the TV highlights of my childhood.The cartoon opened with the short guitar theme tune known as \\\" true friend \\\" and proceeded to go onto the story which featured a black cartoon spider with big white eyes featuring in it, along with the story which only lasted between 5 or 6 min's was a song always done by guitar and sung by the same person.this cartoon was a joy to watch and shows how cartoons have changed over the years since this brilliant short lived well loved story was on our screens.\", \"helpful\": [\"0\", \"3\"], \"title\": \"spider\", \"year\": \"1996\"}, {\"review_id\": \"rw1232957\", \"reviewer\": \"jarlib1\", \"movie\": \"Cold Sassy Tree (1989 TV Movie)\", \"rating\": 5.0, \"review_summary\": \"Definitely read the book, then see the movie if you need to...\", \"review_date\": \"7 December 2005\", \"spoiler_tag\": 0, \"review_detail\": \"I haven't seen the movie yet, but my staff book group at the library I work at just discussed the book, which we all loved. All of the characterization was great in the book, which also had much information to explain the relationships, \\\"Cold Sassy Tree\\\", etc. Obviously the first reviewer did not read the book, or they would have understood the name. Another book we read & loved was: My Antonia. This movie also stars a young Neil Patrick Harris. I haven't seen it yet, but will. I want to see the movie, just to see it brought to life, even though badly, from what I've read. Oh well, many times the book is better. I can't wait to see how The Da Vinci Code turns out!! Julie A. Roberts\", \"helpful\": [\"1\", \"10\"], \"title\": \"cold sassy tree\", \"year\": \"1989 TV Movie\"}, {\"review_id\": \"rw1183302\", \"reviewer\": \"kaelcarp\", \"movie\": \"Hyperspace (2001)\", \"rating\": 5.0, \"review_summary\": \"Nice visuals but not much information\", \"review_date\": \"30 September 2005\", \"spoiler_tag\": 0, \"review_detail\": \"My first impression of this, as I watched it, was that the visuals were very well done, and indeed they are. Great graphics make you really see how it looks when the events described occur. If it were just a graphic presentation, I would have given it a 10/10.Unfortunately, it wasn't. While the presentation, including Sam Neill's narration, was very well done, the content was extremely scarce, and what was there had me raising my eyebrows. There is very little information in this that can't be gotten out of a grade school level book. The series makes very simple, obvious assertions about the universe and stretches them out for a half hour each. What's more is that it is strangely alarmist, giving the feeling that we could all die at any moment from some huge cataclysm. While that's true on some level, it's also extremely unlikely that a comet or asteroid will strike us out of the blue. To watch this series, you would think it was inevitable within our lifetimes.It also makes the assertion that the only hope for humanity's future lies in colonizing the stars. This may or may not be true. In the several billion years before this even becomes an issue, we may very well discover how to keep the sun burning longer, how to live in the vacuum of space, or any number of other things that would make that much less relevant. There is no pressing need to colonize other worlds right now, though I admit I love the idea of doing it.In all, outside of the alarmism, I suppose this would be good for someone who is very unfamiliar with astronomy in general. But if you have some knowledge of the subject, you won't get much out of this besides nice graphics.\", \"helpful\": [\"7\", \"15\"], \"title\": \"hyperspace\", \"year\": \"2001\"}, {\"review_id\": \"rw1230805\", \"reviewer\": \"DeeNine-2\", \"movie\": \"The Piano Teacher (2001)\", \"rating\": 10.0, \"review_summary\": \"Featuring a stunning performance by Isabelle Huppert\", \"review_date\": \"4 December 2005\", \"spoiler_tag\": 0, \"review_detail\": \"If it is true that sadomasochism is a two-sided coin which contains the whole in the diverse expression of its opposites, then the cinematic portrait of Erika Kohut has its reality. Professor Kohut treats her piano students with a kind of fascist sadism while longing for the same for herself. Her outward expression projects her desire. That is why she can hurt without guilt or remorse.Along comes talented, charming, handsome young Walter Klemmer (Benoit Magimel) who is attracted to her because of her passion and her intensity. He wants to become her student so as to be close to her. She rejects him out of hand, but because of his talent the Vienna conservatory votes him in. He falls in love with her. Again she pushes him away, but he will not take no for an answer, and thereby begins his own descent into depravity and loss of self-respect.The question the viewer might ask at this point is, who is in control? The sadist or the masochist? Indeed who is the sadist and who the masochist? It is hard to tell. Is it the person who has just been greatly abused both psychologically and physically, who is actually lying wounded on the floor in grotesque triumphant and fulfillment, or is it the person who is rushing out the door, sated, giving the order that no one is to know what happened.But Erika is not just a sadomasochistic freak. She is a sex extreme freak. She wants to experience the extremes of human sexuality while maintaining the facade of respectability. Actually that isn't even true. She says she doesn't care what others think. She doesn't care if they walk in and find her bleeding on the floor because she is in love. Love, she calls it. For her sex and love are one and the same.At one point Walter tells her that love isn't everything. How ironic such a superfluity is to her. How gratuitous the comment.The movie is beautifully cut and masterfully directed by Michael Haneke who spins the tale with expert camera work and carefully constructed sets in which the essence of the action is not just clear but exemplified (as in the bathroom when Walter propels himself high above the top of the stall to find Erika within). He also employs a fine positioning of the players so that they are always where they should be with well timed cuts from one angle to another. This is particularly important in the scene in which Erika, like a blood-drained corpse caught in stark white and black light, lies under her lover, rigid as stone. Here for the most part we only see her face and the stark outline of her neck with its pulsating artery. We don't need to see any more.The part of Erika Kohut is perfect for Isabelle Huppert who is not afraid of extremes; indeed she excels in them. I have seen her in a number of movies and what she does better than almost anyone is become the character body and soul. Like the woman she plays in this movie she is unafraid of what others may think and cares little about her appearance in a decorative sense. What matters to her is the performance and the challenge. No part is too demanding. No character too depraved. It's as if Huppert wants to experience all of humanity, and wants us to watch her as she does. She is always fascinating and nearly flawless. She is not merely a leading light of the French cinema; she is one of the great actresses of our time who has put together an amazingly diverse body of work.I think it is highly instructive and affords us a wonderful and striking contrast to compare her performance here with her performance in The Lacemaker (La Dentelli\\u00e8re) from 1977 when she was 22 years old. There she was apple sweet in her red hair and freckles and her pretty face and her cute little figure playing Pomme, a Parisian apprentice hairdresser. Her character was shy about sex and modest--just an ordinary French girl who hoped one day to be a beautician. Here she is a self-destructive witch, bitter with hateful knowledge of herself, shameless and entirely depraved.Huppert is fortunate in being an actress in France where there are parts like this for women past the age of starlets. (Hollywood could never make a movie like this.) In the American cinema, only a handful of the very best and hardest working actresses can hope to have a career after the age of about thirty. Huppert greatly increases her exposure because of her ability and range, but also because she is willing to play unsympathetic roles, here and also in La C\\u00e9r\\u00e9monie (1995) in which she plays a vile, spiteful murderess.Do see this for Isabelle Huppert. You won't forget her or the character she brings to life.(Note: Over 500 of my movie reviews are now available in my book \\\"Cut to the Chaise Lounge or I Can't Believe I Swallowed the Remote!\\\" Get it at Amazon!)\", \"helpful\": [\"1\", \"2\"], \"title\": \"the piano teacher\", \"year\": \"2001\"}, {\"review_id\": \"rw1232401\", \"reviewer\": \"aptrapani\", \"movie\": \"Mighty Morphin Power Rangers: The Movie (1995)\", \"rating\": 5.0, \"review_summary\": \"Don't see how it deserves a 3.2\", \"review_date\": \"6 December 2005\", \"spoiler_tag\": 0, \"review_detail\": \"At least a 5 would suffice. Like come on this movie is meant for kids and those whom love that little nostalgia yeah it was corny, and yeah, it was really stupid. But fellows, that is the power rangers. Many teenagers such as myself grew up on it. We fed on the corniness of having huge robots to make one mighty robot. It's just sad how people will judge a movie based on power rangers because power rangers aren't cool anymore. Most of these people believe it isn't because society tells them, \\\"hey you kid, you're what, 10? Yeah... well, f.y.i. you;re a loser for liking power rangers still, move onto anime.\\\" What else is sad... is how critical people are. It's a KID'S movie. Yeah, sure, \\\"Finding Nemo\\\" was funny for everyone but, Power Rangers was never meant for adults. Simply, children. If it was for adults I'd say hell yeah, a 2 is out of remorse, but since i remember the good old days. I'm giving this movie a 5 because yes, there is much better movies, but this movie is good for its purpose. Or at least was.\", \"helpful\": [\"64\", \"79\"], \"title\": \"mighty morphin power rangers: the movie\", \"year\": \"1995\"}, {\"review_id\": \"rw1185289\", \"reviewer\": \"fayremead\", \"movie\": \"Mayday (2005 TV Movie)\", \"rating\": 5.0, \"review_summary\": \"Sanitized disaster.\", \"review_date\": \"3 October 2005\", \"spoiler_tag\": 0, \"review_detail\": \"This film may have been less far-fetched than the Nelson DeMille/Thomas Block novel on which it is based, but it lacks the tension which the authors provided so well. Director T.J. Scott is obviously constrained by the network-television format, which allows little blood and no coarse language -- still, he should have let the main characters look increasingly unkempt and sweaty after the accident. Other mistakes include a subplot involving several characters who weren't in the book, and some weakly interpreted villains (Johnson suffers the most; where is his swagger and sardonic humor). This rates a 5 because the cast members do their best, the effects are good for a TV-movie, and there are a few nice touches (at one point the film refers to a change of terminology between the 1978 and 1997 versions of the novel). It's sad, though, that \\\"Mayday\\\" never got a big-budget blockbuster treatment.-Tony\", \"helpful\": [\"15\", \"22\"], \"title\": \"mayday\", \"year\": \"2005 TV Movie\"}, {\"review_id\": \"rw1194963\", \"reviewer\": \"kayakingboy\", \"movie\": \"Cold Case (2003\\u20132010)\", \"rating\": null, \"review_summary\": \"Question about guest appearance.\", \"review_date\": \"16 October 2005\", \"spoiler_tag\": 0, \"review_detail\": \"On Sunday the 16th of October an actress played the part of the older Esther, the young love of Clyde Taylor. Was the actress Elinor Donahue? She played on \\\"Father Knows Best\\\" and was Ellie on the early episodes of \\\"The Andy Griffith Show\\\" We yhought that she sounded and had the same smile as the actress. The credits at the end of the program did not list the character or any actress platying the part. How would someone go about finding a complete cast list of every episode of this program. I know that they have many guest appear on the show and would be interested in knowing some of them. We watch the show weekly and are good fans.\", \"helpful\": [\"1\", \"6\"], \"title\": \"cold case\", \"year\": \"20032010\"}, {\"review_id\": \"rw1223552\", \"reviewer\": \"badtothebono\", \"movie\": \"War of the Worlds (2005)\", \"rating\": 2.0, \"review_summary\": \"just plain weak, lousy, lazy, etc.\", \"review_date\": \"24 November 2005\", \"spoiler_tag\": 1, \"review_detail\": \"Just saw it on DVD. What the .....? People praise this? Someone says \\\"this is what it could be like if we were indeed invaded by extraterrestrials\\\"? I sure hope so. I sure hope my family becomes unbreakable, my son runs onto a hillside that goes up in a conflagration, but he survives, I'm able to drive my minivan around for miles (Hours? who can tell?) unimpeded even though all other cars are dead on the road, I fall 100 feet to the ground in a steel cage & walk away fine, war machines will be prancing thru Boston but my in-laws' entire NEIGHBORHOOD in the Back Bay will suffer only from a lack of leaf raking ... well, maybe I don't hope so much for that last one. Of course, Cruise wasn't unscathed, his watch broke. But the guy next to him had a working camcorder, so why worry? And who was this woman he meets near the ferry and what was that supposed to add? So, the first half is about random people running in random directions. The 2nd half is about wondering when it will end. ps: the aliens died of embarrassment.\", \"helpful\": [\"3\", \"5\"], \"title\": \"war of the worlds\", \"year\": \"2005\"}, {\"review_id\": \"rw1143449\", \"reviewer\": \"bobspartacus\", \"movie\": \"Out on a Limb (2005)\", \"rating\": 8.0, \"review_summary\": \"Really impressive, funny low budget British comedy\", \"review_date\": \"6 August 2005\", \"spoiler_tag\": 0, \"review_detail\": \"I saw this movie a few months ago at a preview at the London offices of Channel 4 - the director was there. the movie is a very witty look at the nature of modern media - using the ubiquitous presence of a TV chef who now finds his career on the slide - as the focal point. It blends this with a \\\"heist gone wrong\\\" scenario - all of which takes place during a dinner party - and a subsequent series of meals. As they eat, the characters find themselves shifting roles - those under siege take over the siege, those who staged the siege want out - and everyone wants to exploit their 15 minutes of fame. It's a clever black comedy - almost a British Woody Allen picture (his later period!) - well acted by a strong cast. It made me laugh - it made me think - and more than anything - it made me recognise. Recommemnded.\", \"helpful\": [\"4\", \"8\"], \"title\": \"out on a limb\", \"year\": \"2005\"}, {\"review_id\": \"rw1229220\", \"reviewer\": \"Gadfium\", \"movie\": \"Alias Smith and Jones (1971\\u20131973)\", \"rating\": null, \"review_summary\": \"Gentle-Hearted Gem\", \"review_date\": \"2 December 2005\", \"spoiler_tag\": 0, \"review_detail\": \"In the UK this gentle, unassuming western series stormed straight into viewers' hearts; garnered enormous audiences, and generated many fond memories... how many among us still recall the 'five pat-hand' poker trick? Lots and lots, I'd wager.What made it so successful, in retrospect, was the thoroughness of the script preparation and the subsequent chemistry between the two leads. Roy Huggins' (aka John Thomas James) thoughtful and professional approach was everywhere. Many of the most memorable moments within the series were based upon fact and/or documented historical incidents e.g. soap selling dodges, poker escapades, safe-cracking attempts, and - although I was unaware of this as a child - it explains why so much of the series' background 'hung true'. Toss in the amiable, laconic tit-tat verbal interplay between Hannibal Heyes (Pete Duel) and Kid Curry (Ben Murphy)... and you ended up with small-screen magic.Heyes followed the silver-tongued, 'I can talk us out of this calamity' approach, with endless undinted confidence and zest, but varying success; Curry, meanwhile, was content to watch him 'wing-it', then stepped in when catastrophe threatened - as it often did.It was the 'little things' that made this series soar, the consistency of character, the fallibility, the kicks of fate that tweaked Heyes and Curry into two magnetically likable 'pretty good bad men'. The delicate interplays between two men who would 'do to ride the river'.It was often the smallest stories that were the most successful, the ones where technically 'not a lot was happening'. For example, in one episode they got snowed-in, for the whole winter, in a remote mountain cabin... all very static? nope, just the opposite... what you got, was a heck of a lot of Heyes and Curry getting on with the business of making the best of a bad deal. Fantastic.This is the 'less is more' approach; so often lauded - but oh so rarely allowed onto the screen. The actors gelled with their characters; the characters enthralled; the writing created an environment within which the ensemble could thrive.So okay... some episodes were better than others, a couple were great, and a couple were not-so great; but through it all Smith & Jones bantered and bickered, won, lost, and kept on trying. It was joyous entertainment. Joyous.What's that, you said? Naw... can't be... d'you mean, you really don't know the 'five pat-hand' poker trick?! Watch and Enjoy!\", \"helpful\": [\"23\", \"24\"], \"title\": \"alias smith and jones\", \"year\": \"19711973\"}, {\"review_id\": \"rw1201040\", \"reviewer\": \"NewDivide1701\", \"movie\": \"Silent Warnings (2003 Video)\", \"rating\": 6.0, \"review_summary\": \"A simple B-movie, but...\", \"review_date\": \"24 October 2005\", \"spoiler_tag\": 1, \"review_detail\": \"Grant you, this movie is a technical rip-off of Signs, but it still has some charm to it. Signs is about faith and despair, while this movie is more into the classical alien invasion scenario.Silent Warnings gets more involved into the skepticism about the origins of the crop circles than what Signs did, and leading our protagonists to an uncertain future. Which is a plus.This is further reinforced when a couple of rednecks, as they are described in the movie, acts like a couple of jerks to what first appears to be the creation of a crop circle.However all in all, Signs is still a better movie than Silent Warnings by a substantial margin, but Silent Warnings is still worth watching.\", \"helpful\": [\"2\", \"3\"], \"title\": \"silent warnings\", \"year\": \"2003 Video\"}, {\"review_id\": \"rw1213024\", \"reviewer\": \"Stomperk\", \"movie\": \"The Goodbye Girl (2004 TV Movie)\", \"rating\": 5.0, \"review_summary\": \"Decent Movie, Decent Acting\", \"review_date\": \"10 November 2005\", \"spoiler_tag\": 1, \"review_detail\": \"Although i found The Goodbye Girl cute and entertaining, I do not think the acting was sufficient. Patricia Heaton plays a character who possesses extreme emotions and she was not able to carry out this role successfully. Most of her feelings looked too fake. Because of this it was very hard for the audience to feel compassion for her. Also, I personally do not like unrealistic movies and I felt the plot was very unrealistic. Two complete strangers comfortable with living together in New York City is just ridiculous. I did, however, think Jeff Daniels fit his character and was funny especially with his awkward body movements and his one-liners.\", \"helpful\": [\"1\", \"1\"], \"title\": \"the goodbye girl\", \"year\": \"2004 TV Movie\"}, {\"review_id\": \"rw1208117\", \"reviewer\": \"andrew-race\", \"movie\": \"Battle in Heaven (2005)\", \"rating\": null, \"review_summary\": \"a film which sets new norms for slow reaction shots\", \"review_date\": \"3 November 2005\", \"spoiler_tag\": 0, \"review_detail\": \"Having been led to believe by a listings magazine that this film had'outstanding naturalistic sound design', I should have realised i might be disappointed. I was expecting a slice of Mexican life, character development, perhaps a plot and I must admit a certain erotic content. The result was stunningly boring in every respect. Nothing is explained, we never learn why the event at the start of the film has taken place, the characters are almost totally impassive, deeply unappealing and the sexual encounters, apart from one, have no erotic appeal and indeed very little logic to them. Over the top music, a few symbols here and there, rolling up the flag, a little religion and superstition and such amusing touches as a leitmotiv of incontinence for no apparent reason, this truly was 90 minutes where paint drying would have seemed vastly more exciting. Do not see this film.\", \"helpful\": [\"15\", \"33\"], \"title\": \"battle in heaven\", \"year\": \"2005\"}, {\"review_id\": \"rw1154226\", \"reviewer\": \"michaelRokeefe\", \"movie\": \"Terminator 3: Rise of the Machines (2003)\", \"rating\": 6.0, \"review_summary\": \"Its not easy prolonging Judgement Day.\", \"review_date\": \"20 August 2005\", \"spoiler_tag\": 1, \"review_detail\": \"Twenty-something John Connor(Nick Stahl)manages to sustain his nomad lifestyle, but danger is dead ahead when a state-of-the-art female terminator, T-X(Kristina Loken)has the mission to contain Connor. Once again to the rescue is the almost completely antiquated cyborg Terminator(Arnold Schwarzenegger)traveling back through time to run interference and provide protection for Connor as he battles Skynet and the rise of the machines. During this heavy action thriller, Connor meets his future bride(Claire Danes). Arnold is back, but the mesmerizing Loken may actually be the star of the show. There is strong sci-fi violence and some nudity providing \\\"R\\\" rated entertainment.\", \"helpful\": [\"1\", \"2\"], \"title\": \"terminator 3: rise of the machines\", \"year\": \"2003\"}, {\"review_id\": \"rw1245241\", \"reviewer\": \"rycarson-1\", \"movie\": \"Chinatown (1974)\", \"rating\": 10.0, \"review_summary\": \"One tiny criticism of an otherwise perfect film\", \"review_date\": \"22 December 2005\", \"spoiler_tag\": 0, \"review_detail\": \"In the final scene, Nicholson's Jake is a bit frantic (for good reason), but we never see any of that behavior in his character. That character trait is not even hinted at prior to that scene. Perhaps it is Jake's pure desperation. However, if so...it makes the scene feel rushed where it need not be rushed.Otherwise, this is a wonderful film and should be required viewing for any film buff. Polansky creates the right amount of confusion, intrigue, and atmosphere to bring the story to life in a way few directors can. A friend turned me on to this film and I must say I was never a huge fan of \\\"film noir,\\\" but I've started to pay more attention to the genre to good effect.\", \"helpful\": [\"1\", \"3\"], \"title\": \"chinatown\", \"year\": \"1974\"}, {\"review_id\": \"rw1215385\", \"reviewer\": \"moatazmohsen78\", \"movie\": \"36 Hours (1964)\", \"rating\": 8.0, \"review_summary\": \"the romance and war film\", \"review_date\": \"14 November 2005\", \"spoiler_tag\": 0, \"review_detail\": \"This film was the best one for Garner that he was the shadow and spirit of Clarck gable , this role was the second after (The great escape)and he gained from the previous film an experience for this role and he used perfectly his popularity to be a successful actor in Hollywood and his voice was a symbol of leader and Jan premier at once beside his eastern shape which help him to be varietal in his choice of roles.Eva Marie saint was a beautiful dream girl in this film to re pure the weather of terrible in this story and she was the symbol of love in the time of war to retry the pure and good of this world and she was a flower around exp losers.rod Taylor succeeded in this role that helped garner to escape and suicided because of attacking the law of his country Germany.At the end i entertained from this film because of varietal points i remembered it in the beginning of my comment\", \"helpful\": [\"2\", \"5\"], \"title\": \"36 hours\", \"year\": \"1964\"}, {\"review_id\": \"rw1133508\", \"reviewer\": \"DarrenHorne\", \"movie\": \"Vera Drake (2004)\", \"rating\": 4.0, \"review_summary\": \"Just wasn't my cup of tea\", \"review_date\": \"24 July 2005\", \"spoiler_tag\": 1, \"review_detail\": \"The critically acclaimed Mike Leigh film Vera Drake shuffled onto cinema screens months ago and I am still sceptical as to why it has gained so much praise. Imelda Staunton takes on the title role as a selfless matriarch that believes every problem can be solved with a cup of tea and a jaunty, if not annoying, hum. Vera copes with post war Britain with ease, holding together her interdependent family as she moves around the community, cleaning upper class houses and looking after those in need; always with a smile and a kind word on her lips. But Vera has a secret. In 1950's Britain abortion was illegal, certainly without the consent of highly paid medical professionals and psychiatrists. Vera's response to this is to perform \\\"backstreet\\\" terminations, helping girls \\\"in trouble\\\" by a non draconian method involving a syringe, soapy water and a detergent. This is not supposed to be a tirade supporting or condemning the pro life debate, just the story of one woman who truly believes what she is doing is right. Vera Drake was nominated for a plethora of awards, winning many of them, unsurprisingly as it ticks all the right boxes to gain the attention of the awarding bodies. The brilliant performances, the heavy and controversial subject matter and the attention to detail are all established steps along the road to awards-ville. Unfortunately this period of Britain and the characters portrayed have been parodied over recent years by some of the best comedic talents that Britain has to offer. Instead of being immersed within the narrative (as many people were) I was constantly reminded of the similarities between Vera Drake and Julie Waters's Mrs Overall from Acorn Antiques. This journey into my own little world was strengthened when Jim Broadbent turned up in a minor role as a judge. This is a walk on part! There is no character for him to develop or get his teeth into and he is too recognisable to believe he is anyone other than Jim Broadbent. I felt like the audience should erupt into the polite applause of cricket spectators as someone calls out \\\"Jim Broadbent ladies and gentlemen, round of applause for Mr Jim Broadbent\\\" His links to Victoria Woods and Julie Waters did nothing to stop my Acorn Antiques delusion, although at least I was able to entertain myself. I found the film repetitive, with the abortion sequences being repeated several times with diverse clients. It did not need this many different portrayals for the audience to understand what it is Vera Drake does, one or two would have sufficed. The everyday mundane nature of these operations is already emphasised due to Vera Drake handling them in the everyday manor of someone cleaning a toilet bowl. It is this flogging of the proletarian working class groundhog day-esquire life that drains the most, and at over two hours this film is a trial to sit through. This post war working class world is superbly represented down to the last detail; but at the cost of the narrative. A prime example of this is when Vera unpacks her shopping bag one item at a time so that the audience can marvel at the recreation of 1950's tins of food. I personally did not enjoy this film, would not watch it again and have put off even writing this review for as long as I could. Many people have tried to open my eyes and show me the beauty of this film, but I remain in the dark. Vera Drake was just not my Cup of Tea. Darren Horne\", \"helpful\": [\"2\", \"5\"], \"title\": \"vera drake\", \"year\": \"2004\"}, {\"review_id\": \"rw1144130\", \"reviewer\": \"ShootingShark\", \"movie\": \"Prescription: Murder (1968 TV Movie)\", \"rating\": 6.0, \"review_summary\": \"The Original Columbo TV Murder Mystery\", \"review_date\": \"7 August 2005\", \"spoiler_tag\": 1, \"review_detail\": \"Dr Ray Flemming, a wealthy psychiatrist, hatches a devious plot to murder his wife by making her death look like the result of a bungled burglary and having his lover impersonate her to give him an alibi. He has not however reckoned with the tenacity and persistence of the Los Angeles Police Department's Lieutenant Columbo ...This is the original Universal / NBC Sunday Mystery TV-movie featuring Falk as the iconic Columbo, adapted from their Broadway play by Richard Levinson and William Link. It's perhaps a little more straight-laced and melodramatic than many of the subsequent productions but this hardly matters - it's a fine thriller with some terrific twists, is extremely well made and features a career-defining performance from the brilliant Falk. Most of Columbo's foibles - his raincoat, his cigars, his pencil-stealing, his oh-just-one-more-thing routine and especially his play-dumb shrewdness are present here. It's important to note that cops in the movies at this time were almost all in the Steve McQueen / Clint Eastwood mould and Falk's complete contrast to them, both in terms of persona and acting style is what really makes this character special. Columbo is an unlikely American hero - a short, affable, methodical, unassuming, idiosyncratic man who uses brain not brawn. He's a treasure. Check out the hippy Dave Grusin score and the trippy Rorschach Inkblot-inspired title sequence.\", \"helpful\": [\"9\", \"10\"], \"title\": \"prescription: murder\", \"year\": \"1968 TV Movie\"}, {\"review_id\": \"rw1218683\", \"reviewer\": \"markbeardslee\", \"movie\": \"A Very Long Engagement (2004)\", \"rating\": 10.0, \"review_summary\": \"What a joyful surprise!\", \"review_date\": \"18 November 2005\", \"spoiler_tag\": 1, \"review_detail\": \"This touching, tragic, terrifying film represents a bold cinematic vision and succeeds where most American and British films that reach for similar heights fail.It's not fun. Nor is it happy. Nor humorous. Yet, somehow director Jean-Pierre Jeunet discovers glimpses of fun, happiness and humor amidst the agony of war, the pain of loss, the desperation of clinging to false hopes and the unique darkness of being condemned by one's own. Where else is a viewer going to see a grisly film, essentially about how French World War One soldiers who were accused (sometimes falsely) of self-mutilation to try to get sent home from the front but instead find themselves forced unarmed into the no-man's land between the French and German trenches as punishment, that still succeeds in making him laugh? Absurd but true. At times this film is reminiscent of Stanley Kubrick's 1957 \\\"Paths of Glory\\\" until the time frame changes and it presents a Forrest Gump-like innocence. Audrey Tautou (\\\"Amelie\\\") is perfect in the role of Mathilde, the fianc\\u00e9e who believes that her betrothed somehow survived his doom, but the direction is so precise, the cinematography so convincing, that Jeunet probably would have succeeded with any capable actress.This long movie does not poke along like \\\"The English Patient.\\\" Instead, it lunges from time frame to time frame, alternately a love story, a horrifying war picture, a very violent revenge caper, a reflection on \\\"mental illness\\\" and a farcical comedy with a compelling mystery thread that denies the viewer the luxury of turning away from the screen. Mathilde deceives characters in supremely clever fashion as she undertakes a dubious effort to find her man alive; it may take a while for the viewer to realize that he too is being manipulated. This is the kind of production that only a collection of the most adept directors, screenwriters, producers, film and sound editors, make-up and costume designers, special effects wizards and cinematographers can make work. One hardly realizes that 133 minutes have passed when the film reaches its tear-jerking conclusion.Surprise! Jodie Foster enters the story to portray a painfully torn woman whose part in Tautou's grand ploy proves pivotal. She speaks French as if it were her native language. And from time to time we are treated to the methodically deadly antics of an assassin, a veritable Femme Nikita, who has vowed revenge on every French military officer responsible for her lover's death. These scenes are somewhat reminiscent of Quentin Tarantino, yet they linger only momentarily. Shock is not Jeunet's plan. Rather, frightening realism mixed with a subtly jovial underpinning mark this fascinating film.No viewer is left untouched by the conclusion of this saga. Thankfully, Jeunet remains respectable by not settling for the sentimental, not allowing his viewers to breathe any long-awaited sigh of satisfaction that it all works out in the end, although, in a way, it does. Unexpectedly, the viewer finds himself weeping, whether at the startling starkness of the reality that Mathilde finally uncovers or at the intrinsic beauty of a unique and unexpectedly delightful film set in a ravaged Great War-era France, the viewer may not be able to tell. Maybe it's both. Many more films like this need to be made.\", \"helpful\": [\"0\", \"1\"], \"title\": \"a very long engagement\", \"year\": \"2004\"}, {\"review_id\": \"rw1168328\", \"reviewer\": \"Antagonisten\", \"movie\": \"3-Iron (2004)\", \"rating\": 9.0, \"review_summary\": \"A beautiful movie\", \"review_date\": \"8 September 2005\", \"spoiler_tag\": 0, \"review_detail\": \"To me it's been obvious for quite some time now that South Korea is by far the most interesting country in Asia when it comes to film. And Asia on the other hand feels like the most interesting continent, so where does that leave us? \\\"Bin-Jip\\\" (or \\\"3-iron\\\") is a wonderful movie. I went to see it without really knowing what to expect. I must admit that even though South Korean films appeal to me my expectations were quite low, not least because the movie was described in a way that was vague to say the least. But after watching it... it all made sense. Because how do you describe a movie like this one? It moves somewhere in the shadow-land between reality and fantasy. One of those movies that has very little plot to it but still comes across as beautifully written. And above all things it made me feel good! The closest reference i can find to how this movie made me feel is \\\"Lost in Translation\\\". Don't get me wrong, the movies are not very alike. But the feeling they gave me is the same. When i watched these movies for the first time i felt like i didn't really know what i was i just saw. I only knew that i liked it and it made me feel good. A warm sensation in my gut telling me that maybe there is hope after all. Hope for what? I don't know, life maybe? In the end the 3-iron, the golf-balls and the surface are not important. What's important is life, love and warmth. This is a beautiful movie, both on the surface and beneath it. It is also a truly unique movie experience and i don't get to say that very often. Highly recommended and definitely one of the best i've seen so far this year.9/10\", \"helpful\": [\"120\", \"140\"], \"title\": \"3-iron\", \"year\": \"2004\"}, {\"review_id\": \"rw1216827\", \"reviewer\": \"ccthemovieman-1\", \"movie\": \"Daredevil (2003)\", \"rating\": 7.0, \"review_summary\": \"It's True About The 'Director's Cut'\", \"review_date\": \"15 November 2005\", \"spoiler_tag\": 0, \"review_detail\": \"First off, this was a more complete version of the DVD which came out earlier. In this edition, about a half-hour of new material was added to the disc (and what was shown at the theaters.) All reviews I read said it elevated this film from \\\"fair at best\\\" to \\\"good.\\\" I agree. It made the movie much, much better.Yeah, it's more far-fetched than the other superhero movies because here, the hero is a blind guy who, because of his blindness, has extraordinary hearing powers along with the rest of the usual Batman/Spiderman-type athletic skills.As in most of the Batman films, this is a dark film. I think it would have been better had it lightened up a bit with a few jokes and a more wholesome female lead. Jennifer Garner is another one of these latter-day skinny chicks who is made to be tough-looking, tough-talking and tough-fighting. In other words: ridiculous. However, I will say she comes across a little more likable on the extended version. One more negative: the fight scenes go on a tad too long and are outlandish.On the positive side, this may be the best-sounding DVD I own, at least up to ones I had heard up until this came out in January of 2005. Since the hero (Ben Affleck) has super hearing, this is emphasized in this movie and so you, if you have a 5.1 surround system, hear sounds from all speakers at almost times. It's awesome!Affleck, meanwhile, is likable as the superhero and I liked the message he gives at the end about shunning revenge. Wow, you don't hear that much in movies. Kudos, too, to villains' Colin Farrell and Michael Clarke Duncan. They are fun to watch, especially Farrell.So, if this superhero film interests you, make sure you get the \\\"Director's Cut\\\" edition. It's far better than the original, and, I believe, the same price.\", \"helpful\": [\"107\", \"151\"], \"title\": \"daredevil\", \"year\": \"2003\"}, {\"review_id\": \"rw1237371\", \"reviewer\": \"alicealice88\", \"movie\": \"The Dark Side of Porn: Porn Shutdown (2005) Season 1, Episode 1\", \"rating\": 7.0, \"review_summary\": \"For People who Care about HIV~~~\", \"review_date\": \"10 December 2005\", \"spoiler_tag\": 0, \"review_detail\": \"Just watched it on Sundance channel. I don't want to get into how pornography has the potential (subjectively) to humiliate and degrade women. However, it is rather more significant for everybody to be aware of the HIV threat, whatever kind of lifestyle they decide to lead. It might be on a small scale for those doctors who know and care enough for people in the porn industry, and also do take the responsibility on their shoulder to make sure, at least, that they would stay \\\"healthy\\\". After early 1990s, with the invention of medicine that prolong the lives of people who have been infected with HIV, the younger generations tend to become more ignorance of the gravity of the illness. It is always good to keep in mind: Use a condom!\", \"helpful\": [\"3\", \"7\"], \"title\": \"the dark side of porn: porn shutdown\", \"year\": \"2005\"}, {\"review_id\": \"rw1176777\", \"reviewer\": \"mercury4\", \"movie\": \"Dillinger (1973)\", \"rating\": 1.0, \"review_summary\": \"This movie sucks\", \"review_date\": \"20 September 2005\", \"spoiler_tag\": 0, \"review_detail\": \"Once again I have seen a movie made by people that know nothing. I just recently reviewed Baby Face Nelson. Now I've seen Dillinger and I've had it.This movie is garbage. I don't know how anyone in their right mind could compare this to a classic like Bonnie and Clyde. This movie is far from a classic. Someone called it brilliant. That's an insane thing to say. This movie can't get any facts straight and it has the worst casting I've ever seen. I don't know whose dumb idea it was to cast Warren Oates as John Dillinger. First of all he looks nothing like him. Second of all, by the time John Dillinger was killed he was 31. When Oates made this he was 45! You could even tell that he's older than the real Dillinger just by looking at him. Not only was he too old, but so was Ben Johnson as Melvin Purvis.They show Baby Face Nelson die, then Homer Van Meter, and finally John Dillinger. John Dillinger was killed before both of them. The last one to die out of the three was Baby Face Nelson. Not only do the writers not know when they died, but they also don't know how they died. Baby Face Nelson was not killed after he escaped from Little Bohemia in a robe. Homer Van Meter was not killed by farmers with shot guns. Homer Van Meter was cornered by the police in St. Paul and gunned down with machine guns. Another member of Dillinger's gang, Harry Pierpont is shown being shot by police in this movie. Pierpont wasn't shot. Harry Pierpont was captured and sentenced to die in the electric chair. I go into what happened to Baby Face Nelson on my Baby Face Nelson review so I'm not going to go into it again here. Let me also add that Richard Dreyfuss' portrayal of Baby Face Nelson is pathetic. There's a scene where he attacks Dillinger and then gets a bad beating. While Dillinger was beating him he was crying like a baby and screaming, \\\"Leave me alone!\\\" Baby Face Nelson and John Dillinger never fought. Maybe Dillinger didn't agree with Nelson's bank robbing methods, but they never fought. Nelson also never cried like a little girl while getting beaten. They keep calling him Lester \\\"Baby Face\\\" Nelson. He was never in his life known by that name. Nelson's real name was Lester Gillis and he changed his name to George Nelson. The black guy that escaped from jail with Dillinger was Herbert Youngblood, but in this movie he is known as Reed Youngblood. John Milius doesn't know anything. Where the hell did John Milius get his information? I could probably make a better movie than him.Finally the way they showed John Dillinger die is outrageous and inexcusable. The movie shows Dillinger walk out of the Biograph with the Lady in Red and his girlfriend Billie Frechette. By the way, Billie Frechette wasn't even there that night. But a girl named Polly Hamilton was. Melvin Purvis yells, 'Johnny!' Dillinger pulls out his gun and is blown to hell. It is a proved fact that Dillinger did not have a gun that night. The FBI gave him no chance to surrender and as soon as he was in sight they blew him away. They didn't even have to shoot him. They were so close that powder burns were found on his face. It was murder. They also say that the man killed that night was not John Dillinger. After killing tons of civilians in the Little Bohemia incident can you imagine the FBI reporting that they had just killed another innocent unarmed man? The gun they had on display that was supposedly on Dillinger was also proved not to have been manufactured until after Dillinger's death. I could go on and on how the man they killed wasn't John Dillinger, but I'll stop here. If you would like to know more check it out hereSee the Dillinger version with Lawrence Tierney if you want, but don't waste your time with this inaccurate piece of garbage movie.\", \"helpful\": [\"5\", \"14\"], \"title\": \"dillinger\", \"year\": \"1973\"}, {\"review_id\": \"rw1212771\", \"reviewer\": \"pappersdraken\", \"movie\": \"Harrys d\\u00f6ttrar (2005)\", \"rating\": 10.0, \"review_summary\": \"A beautiful drama which breaks your heart\", \"review_date\": \"9 November 2005\", \"spoiler_tag\": 1, \"review_detail\": \"This extraordinary movie tells us the story about two sisters, Ninni and Marie. They are both middle-aged and pregnant for the first time. Ninni is a housewives who lives in a huge apartment with her successful husband Jonas and Marie is her opposite; working with animals and living in a small flat with her husband, the taxi driver Erik. They are all visiting Harry, the father of Ninni and Marie, to celebrate his birthday. Marie is worried about her child, since it has stopped moving around. The two sisters and the husbands drive to the hospital to check that everything is all right. The mid-wife immediately hears the heart beat. Jonas wants Ninni to check her child as well. She doesn't want to, but he convinces her to do it anyway. No heartbeats are found and a doctor confirms that her child has died. She is forced to give birth to her child and while she is being delivered, Marie is also giving birth to a child. A perfectly healthy child.This movie is about jealousy and love. Ninni can't accept the loss of her child and she wants to share the baby with Marie. None of them feels any good and after a while, old secrets are to be revealed.I really adored this movie, I was deeply touched by it. But don't see it if you're feeling down!\", \"helpful\": [\"4\", \"6\"], \"title\": \"harrys d\\u00f6ttrar\", \"year\": \"2005\"}, {\"review_id\": \"rw1196845\", \"reviewer\": \"jeffn7\", \"movie\": \"The Fog (2005)\", \"rating\": 2.0, \"review_summary\": \"The first half is really bad. I thought the second half was somewhat exciting.\", \"review_date\": \"19 October 2005\", \"spoiler_tag\": 1, \"review_detail\": \"This review contains a potential spoiler in the form of an analogy. I do not say what happens in the movie. But my analogy of the ending might spoil it for you...The first half of this movie is just boring. The acting is bad. The script is terrible. The story and back story are weak. Even Tom Welling's amazing face and body, plus the beautiful Oregon coast can't save it.The second half is exciting. The story and back story become stronger. The effects are convincing, creepy, and scary, and begin to make sense.The ending is very disappointing however. I will use an analogy... The bases are loaded. This is the most important game for the home team in the past 100 years. All the team needs to win the World Series is for the batter up to hit a home run. Instead, his girl friend runs onto the field and kisses a guy on the other team. No home run. Game over. They live happily ever after. Doesn't make much sense, does it? And that's pretty much how this movie ends. I don't remember much of the first Fog movie. But I know that the big miracle at the end of that movie was a thousand times better than the silly, pointless, illogical end of this movie.\", \"helpful\": [\"1\", \"3\"], \"title\": \"the fog\", \"year\": \"2005\"}, {\"review_id\": \"rw1228749\", \"reviewer\": \"vchimpanzee\", \"movie\": \"Silver Bells (2005 TV Movie)\", \"rating\": null, \"review_summary\": \"Pleasant holiday film\", \"review_date\": \"1 December 2005\", \"spoiler_tag\": 0, \"review_detail\": \"Danny and Bridget Byrne, who lost their mother several years ago, are being raised by their father Christy, who runs a Christmas tree farm in Nova Scotia. Danny takes pictures for his high school yearbook and he has a deadline, but his father thinks the farm is more important because, after all, it pays the bills, and Danny is to take over someday.After the harvest, the family delivers trees to New York City and sets up a stand to sell them. As usual, they stay with nice old Mrs. Quinn. As usual, widowed 'museum lady' Catherine O'Meara won't buy a tree. Danny visits her workplace with samples of his photography, and Catherine is impressed.When the time comes for the family to return home, Danny is missing. A year later, he has been replaced on the farm, and Bridget and Christy return once again to New York City to sell more trees. Rip, one of New York's finest, still does not have good news for Christy, who has returned to the city several times hoping to find his son. The 'silver bells' of the movie's title refer to a photograph that is part of the museum's 'look up' promotion. The Post is asking people to guess the location of the bells, and if no one does by Christmas, the paper will print the answer. Catherine's boss, a real estate developer, likes the idea, but his son thinks it's a waste of time.You don't have to be Allison Dubois to figure out the rest. Though there is one unexpected development that could complicate things.This is a pleasant family movie overall, but nothing really outstanding. It's at least as good as other Hallmark Hall of Fame presentations. I would say it is well-acted with the usual formula feel-good writing, though I like the formula. The only thing that might be considered offensive: a dispute between Danny and his father gets physical, which I found unnecessary.Anne Heche is pleasant enough and attractive with long hair, though I might have been happier with a different actress.It's a good film if you like this sort of thing. Which I do.\", \"helpful\": [\"16\", \"19\"], \"title\": \"silver bells\", \"year\": \"2005 TV Movie\"}, {\"review_id\": \"rw1209840\", \"reviewer\": \"sporty_girl_35\", \"movie\": \"A Walk to Remember (2002)\", \"rating\": 10.0, \"review_summary\": \"good movie\", \"review_date\": \"6 November 2005\", \"spoiler_tag\": 0, \"review_detail\": \"This is a wonderful movie...I'vie read the book by Nicholas Sparks and I'vie seen the movie 3 times....it is the best movie ever...made me cry, and Landon is so sweet to Jamie...and Mandy Moore is gorgeous especially when she was doing the play, talk about gorgeous. Two thumbs up for the movie! so romantic...why did she have to die?...but then again, I guess that was the point of the movie right? Because if it she didn't it wouldn't be called A Walk to Remember...because she wouldn't remember anything. But what they did to that guy in the very beginning of the movie was really mean...making him jump off the water thing,that was so mean...Jamie was so outgoing, she has a great self-esteem, not caring about what other people think about her, I do care what other people think about me, because thats just how I am..but yeah...anyway I think this is a romantic movie...and I cried, if you want another cry, I think The Notebook which is also based on a Nicholas Sparks book is The Notebook! I'vie watched that 3 times too and it still makes me cry! In fact all his books make me cry! Big two thumbs up for Nicholas Sparks! Keep going with your romantic books!\", \"helpful\": [\"1\", \"2\"], \"title\": \"a walk to remember\", \"year\": \"2002\"}, {\"review_id\": \"rw1219095\", \"reviewer\": \"AndiThomsen\", \"movie\": \"Ellen (1994\\u20131998)\", \"rating\": null, \"review_summary\": \"A great show goes downhill\", \"review_date\": \"18 November 2005\", \"spoiler_tag\": 0, \"review_detail\": \"I loved the first season when it still was called \\\"These Friends Of Mine\\\". Maggie Wheeler (Anita) and Holly Fulger (Holly) were marvellous and played with perfect timing. I think it was a really bad decision to drop them though Clea Lewis and Joely Fisher were quite funny too. With the changes made after the first episodes Ellen's character started to dominate everything and everybody but at least the scripts were still on top. Though I like Ellen DeGeneres a lot in my opinion soon it all got worse and worse. First, I totally dislike Jeremy Piven, so I was sorry to see Arye Gross leave the show. A gay person myself I got really annoyed when finally everything was built around Ellen's sexuality. I didn't watch it until the end since I'm not a fan of sitcoms without jokes.\", \"helpful\": [\"10\", \"21\"], \"title\": \"ellen\", \"year\": \"19941998\"}, {\"review_id\": \"rw1198473\", \"reviewer\": \"Qingshe\", \"movie\": \"Whale Rider (2002)\", \"rating\": 10.0, \"review_summary\": \"Exquisite film experience!\", \"review_date\": \"21 October 2005\", \"spoiler_tag\": 0, \"review_detail\": \"Writer/director Niki Caro adapted screenplay about the story of Pai, the heir to the head of the Maori Nation. A heartwarming story and an outstanding acting performance from newcomer, Keisha Castle-Hughes. She deserves an Oscar nomination as well, but alas there is an unusually busy slate of Academy Award type films in 2003, so Keisha might not make the cut. Surely if less of a performance from child actors Tatum O'Neil (Paper Moon'73) and Anna Paquin (The Piano'93) can receive an Oscar (Best Supporting Actress), then Keisha should be nominated (Best Actress or most likely as a child actor - Best Supporting Actress).This is a significant, substantial film. It's not only a movie about female empowerment (aka, Bend It Like Beckham), it is about the human condition. Audiences certainly have embraced the movie for its emotion, its beauty, its well directed screenplay, and its magic. But, what hits men and women the most is the visceral feelings of remembrance of there own childhood (coping with loss, rejection, dealing the anger of adults, mind reading as a emotional defense, unconditional love, and appreciating life's joyous moments). We have empathy for Pai, because we have all been there - either within a family or as an adult (12 years old inside) trying to find our way in changing situations and changing world conditions. There are many hidden subtleties in Whale Rider that make seeing it more than once a worthwhile endeavor.\", \"helpful\": [\"0\", \"0\"], \"title\": \"whale rider\", \"year\": \"2002\"}, {\"review_id\": \"rw1218193\", \"reviewer\": \"playboybun1\", \"movie\": \"Harry Potter and the Sorcerer's Stone (2001)\", \"rating\": 10.0, \"review_summary\": \"cool and funny\", \"review_date\": \"17 November 2005\", \"spoiler_tag\": 0, \"review_detail\": \"i first of all didn't want to see it as i didn't like the book. My mate said come on come on you've gotta see it! Daniel is so hot in it so come on you'll love him! so i went and i did enjoy the film. after she sad wasn't he hot? i said no he wasn't. Draco Malfoy(Tom Felton) is a different matter! ever since she took me to see the movie i watched it 3 more times at the cinema and then my sisters BF had the DVD and so i watched that over and over and over again. hes now got the 3 disc box set with 1, 2 and 3. 4th one out 2moz and i cant wait! i have to thank my mate, Sam, for showing me this movie. if she didn't drag me to the movies then i think about now ill be doing something else not connected to harry potter at all! thanks mate xx\", \"helpful\": [\"0\", \"1\"], \"title\": \"harry potter and the sorcerer's stone\", \"year\": \"2001\"}, {\"review_id\": \"rw1216144\", \"reviewer\": \"staceyisu\", \"movie\": \"Elizabethtown (2005)\", \"rating\": 9.0, \"review_summary\": \"Cameron Crowe does it again.\", \"review_date\": \"14 November 2005\", \"spoiler_tag\": 1, \"review_detail\": \"Ever since \\\"Say Anything,\\\" I've been a fan of Cameron Crowe. Elizabethtown did not disappoint. Orlando Bloom was great in the role of Drew. I sympathized with his character. To those people out there who insist he can't act, I say \\\"HA!\\\" This movie proves that he can. Kristen Duntz was good in a role I didn't ever picture her in. The supporting cast was superb, especially Susan Sarandon. I even liked Alec Baldwin, which is unusual. When the movie ended, I felt like I had been visiting my relatives and I had this sense of comfort and happiness, like I had been home. What I love about Cameron Crowe is his attention to characters. Unlike most \\\"romantic comedies\\\" Crowe's films don't have the usual crisis at the end. There isn't some great split followed by a reconciliation in the middle of a public place. The problems that arise are natural and they are resolved naturally. (Although it never did tell us where Samson's mother was) Still, overall, it was great film and I wanted to get back in line and see it again. Now I really, really want to take a road trip across America. Cameron, you did it again. Oh, and the soundtrack rocks!\", \"helpful\": [\"1\", \"3\"], \"title\": \"elizabethtown\", \"year\": \"2005\"}, {\"review_id\": \"rw1181324\", \"reviewer\": \"TonyDood\", \"movie\": \"Black Christmas (1974)\", \"rating\": null, \"review_summary\": \"Amazing\", \"review_date\": \"26 September 2005\", \"spoiler_tag\": 0, \"review_detail\": \"It's not often that you find a film in the thriller/horror genre that has something \\\"new\\\" to say, so it's even more exciting to find that one of the original films in the \\\"slasher\\\" genre is actually still one of the freshest, most unique and utterly entertaining of them all. This is the kind of movie you can't wait to tell your friends about, knowing full well they've probably never seen it, but they've heard of it.Everything about this film is stellar. The acting, to steal the words of a great reviewer who loves this movie, is flawless. The direction is confident and assured. What is Bob Clark's story? How did he go from making quirky, ground-breaking horror to...well...\\\"Baby Geniuses 2?\\\" His black-humored wit is on display in all his movies, and here too. Margot Kidder and Marian Waldman shine as foul-mouthed alcohol abusers. Particularly Kidder--it's hard to believe she did this at the BEGINNING of her career, she's that assured...and fun to watch. Olivia Hussey is alluring as the lead, Jessica, and her beauty, as well as her speaking voice are a welcome presence.The plot might seem clich\\u00e9d now, until you understand that it was all the movies that came AFTER that were the clich\\u00e9s--even \\\"He Knows Your Alone,\\\" which seemed so vital at the time, can't compare. \\\"Black Christmas\\\" is a FILM, and goes beyond the conventions of a cheap slasher. The key is the ending--only a director with an artistic sensibility would have fought for it (no spoilers here). Suffice to say, in all the slashers I've watched I've never seen the equal. It's a tricky business to sum up a mystery in a plot, and few can maintain the element of surprise, intelligence or creativity required. You will NOT see the ending coming here, and though the end is a surprise, it works well.If you're like I was and hesitating to watch this because you think it'll just be \\\"another fear film,\\\" don't waste anymore time! You will NOT be sorry you spent your Christmas \\\"black...\\\"\", \"helpful\": [\"87\", \"112\"], \"title\": \"black christmas\", \"year\": \"1974\"}, {\"review_id\": \"rw1165291\", \"reviewer\": \"Halkalooki\", \"movie\": \"The Tall T (1957)\", \"rating\": 10.0, \"review_summary\": \"On the lookout\", \"review_date\": \"4 September 2005\", \"spoiler_tag\": 0, \"review_detail\": \"I am always on the lookout for a good western. I have never seen the Tall T before coming across it yesterday on my TV. I was never even aware of Randolph Scott. I have heard of his name, that's about it.This is a great western, a real classic that ranks up there with One Eyed Jacks and Jeremiah Johnson. Honestly, I didn't get to watch it uninterrupted, and I want to see it again. But I did see enough to understand that this was no mediocre western. The film has aged very well too. The color is vibrant and not washed out or grainy like those old spaghetti westerns. Most of the movie was filmed outside and it captures the stark dry beauty of the American west perfectly.Like I said I have never seen Randolph Scott before this movie. He actually captivated me in this role. I was thinking, who is this guy? He can do a western as well as John Wayne! Of course I recognized Richard Boone, he was young in this movie and does a great job. I wonder if this role recommended him for the lead villain he played in Big Jake.I am glad I found this western and I am looking forward to watching it again.\", \"helpful\": [\"7\", \"13\"], \"title\": \"the tall t\", \"year\": \"1957\"}, {\"review_id\": \"rw1165742\", \"reviewer\": \"shasel\", \"movie\": \"The Halloween That Almost Wasn't (1979 TV Short)\", \"rating\": 10.0, \"review_summary\": \"One of my favorites!\", \"review_date\": \"4 September 2005\", \"spoiler_tag\": 1, \"review_detail\": \"I found this one year after trick-or-treating. I had no idea what it was at the time, but I thought it was hilarious. Of course, I couldn't find it again. My only issue with this gem is the disco music. Dear God, help me! I also loved Henri Gibson, along with John Schuck and Jack Riley. They were great in these roles. Then, like another viewer discovered, Disney Channel did a Halloween night, probably about ten years ago. I was able to record this, along with \\\"The Legend of Sleepy Hollow\\\" with Bing Crosby. Why these are not shown, along with \\\"Garfield's Halloween\\\", I'll never know. Guess the world only loves \\\"The Great Pumpkin\\\". I do as well, but there's more out there, people!\", \"helpful\": [\"0\", \"0\"], \"title\": \"the halloween that almost wasn't\", \"year\": \"1979 TV Short\"}, {\"review_id\": \"rw1224965\", \"reviewer\": \"ahilgart\", \"movie\": \"Tom Brown's Schooldays (2005 TV Movie)\", \"rating\": 10.0, \"review_summary\": \"Harry Potter is Tom Brown\", \"review_date\": \"26 November 2005\", \"spoiler_tag\": 1, \"review_detail\": \"This is an excellent BBC adaptation of \\\"Tom Brown's School Days\\\" from which Rowling got the Harry Potter setup.Here Hogwarts is Rugby, so no girls and no Ginny or Hermione, but there are a Ron and a Neville. Dumbledore is (the real) Dr. Arnold. Malfoy is Flashman (although Malfoy hasn't been a rapist or murderer, yet, perhaps). Flashman also has two disagreeable sycophants and is protected by his powerful father, a principal donor to Rugby. And, of course, Quidditch is Rugby football.There is no magic, of course, and Tom Brown has a conventional father, but the development of Tom's character parallels that of Harry.\", \"helpful\": [\"0\", \"4\"], \"title\": \"tom brown's schooldays\", \"year\": \"2005 TV Movie\"}, {\"review_id\": \"rw1238093\", \"reviewer\": \"babage-1\", \"movie\": \"Kill Bill: Vol. 1 (2003)\", \"rating\": 1.0, \"review_summary\": \"Bloody and Unrealistic\", \"review_date\": \"14 December 2005\", \"spoiler_tag\": 0, \"review_detail\": \"I don't get why this movie should receive a mature rating. This movie is a joke, blood doesn't flow out of a person like a fountain. The violence was unrealistic and unnecessary. Fight scenes were unbearably idiotic with hundreds of useless minions having a go at Uma and barely managing to maim her. I had to endure through all the bull and in the end it was like i spent my time watching someone play a video game at some video game convention on a big-a55 screen. The only good thing though was the acting of the characters, they really got their grove on and made me believe i was watching a video game. In conclusion this is a lame movie, if you like violence don't watch this because it just trivializes violence. And if you don't like violence then don't watch the movie because the whole movie is basically a fountain of watery(very fake) blood from start till the end, with some scenes with actual storyline thrown in just for the kick of it.\", \"helpful\": [\"8\", \"15\"], \"title\": \"kill bill: vol. 1\", \"year\": \"2003\"}, {\"review_id\": \"rw1222399\", \"reviewer\": \"Buff2001\", \"movie\": \"Titanic (1996)\", \"rating\": 9.0, \"review_summary\": \"A Hidden Gem!\", \"review_date\": \"22 November 2005\", \"spoiler_tag\": 0, \"review_detail\": \"I just found this great film in the Walmart $5.50 DVD bin. I bought it based on the superb cast and the fact that it had a Hallmark credit. I am assuming it is a three hour no commercial version of a two night four hour Hallmark Hall of Fame miniseries. I will refer to this version of Titanic as the CZJ version for Catherine Zeta-Jones one of its most shining stars.I was far from being disappointed. The CZJ version was very different from its 1997 Cameron Academey Award winning successor. Whereas THE Titanic movie had great music, a single overarching love story and very expensive sets and special effects, the CZJ version gives the big boy a run for its money.CZJ has two love stories, adequate graphics and effects, ordinary music and average sets and costuming. Where the CZJ version shines is in the concentration of the story on a much broader range of characters and a lot more scenes portraying details of what actually happened from April 9-16, 1914 on the Titanic, California and Carpathia.Where CZJ really shines is in its casting and the performances of the stars. The well known stars: CZJ, Peter Gallagher, George C. Scott, Marilu Henner and Eva Marie Saint live up to their performances before and after this relatively unknown TV turn. The lesser known young players do an extremely credible job as well.As I am writing this I can't help comparing these performances to the ones it the big Titanic. In the big Titanic as far as I'm concerned the only decent performances were by players in the \\\"overstory\\\" i.e. the discovery and exploration of the sunken Titanic. These would be performances by Gloria Stuart and Bill Paxton. As far as Kate Winslet and Leornardo DeCrapio are concerned they were badly miscast and stunk up the whole film for me. Actually the real stars of big Titanic were James Cameron and Celine Dion.Overall,I rated both these versions just about equal. I highly recommend you go to Your local Wal-Mart DVD bin or Amazon.com and find yourself a copy of this overlooked gem. you won't be sorry!\", \"helpful\": [\"3\", \"7\"], \"title\": \"titanic\", \"year\": \"1996\"}, {\"review_id\": \"rw1135459\", \"reviewer\": \"KeeganDeWitt\", \"movie\": \"9 Songs (2004)\", \"rating\": 9.0, \"review_summary\": \"A unique experience\", \"review_date\": \"26 July 2005\", \"spoiler_tag\": 0, \"review_detail\": \"It seems strange to have such an affection for a film that is so flawed and fails in so many areas. Either way, I really really enjoyed Nine Songs, a relationship drama told strictly through sex. First, we'll list the failures. The acting of our female lead is a bit suspect and makes her, in the end, unlikable. The photography, although intimate and immediate, suffers from it's DV quality and makes you wonder how beautiful this film could have been shot with the eye of perhaps... Lars Von Trier's dogma lense. Most importantly, the movie relies on two ingredients that in the end prove a bit useless. We are reliving the story in memory via the male lead as he travels through Antarctica. Although it is an interesting metaphor and a captivating landscape, it seems almost entirely unnecessary. We hear him say \\\"you can be clostraphobic and agoraphobic all at the same time, much like the bedroom.\\\" Secondly, and most important, the live music is inconsequential, although good. The actual image quality is low, the songs play for too long, the lyrics apply to the narrative not at all, and the bands all flirt with one style (Michael Nyman being the exception). I must say, there is an outstanding version of \\\"Jacqueline\\\" by Franz Ferdinand.Now let me tell you where the film succeeds. We experience two young, naive, selfish personalities infatuated with one another, and the idea of one another. This is expressed in the most immediate and intimate fashion: SEX. We see two people in the prime of a relationship, in which the most sex is had, and as much as possible, however possible, symbolizing favors, trust, forgiveness, revenge, and all the other facets of a relationship. These scenes also succeed because of their length, the total lack of music, and the director's willingness to let them exist without explanation. Although these two characters are not even particularly likable or explained to us, we end up feeling as if we've shared something very deep with them, solely based on the extent to which we are asked to hang with them throughout the long and graphic and no holds barred sex scenes.It may seem sick, but by the end, as a graphic fellatio scene ends with actual ejaculation, you have become so acclimatized to this topic, and it being our main source of communication, that there is an almost unspoken dialogue between all parties. Instead of feeling offended, we feel love for the privacy of the moment, for the trust and sharing that happens there. Instead of feeling aroused, we feel compelled by the motives, interested in the roles played and mindful of the moment shared.By asking that you step into a theater, with total strangers, and watch many graphic sexual encounters, many unexplained and without the usual Hollywood ramp-up, you have signed over a certain amount of control and comfort as an audience-member, which in the end, offers a truly unique experience of the \\\"love story\\\". When all is said and done, \\\"Nine Songs\\\" evoked a truly unique and loving response from me, in spite of the fact that as a film, it fails in many areas. I would not say that many films should be made like this, but I would say that it is flirting with a new form of love story that is raw, beautiful and in the end, no matter how many times it fails, honest by the sheer default of it's topic.\", \"helpful\": [\"75\", \"108\"], \"title\": \"9 songs\", \"year\": \"2004\"}, {\"review_id\": \"rw1155252\", \"reviewer\": \"t-excel\", \"movie\": \"Unleashed (2005)\", \"rating\": 8.0, \"review_summary\": \"Lovin' it !!!!\", \"review_date\": \"21 August 2005\", \"spoiler_tag\": 0, \"review_detail\": \"What can i say accept \\\"great\\\". Good martial arts ! Good story ! Amazing cast ! It's a tri-fectum of enjoyability. Morgen freeman: there's not much to say about this actor. I've never seen him preform badly. if acting were Greek, Morgan Freeman would be one of there gods. Jet Li: Although i like his performance in Hong Kong movies better than his Hollywood flicks. Man..., is he a martial artist or what! So smooth, so gracefully, and in this movie, so raw. Bob Hoskins: haven't seen him in a good movie in a while. I always liked his work very much and i hope i'll see him some more again from here on in. i did expect, well... hoped to see more kicking and hitting in it. i loved this movie, and as soon as they bring out the DVD here in Amsterdam i'll be the first one in the store to buy it.\", \"helpful\": [\"0\", \"1\"], \"title\": \"unleashed\", \"year\": \"2005\"}, {\"review_id\": \"rw1236952\", \"reviewer\": \"howard.schumann\", \"movie\": \"Downfall (2004)\", \"rating\": 8.0, \"review_summary\": \"Should be seen to appreciate the insanity of war\", \"review_date\": \"12 December 2005\", \"spoiler_tag\": 0, \"review_detail\": \"The most frightening things I can remember from my childhood in New York were the blackouts and air raid sirens during World War II and listening to the voice of Adolf Hitler on the radio. It was a voice that sent chills down my spine. That hypnotic voice, that chilling presence, is nowhere to be found in Oliver Hirschbeigel's Downfall, a powerful but novelistic account of the events that took place in Berlin during the final days of the Second World War. Bruno Ganz portrays the F\\u00fchrer as a broken and defeated man, stooped and palsied, raving about how his generals betrayed him, yet being kind to his wife Eva Braun (Juliane Kohler), his secretary Traudl Junge (Alexandra Maria Lara), and his dog Blondi. It is a strong performance and his character fascinates us, yet Ganz' fiery rants as the F\\u00fchrer seem to be overly studied, not emanating from the core of his being.The film is based on Inside Hitler's Bunker: The Last Days of the Third Reich by Joachim Fest and the memoir Until the Final Hour: Hitler's Last Secretary by Traudl Junge and Melissa Muller, and is shot mainly within the confines of a closed space that approximates the dimensions of the real bunker. In that oppressive atmosphere, Ganz recreates the physical deterioration and emotional instability of the F\\u00fchrer who remains steadfast while everything around him is crumbling. Although faced with certain defeat, soldiers are still being sent to their death while Hitler insists that \\\"every square meter\\\" of German territory must be defended or left behind as \\\"scorched earth\\\". Those that do not fight are shot on the spot as traitors.The city, however, is unable to defend itself against the continuing onslaught of Russian troops. Although military men know that there is no hope, no one is willing to challenge the F\\u00fchrer's orders or attempt to seize power. Many opt for suicide or go on drinking binges to obscure the failure of the military effort, although by that time, one of Hitler's chief objectives had been achieved with the annihilation of two-thirds of European Jews. As Hitler's wife Eva Braun throws lavish parties, the sound of artillery shells and bombs shake the bunker's walls. Both Eva and Traudl are shown as being so infatuated with Hitler that they dismiss reports of military failure and imminent death. Juliane Kohler portrays Eva Braun as a decent but superficial young woman, thinking only of serving the Third Reich. Lara depicts Traudl as young, apolitical, and hopelessly naive, the way Traudl views herself in her memoirs without ever discussing the impact her father's Nazi membership had on her life.Hirschbeigel prides himself on his adherence to the truth and Downfall is, by and large, historically accurate. The film, however, singles out a few individuals for being \\\"good Nazis\\\" and does not always tell the entire story. One idealized is Albert Speer, Hitler's architect, who tells the F\\u00fchrer that he did not follow his orders to destroy the infrastructure in German cities. This did take courage, yet Speer's organizational genius is said to have prolonged the war for at least a year, with the consequent death of hundreds of thousands and widespread ruin. Hermann Fegelin, Eva Braun's brother-in-law is shown as being ready to question the fawning mentality of the German army, yet he was also a member of the Nazi SS, responsible for the killing of thousands of Jews. In another half truth, the doctor, Professor Schenk appears to be a selfless hero in treating the wounded, yet this was the same man who was responsible for the death of hundreds at Dachau during forced labor projects and medical experiments.Despite its weaknesses, Downfall has a great deal of merit and it should be seen if only to appreciate the insanity of war and what can occur in a country where basic freedoms are denied. Of the many outstanding performances, two that deserve mention are Ulrich Matthes as the cold hearted Propaganda Minister Joseph Goebbles and his wife Magda played by Corinna Harfouch. The sequence in which she calmly poisons her six children because she does not want them to grow up in a world without National Socialism are among the most horrifying I have ever seen. Another performance worthy of mention is that of 13-year old Donevan Gunia whose Peter Kranz represents the crumbling facade of the Hitler youth.At the end, Hitler is a pathetic shell of his former self who refuses to admit his mistakes and begins to suffer from depression, spending his hours thinking of the best way to commit suicide. No compromise or surrender is ever contemplated though it might have saved thousands of lives. Hirschbeigel wants us to see that Hitler was just a flawed human being but human nonetheless. If this helps the German people to release feelings of guilt, it will have made a big contribution to world sanity. However, showing that Hitler had a human side does not help us to understand the man or his abhorrence of \\\"the dirty and degrading chimera called conscience and morality,\\\" as well as \\\"the burden of free will\\\" and \\\"personal responsibility\\\" which he thought should only be left to those in positions of power.Hitler may have been a good boss to his secretary and a kind husband but he never showed any signs of remorse when people died because of his actions. It was reported that Hitler used to laugh when Joseph Goebbels described the sufferings of the Jews. He once remarked that a guilty conscience was a Jewish invention. If he had some human qualities, they pale in significance with the breadth of his crimes that have attained an almost mythical dimension. In his devotion to achieving his ends through the use of unbridled physical strength and cruelty, he surpassed all his predecessors in his inhumanity and those are the terms in which he should be forever defined.\", \"helpful\": [\"0\", \"1\"], \"title\": \"downfall\", \"year\": \"2004\"}, {\"review_id\": \"rw1212077\", \"reviewer\": \"jacksragingbileduct99\", \"movie\": \"Cold Mountain (2003)\", \"rating\": 7.0, \"review_summary\": \"A Taste of Everything\", \"review_date\": \"9 November 2005\", \"spoiler_tag\": 0, \"review_detail\": \"This film struck me as.......cruel; with regards to the animal-slaying scenes. Also, the somewhat graphic depiction of rape and brutality amongst people surprised me.The performances are excellent, with Jude Law playing the handsome farm boy who falls in love with Ada(Kidman) and his obstacles and challenges that he encounters on his way home to her. But I must say, I was highly impressed with Renee Zellweger's contribution to the dramatic scale of the film. She portrays the 'workaholic' role very well and captures the very emotion and feeling that she possesses depending on the situation.I thought that this was a nice story and however brutal, or sexual it may be, can be enjoyed by quite a range of audiences\", \"helpful\": [\"1\", \"2\"], \"title\": \"cold mountain\", \"year\": \"2003\"}, {\"review_id\": \"rw1214472\", \"reviewer\": \"jfulmer-3\", \"movie\": \"Stage Beauty (2004)\", \"rating\": 10.0, \"review_summary\": \"Humorous, Thoughtful and intelligent!\", \"review_date\": \"12 November 2005\", \"spoiler_tag\": 0, \"review_detail\": \"A terrific film! How could this be overlooked but things like \\\"The wedding crashers\\\" become a hit!? If you enjoy humorous,thoughtful and intelligent entertainment this will quite possibly make your year. Recommend it to friends!The acting, scene design, and dialog are all just stunning. Billy Crudup's performance is awe inspiring. The scene from Othello near the end is absolutely huge. My wife does not like nor have any familiarity with Shakespeare and she was on the edge of her seat during that scene. A Winner all the way around.\", \"helpful\": [\"5\", \"5\"], \"title\": \"stage beauty\", \"year\": \"2004\"}, {\"review_id\": \"rw1189859\", \"reviewer\": \"nifelhem\", \"movie\": \"Troy (2004)\", \"rating\": 5.0, \"review_summary\": \"I want a Greek as Achilles!\", \"review_date\": \"9 October 2005\", \"spoiler_tag\": 1, \"review_detail\": \"Even if the movie was a bit too long, it was quite entertaining. The fighting scenes were awesome, especially the man to man combat scenes. The director did a good job with the mythological elements; removing the gods and turning the myth into history. For example: Achilles is pulling out all the arrows but not the one in his heel, and that explaining why everyone thought he was immortal anywhere else. That's cool! And that's what saves this movie, that you actually can believe this happened once. That it isn't just entirely fiction. Hell, it COULD even been a GOOD movie, had it not been for one particular actor: Brad Pitt. I have no problem with any other role, Hector is VERY good in fact, but Brad Pitt is simply WRONG! He has'nt got enough energy or spirit! It isn't only because his acting, but his appearance also. Look at him, no Greek look like that! He's blond, and so is Helen of Sparta!! It is horrible that the two most beautiful and godlike characters in the movie has to be blondes. I don't know why, I'm blond so I should be flattered, but instead it makes me sick! I'm glad Orlando Bloom got a supporting role, because he hasn't got the experience to play a major role. He does his part very well in fact. I enjoyed his fight with Gleeson, I think it was the best part in the movie! Another character that I felt wrong was Sean Bean as Odysseus. I don't understand!!!!..there must be lots of great Greek, Turkish or Macedonian actors, but instead they take actors that Pitt or Bean, that does not look Greek at all! The movie does not feel genuine or real if the actors can't fit into the environment. But i guess that's the only way to get teenage girls to a movie like this, is'nt it? YUCK!\", \"helpful\": [\"1\", \"5\"], \"title\": \"troy\", \"year\": \"2004\"}, {\"review_id\": \"rw1239912\", \"reviewer\": \"ragreen259\", \"movie\": \"The Skulls II (2002 Video)\", \"rating\": 2.0, \"review_summary\": \"who fished this turd out of the pool?\", \"review_date\": \"16 December 2005\", \"spoiler_tag\": 0, \"review_detail\": \"My God, what can be said. This doesn't even stand up to the usual poor quality of horror/thriller sequels. The really unfortunate thing is that the script actually stood a chance, but the flick itself went into the dumper the first five minutes and never recovered. Just to begin with, what is with all the beautiful people in the same place at the same time...? Is this like a Baywatch Goes to College movie? Then there's all the \\\"secret societies\\\" on the campus of this college. Does anyone ever go to class, or do they just run around in robes, hosing beautiful coeds wearing bras that push their boobs up under their chins? Then this \\\"secret society\\\" passes out rulebooks with the person's name on it that owns it? Gee, there's a really brilliant idea. I don't say this often, but I truly feel as if I've been robbed of 99 minutes of my life I'll never get back.\", \"helpful\": [\"7\", \"14\"], \"title\": \"the skulls ii\", \"year\": \"2002 Video\"}, {\"review_id\": \"rw1237791\", \"reviewer\": \"lambjw\", \"movie\": \"Man Stroke Woman (2005\\u20132007)\", \"rating\": null, \"review_summary\": \"1st series - funny\", \"review_date\": \"13 December 2005\", \"spoiler_tag\": 0, \"review_detail\": \"I thought this programme was a breath of fresh air. Yes some of it is variable - what sketch show isn't but I think the four main actors are just great together. Some of the sketches are down right silly. Others excellent observation - taken just that little bit (well quite a lot sometimes)further. Many are ensemble pieces often with all four and there are some really good running jokes \\\"you can't just say I look nice\\\", the guy thats always crying, the \\\"posh\\\" cosmetics assistants and particularly this evening I thought the three on the sofa discussing their horrible \\\"perfect\\\" boyfriends excellent stuff.Try not to compare it other shows and where the actors may have come from. Look at it for what it is - a bit of a laugh at men and women together.If you get the chance watch it. I think it works. I don't think you will be disappointed.\", \"helpful\": [\"27\", \"35\"], \"title\": \"man stroke woman\", \"year\": \"20052007\"}, {\"review_id\": \"rw1211576\", \"reviewer\": \"dogluver120\", \"movie\": \"Rugrats (1990\\u20132006)\", \"rating\": 10.0, \"review_summary\": \"Rugrats\", \"review_date\": \"8 November 2005\", \"spoiler_tag\": 0, \"review_detail\": \"Rugrats was one of my most favorite shows ever. I used to watch it everyday since i was five years old until i was about 11. I really miss it. it was one of Nick's better shows. They have nothing like it now, which is very sad and i'm not very happy they cancelled it. I mean it was such a great show. It attracted kids of all ages. I know so many kids who watch it all the time, even now i would still have watched it, and i'm 15. I really miss the old nick. I especially liked the old episodes of Rugrats, they were so funny. And caught my attention. I watched that show for 6 years straight every night. I miss it sooo much. It's just one of those shows you just have to see, no matter what age. I miss it. NIck did a good job with it, it's one of the only good shows nick ever had.\", \"helpful\": [\"1\", \"2\"], \"title\": \"rugrats\", \"year\": \"19902006\"}, {\"review_id\": \"rw1242668\", \"reviewer\": \"g404c\", \"movie\": \"View of Terror (2003 TV Movie)\", \"rating\": 8.0, \"review_summary\": \"good\", \"review_date\": \"19 December 2005\", \"spoiler_tag\": 0, \"review_detail\": \"Shannen Doherty stars as Celeste, a woman who moves into a new apartment after separating from her lover. Soon after, she receives numerous threatening phone calls from an unknown stalker. Perpetually tormented by the stalker, Celeste solicits help from various sources in an effort to put an end to the harassment.Charles Powell, Michel Francoeur, and Sean Tucker co-star with Doherty and they give an excellent performance. Doherty looks great and the production values in this one are pretty good.I recommend View Of Terror--I saw it on Lifetime back in 2003, and I just saw it again tonight on Lifetime Movie Network. This is one you can watch again and again.\", \"helpful\": [\"7\", \"8\"], \"title\": \"view of terror\", \"year\": \"2003 TV Movie\"}, {\"review_id\": \"rw1159285\", \"reviewer\": \"rsoonsa\", \"movie\": \"Dinner at the Ritz (1937)\", \"rating\": 7.0, \"review_summary\": \"Within An Environment Of Class.\", \"review_date\": \"27 August 2005\", \"spoiler_tag\": 0, \"review_detail\": \"This smoothly paced English made work has many advantages going: capable direction that includes thoroughgoing competence with editing processes, a talented internationally flavoured cast, striking settings, of which many are in Paris and along the French Riviera, a comedic yet accessible screenplay, and top-flight design of costumes and interiors for each scene. Beautiful Annabella has top billing as Ranie Racine whose financier father, despite his ostensible suicide, has to her mind been murdered, and in an attempt to determine the actual cause of her sire's death, Ranie links up with Paul de Brack, a British government agent seeking identical information (David Niven with his initial starring part in a major feature), the two formulating various undercover ploys during which they come upon a large banking scandal while, naturally, facing the pleasant bother of falling in love. Elegance is the keynote of the film, with the gowns and other costuming of Ren\\u00e9 Hubert being specially effective in its fostering, while a Monte Carlo casino, a luxurious Mediterranean yacht belonging to a probable principal in the mentioned scandal, in addition to concordant venues, are harmoniously complemented by the breezy dialogue penned by Roland Pertwee with additions from Romney Brent who also plays as a journalist following along the same trail as are Ranie and Paul. From the cast come numerous fine performances, Annabella earning acting honours for her vivid turn as an amateur detective, and there are telling contributions from Francis L. Sullivan and Tyrell Davis, representatives of the Forces of Evil, Shakespearian player William Dewhurst as an enigmatic jeweller who aids Ranie with adornment for her disguises, radiant Nora Swinburne, who not surprisingly steals her two brief scenes and, ever at ease among the elite, Niven may not be overlooked in this pleasant cinematic souffl\\u00e9.\", \"helpful\": [\"12\", \"12\"], \"title\": \"dinner at the ritz\", \"year\": \"1937\"}, {\"review_id\": \"rw1132865\", \"reviewer\": \"Lost_Highway\", \"movie\": \"The Quest (2006)\", \"rating\": 3.0, \"review_summary\": \"Not a documentary, not very good\", \"review_date\": \"23 July 2005\", \"spoiler_tag\": 0, \"review_detail\": \"This is listed as a documentary, it's not, it's filmed sort of like a documentary but that I suspect was just because then they get away with a shaky camera and dodgy filming. This has just been released in the UK on DVD as an \\\"American Pie style comedy\\\" it's not that either.Basically it follows around a group of teens on spring break as they go to Mexico for cheap booze and with the quest being to get there virgin friend finally laid. Throw is a couple of dwarfs, also on the same sort of quest and you have a non-hilarious tale of drunk teens trying to get some girls.Considering the 18 Rating this has very little nudity, and practically zero sex scenes, mainly I guess the rating is for swearing of which there is plenty.If you like crude Jackass behaviour without the humour, then this may be your thing, if you have any brain cells left then I would probably avoid this!\", \"helpful\": [\"17\", \"33\"], \"title\": \"the quest\", \"year\": \"2006\"}, {\"review_id\": \"rw1235046\", \"reviewer\": \"jrl22\", \"movie\": \"Feast (2005)\", \"rating\": 10.0, \"review_summary\": \"LA Scream Fest\", \"review_date\": \"10 December 2005\", \"spoiler_tag\": 0, \"review_detail\": \"I saw this film at Universal around Halloween and it was a lot of fun. The crowd absolutely loved it. Once we realized that it was supposed to be funny because it was clever and not funny because it was bad, the film just zipped along. Is it the best movie I've ever seen? Hell no, there are no wide shots in the entire movie and sometimes I got lost as to where we were in the bar. I think that was the point to create sense of being trapped, but personally I wanted at least one master shot. It isn't the suck fest people on this message board have been saying it is, that's why I gave it a ten, to counter act stupidity. In all honesty it's about a seven and it certainly doesn't disappoint.\", \"helpful\": [\"8\", \"18\"], \"title\": \"feast\", \"year\": \"2005\"}, {\"review_id\": \"rw1200396\", \"reviewer\": \"ebiros2\", \"movie\": \"The History of Rock 'n' Roll: Guitar Heroes (1995) Season 1, Episode 7\", \"rating\": 8.0, \"review_summary\": \"Episode 7: Guitar Heros\", \"review_date\": \"24 October 2005\", \"spoiler_tag\": 0, \"review_detail\": \"This episode is just dedicated to guitar heroes such as Santana, Eric Clapton, Eddie Van Halen etc. The driving force of electric guitar is what defined rock n roll music. As Jeff Baxter commented, no electric guitar, no rock n roll.Artists each express love for their instrument in this episode, and how the instrument transformed their lives. To most of them this was their way out and to express themselves. As Bruce Springsteen puts it \\\"The smell of electric guitar, it's like smell of grass, it brings certain feelings within you\\\". Eddie Van Halen puts it as \\\"When you walk into a music store, it's like walking into a candy shop\\\".If you love rock guitars, this episode is a must see.\", \"helpful\": [\"0\", \"0\"], \"title\": \"the history of rock 'n' roll: guitar heroes\", \"year\": \"1995\"}, {\"review_id\": \"rw1227683\", \"reviewer\": \"shagtobacco\", \"movie\": \"The Real Dirt on Farmer John (2005)\", \"rating\": 10.0, \"review_summary\": \"Touching, inspiring, hits close to home, no matter where you live...\", \"review_date\": \"29 November 2005\", \"spoiler_tag\": 0, \"review_detail\": \"I knew I would love this movie and the character of Farmer John from the opening scene where he tastes the soil in his fields and says it's tasting good today. Having myself been steeped in west coast Burning Man culture, I immediately recognized and honored John Petersen as a true Burner - even if he's never been to the desert festival himself. He's an artist, a entrepreneur, a dreamer and a builder. But what's more, he's a real person. His story is really our own story. He's a regular joe with a real heart, real fears and real stumbling blocks. His repeated failures... and then eventual success, through perseverance and love, is inspiring to every one of us because that's how it really happens!! This story isn't full of cinematic glorification!I loved this movie because it isn't a fantasy about creating intentional community or CSAs or going back to the land or any of that. It's about the hard, slow, steady and arduous process of the development of a human being who wants to make something good in this life. It's about years of trying and failing and trying again. It's about working through that feeling of failure to finding out what successes lie on the other side of failure. We've all been there. Disillusioned by our current lives and world situations. Can we really do what we envision? Can we really make a difference and make our ancestors proud? Do we really have what it takes to be the caring stewards of this land we were given? Do we have what it takes to provide for our future generations?I felt this movie is a story about how to *really* be successful, find happiness and make a difference. We can't control what the world may do around us, but we can chose our own paths. This movie reminded me that it's okay no matter where we're at along our path, so long as its focus comes from a true place within. If we do that, we, like Farmer John, may realize one day that we've finally worked our way into the idealized vision we always had of our lives - we may find success and happiness.Plus, you just can't beat that bug song music video where they're in the bee costumes!!!I LOVED it. See it. Rent it. Buy it. Give it as a gift to loved ones.\", \"helpful\": [\"17\", \"17\"], \"title\": \"the real dirt on farmer john\", \"year\": \"2005\"}, {\"review_id\": \"rw1195640\", \"reviewer\": \"Pedro_H\", \"movie\": \"The Bitch (1979)\", \"rating\": 4.0, \"review_summary\": \"For lovers of 1970's flashy disco junk only!\", \"review_date\": \"17 October 2005\", \"spoiler_tag\": 0, \"review_detail\": \"An owner of a 1970's London disco gets sexually involved with a shady medallion man who may have dangerous Mafia links.What a pile of junk this is! But, somehow and some way, I have a soft spot for it. A guilty pleasure that should be whispered lightly and only in limited company. It is so camp that on release it probably drove drag queen rushing towards the exits.It does - however - capture the 70's disco scene and fashions as well as the faceless hits that pumped out of them. Clear and brainless padding though they are.This is based on a (Jackie) Collins novel that shows the imagination of a newt: discos, glamour, the mob, diamonds, dancing and guys who think they look better with a thick moustache. If you were given the task of writing a script based on clich\\u00e9s you couldn't do better than this.Lead Joan Collins, only a few years before so down-on-her-luck that she was signing on the dole, takes her clothes off for about six milliseconds to reveal a pale skinny body that has seen better days, but you still would, wouldn't you? Everyone hated discos, even the people that went to them every week. Boring places where girls danced around handbags and every girl you spoke to was \\\"waiting for her boyfriend.\\\" A plastic imitation of a good time. Not to mention that horrible, insisting, pounding music that made any dance floor conversation impossible. If there is a hell - it must be like a 70's disco.Yes, you are probably going to hate it. Yes, you won't see what the point it is. But it is like a bad war film about a war that you went through yourself and have the scars to prove it - it keeps you involved even though there is a million other things that you really should be doing.\", \"helpful\": [\"17\", \"26\"], \"title\": \"the bitch\", \"year\": \"1979\"}, {\"review_id\": \"rw1176224\", \"reviewer\": \"ODDBear\", \"movie\": \"As Good as It Gets (1997)\", \"rating\": 9.0, \"review_summary\": \"Simply great\", \"review_date\": \"19 September 2005\", \"spoiler_tag\": 0, \"review_detail\": \"As Good As It Gets is one of those incredibly moving films that is also hugely entertaining. It's not just a comedy, you can't quite label it a drama piece, it just is what it is; simply great.What works here so well are the actors and the script. Nicholson and Hunt both won Oscars and they're simply great but Kinnear is no less effective as Nicholson gay neighbour. Plus that dog is amazing as well. This film really relies on great performances and there's no shortage of that here.As Good As It Gets is also remarkably well written. So well defined characters and completely involving, you quite simply grow to love them and sympathize with their plight. Nicholson's remarks are terrific, each one very quotable (personal fav; I think of a man and I take away reason and accountability).Direction is first rate, Brooks made Terms of Endearment so it's well established that he's quite capable of making great films. As Good As It Gets is very nearly as good it gets.\", \"helpful\": [\"56\", \"75\"], \"title\": \"as good as it gets\", \"year\": \"1997\"}, {\"review_id\": \"rw1208372\", \"reviewer\": \"ThurstonHunger\", \"movie\": \"Chaos (2001)\", \"rating\": 3.0, \"review_summary\": \"Merd with Children\", \"review_date\": \"3 November 2005\", \"spoiler_tag\": 1, \"review_detail\": \"This ain't Chaos, this is a mess.I feel like I was tricked into watching the french equivalent of a Steven Seagal film. That's a bit harsh, but this film fails on many levels. Yes it does have a plot that gallops in large and easy strides, but in a way that most comic books these days would be ashamed.A key problem with this film is the \\\"bad man\\\" factor. Yes men can be turned into idiots by beautiful women, but realistically men do idiotic things rather then turn into complete idiots. A big distinction I feel, and I don't just play a flawed man on TV...In its plot leaps, the film does hurdle some interesting topics. A juxtaposition of prostitution and arranged marriages. A look into the life of Algerians in France.The sweet crush of a youth versus the sour lusting of his father...for the same woman (now *that* had a faint whiff of French frisson). Rolling a blind-eye, and power-rolling a car window, to violence on the streets.But instead of taking one of these topics and really opening up the humanity and inhumanity clashing within it, the film is too busy making its rapid getaway from illumination towards an imitation of entertainment. The only way I could give this even a 5/10 would be if Noemi had ended up inspecting her father's teeth the second time she meets him at the shipyard.\", \"helpful\": [\"6\", \"10\"], \"title\": \"chaos\", \"year\": \"2001\"}, {\"review_id\": \"rw1167698\", \"reviewer\": \"Mikeonalpha99\", \"movie\": \"Feux rouges (2004)\", \"rating\": 8.0, \"review_summary\": \"\\\"The devil is on vacation with you\\\"\", \"review_date\": \"7 September 2005\", \"spoiler_tag\": 0, \"review_detail\": \"Red Lights is a strange, abstract, almost existential exercise in movie making. Adapted from the 1953 novel by Georges Simenon and set to Debussy's elegantly creepy Nuages, writer-director Cedric Kahn offers up movie with attributes of a Hitchcockian suspense thriller.The feeling of foreboding begins immediately when we meet Antoine Dunant (Jean-Pierre Darroussin a low-level insurance executive. He's just leaving his job to meet his beautiful wife H\\u00e9l\\u00e8ne (Carole Bouquet) in a local caf\\u00e9. They are planning to drive to the countryside from Paris to pick up their kids from summer camp.But as soon as Antoine gets to the caf\\u00e9 he guzzles three beers back to back with one eye on the street lest his wife arrive before he's suitably fortified. It soon becomes pretty obvious that their marriage is far from happy - Antoine armed with enough drink to sink an elephant, settles into a manner of truculent impetuosity, while Helene remains detached, cold, and almost abusive.While in the road, Helen discovers that her husband is utterly plastered. She hardly says anything as he weaves all over the road, but her silence speaks volumes. Thus starts a trip of barely controlled hostility with the husband clenching the wheel and brooding, while the wife fumes beside him. Both are so busy bickering with each other and thinking dark thoughts that they're half oblivious to news reports of an escaped convict on the loose nearby.Antoine isn't usually a drinker, but something has snapped in him, and as the neon signs of the roadside bars start to beckon him, he becomes obsessed with downing as much cold beer and whisky as he can. He leaves Helene angrily waiting in the car while he goes into yet another bar, to prepare himself for the long night ahead.H\\u00e9l\\u00e8ne, freaked by his increasing belligerence and inability to drive in a straight line, abandons her husband to look for a train station. Meanwhile Antoine strikes up a conversation with a reserved one-armed stranger (Vincent Deniard).When, minutes later, the stranger steps out of the parking-lot shadows, his face half hidden by the hood of a sweatshirt, and asks for a ride, the cocky, staggering Antoine doesn't even break stride. By now he's so sweaty and drunk that he waves the fellow right into the car.What follows is detour into a night of terror for Antoine, Helene, and for the viewer. The movie starts to resemble everyone's nightmare - the inexplicable disappearance of a loved one. And as Antoine embarks on a desperate journey to track his wife down, it soon becomes clear that Red Lights is really showing us a portrait of a marriage, a marriage that has been enigmatically hanging by a thread.Their need to see the children again is probably just a way of distracting them from the aridness of their relationship. She's beautiful and accomplished, while he plain and dull. Somehow the couple began their marriage as equals, but she soon eclipsed him, for which he can't forgive her. Other than this, Kahn provides very little reason as to why their relationship has suddenly gone sour.What Kahn does provide, however, is the knowledge that marriage can often dissipate completely, leave two strangers in a car, totally sick of each other, in desperate need of a reviving shock to the system. But when the sun finally rises, and Antoine is released from his drunken hell, Kahn does provide a dash of hope for the couple.In the end, Red Lights is showing that relationships are frail and that the machinations of marriage are often inexplicable. And if nothing else, Antoine and Helen show that it can all dramatically and irrevocably change and fall apart in a searing flash of red light. Mike Leonard September 05.\", \"helpful\": [\"6\", \"6\"], \"title\": \"feux rouges\", \"year\": \"2004\"}, {\"review_id\": \"rw1170290\", \"reviewer\": \"loza-1\", \"movie\": \"Star! (1968)\", \"rating\": 7.0, \"review_summary\": \"One of Julie Andrews's Best Performances\", \"review_date\": \"10 September 2005\", \"spoiler_tag\": 0, \"review_detail\": \"Finding a good vehicle for Julie Andrews is a problem. She has a terribly affected accent - especially when singing, and has to live down a cinematic image which began with Mary Poppins and was dragged to the bottom of the pit by having to make the best of a truly appalling role as Maria in the Sound of Music. In this film, however, she shows herself as being a performer of some ability. I have seen Gertrude Lawrence in films. In my opinion, Ms Andrews is a better performer - in films, at any rate - than Gertrude Lawrence ever was. Ms Andrews shows a pretty good range of acting muses: her portrayal when drunk at the party was particularly good.Having said that, the script and the storyline are not particularly good. Some of the facts of Gertrude Lawrence's life are not correct. For instance we have Bruce Forsyth playing Ms Lawrence's cockney father. As I recall, Gertrude Lawrence's father was a Dane named Clausen or Klaasen or something. Bruce Forsyth er ikke saa dansk, although he is, of course, an effective performer.Her husband Richard Stoddard Aldridge - as the dialogue calls attention to - talks like a contract. And this is annoying. Gertrude Lawrence herself in this film is pretty two-dimensional, although that is the fault of the scriptwriter rather than the actress, who does her best with what she has been given. Of the musical numbers, I liked the Jenny number the best.In summary, this film, for all its faults, is worth watching if only to see Julie Andrews make an almighty effort to shrug off the little miss goody goody two shoes image she got saddled with in The Sound of Music.\", \"helpful\": [\"4\", \"5\"], \"title\": \"star!\", \"year\": \"1968\"}, {\"review_id\": \"rw1229526\", \"reviewer\": \"ccthemovieman-1\", \"movie\": \"Plunder Road (1957)\", \"rating\": 8.0, \"review_summary\": \"An Odd-But-Interesting Film Noir\", \"review_date\": \"2 December 2005\", \"spoiler_tag\": 0, \"review_detail\": \"This is another of those \\\"Poverty Row\\\" film noirs, a crime movie made on a low budget but yet decently acted and certainly entertaining.Gene Raymond and Elisha Cook Jr. are known actors to classic film buffs but the rest of the cast may not be too familiar. There is no one star in this film anyway but all give good performances, particularly Raymond, the most interesting member of the gang.The weak link of the film, at least to me, was the ending...but I give it points for originality. Overall, the story was a simple one, but oddly told. I say that because the important things that happened in the film (the arrests of the criminals, for one thing) would be glossed over quickly while minor things would be detailed longer than necessary. Despite that, the film was interesting thanks to good dialog, realism on the part of the characters and the short running time (73 minutes). Hope to see it on DVD some day.\", \"helpful\": [\"29\", \"32\"], \"title\": \"plunder road\", \"year\": \"1957\"}, {\"review_id\": \"rw1177663\", \"reviewer\": \"noralee\", \"movie\": \"Campfire (2004)\", \"rating\": 8.0, \"review_summary\": \"A Humanistic Take on Women Dealing with Boys Being Boys\", \"review_date\": \"20 September 2005\", \"spoiler_tag\": 0, \"review_detail\": \"\\\"Campfire (Medurat Hashevet)\\\" will probably draw the most attention for its insights into West Bank settlers of the 1980's, but I found it more intriguing as a moving and humor-filled portrait of a family caught at the conflict between feelings and society, particularly in a boys will be boys culture. Like \\\"Broken Wings (Knafayim Shvurot),\\\" this is an Israeli family with teenagers struggling with apolitical grief, but that was a secular family. Like \\\"Upside of Anger,\\\" there's a grieving mom struggling with teenage daughters as all are dealing with their loneliness and sexuality. Like \\\"Welcome to the Dollhouse\\\" and \\\"Smooth Talk,\\\" it deals with teen girls susceptibility to guys. \\\"Saved!\\\" showed teens dealing with some these issues in a comparable conservative community, but satirically unsympathetic. Here instead we have a mother in a situation that would be difficult in any time, any place. The mother has just finished her year of mourning for her husband and is at loose ends, financially, emotionally and as a now single parent of daughters anxious to get on with their lives. All three are vulnerable to persuasion. But they happen to be a modern Orthodox family in Israel so their normal developmental stages are buffeted by religious and social strictures on their behavior. The mother is attracted to the possibility of joining her husband's friends in a group to found a West Bank settlement, more for the companionship and structure it would give to her and her family's life than for zealotry. I'm sure American audiences miss a lot of the political references during scenes of organizing committee meetings, applicant interviews and singing, sloganeering and film viewing (let alone subtleties involved with types and angles of head coverings and length of skirts worn, eating habits and the summer fast day of Tisha b'Av), but the diversity of motivations and social hypocrisy of many of those involved does come through. Going through the process of dealing with these friends and their expectations makes her stronger as an individual, particularly as she reflects on her marriage and what she wants from future relationships.The triangle of the younger and older women's relationships is among the most emotionally frank I've seen on film in its honesty about insecurities, confusions and peer pressure in male-female relationships, symbolized throughout by the father's car and how they and the guys around them deal with it. While the mother is pushed to re-enter the dating pool and explores a relationship with some similarity to how Catherine Keener sweetly handles \\\"The 40 Year Old Virgin,\\\" the older daughter focuses on her one-track minded hunky soldier boyfriend, seems to be rebelliously secular and is opposed to moving. The younger daughter absorbs all these contradictory signals. There's a marvelous scene of her exuberantly dancing to romantic pop music at home by herself that is straight out of \\\"My So-Called Life\\\" (or the totemic equivalent for guys \\\"Risky Business\\\") to show that in the U.S. she'd be considered a typical teen ager. Her curiosity about boys is therefore not surprising, so that the adults around her seem rigidly clueless in not expecting that restlessness from her when the appeal of the bad boy is clearly universal. There are occasional references to the complexities of a diversifying Israel that Americans can understand, as when the mother comments the B'nei Akiva youth group isn't the same as when she was young. The actresses are refreshingly not Hollywood beautiful, though it is clearly a running visual joke when the safe guy choices are not just nerdy but are bursting their untucked shirt buttons, even as it is sympathetic to their pressures as well, making the alternatives that much more attractive.While this is no \\\"Norma Rae\\\" or \\\"My Brilliant Career\\\" as a feminist tract, nor is it the anti-Orthodox agit-prop of \\\"Kadosh,\\\" the film has a strong, fair and balanced humanistic and sweetly forgiving point to make about women in a male-dominated society who are expected to act a certain way and the consequences they face when they step out of line -- and how the men who love them can be supportive as they learn to live together. While \\\"Campfire\\\" is distributed unrated by the MPAA in the U.S., as a parent I would give it a PG-13. It deals with some of the same issues as PG-rated \\\"The Sisterhood of the Traveling Pants\\\" but in a more serious and mature way as applied to a younger teen.\", \"helpful\": [\"8\", \"12\"], \"title\": \"campfire\", \"year\": \"2004\"}, {\"review_id\": \"rw1160951\", \"reviewer\": \"JesX\", \"movie\": \"Hellboy (2004)\", \"rating\": 5.0, \"review_summary\": \"Watch it at your own risk.\", \"review_date\": \"29 August 2005\", \"spoiler_tag\": 0, \"review_detail\": \"Del Toro did an acceptable job here. The opening scenes especially where we learn the origins of Hellboy and the enemy to be reckoned with. It's detailed and compelling and remains loyal to the comic. Ron Perlman is awesome. He has a gift of giving the \\\"brute\\\" humanity(i.e. \\\"City of Lost Children\\\".) So, what went wrong? Selma Blair, that's what. She is vapid, unpleasant and barren of any emotion. I would like to say you just don't care about her character here, despite her best effort, but she just doesn't seem to put forth any. During what could have been a touching moment between her and love-interest Hellboy, she pauses for drama, but you're really expecting her to call off camera... \\\"Line?\\\". On a side note, Selma did well in her role for \\\"Cruel Intentions\\\", where she played a spoiled socialite-on-the-rise who is naturally vapid, unpleasant and barren of any emotion. To this, I attribute her current success, as she probably caught the attention of many filmmakers. But now that she is mucking up lead roles someone needs to say enough is enough, and I for one am crying uncle.\", \"helpful\": [\"0\", \"2\"], \"title\": \"hellboy\", \"year\": \"2004\"}, {\"review_id\": \"rw1154052\", \"reviewer\": \"TrueSurvivor2005\", \"movie\": \"Guess Who (2005)\", \"rating\": 1.0, \"review_summary\": \"See Guess Who's Coming To Dinner Instead\", \"review_date\": \"20 August 2005\", \"spoiler_tag\": 0, \"review_detail\": \"I'm gonna put it like this, for those who haven't seen Guess Who's Coming To Dinner, plain and simple...WATCH THAT MOVIE FIRST AND LEAVE IT AT THAT!!!!!! The actors in Guess Who's Coming To Dinner acted brilliantly, it's a CLASSIC film. Not only was it HILARIOUS, it was very touching and real as well. Sadly, 38 years later, they had the nerve to remake a classic comedy like Guess Who's Coming To Dinner and reverse racial roles. Guess Who. was far from hilarious. First off if you saw the original, you never saw Sidney Poitier in the same bed as Spencer Tracy, nor in the same bedroom for that matter. Guess Who was the opposite. In the original, all the parents met. In Guess Who, Ashton only mentions what his mom and grandma said about his future fianc\\u00e9e. Sidney never ever argued with his fianc\\u00e9e and then had the nerve to be desperate and sing horribly to get her back (not to mention make 35 cell phone calls). The most distasteful thing about Guess Who was the fact that they had to make a bunch of racial jokes with the black actors laughing. There was only one instance in Guess Who when Isabel Sanford called Sidney Poitier the N-word, but that was once. The fact is Guess Who was the WORST movie Bernie Mac ever starred it and it's a poor excuse for a remake. Guess Who's Coming To Dinner was a classic, pure, hilarious comedy without all the filth and sex-related humor, Guess Who was the opposite, PLAIN AND SIMPLE and that's it, ENOUGH SAID!!!\", \"helpful\": [\"6\", \"13\"], \"title\": \"guess who\", \"year\": \"2005\"}, {\"review_id\": \"rw1214518\", \"reviewer\": \"r-ai\", \"movie\": \"Reefer Madness: The Movie Musical (2005 TV Movie)\", \"rating\": 1.0, \"review_summary\": \"By far the worse movie ever made!!!\", \"review_date\": \"12 November 2005\", \"spoiler_tag\": 0, \"review_detail\": \"If there were a contest for the worse music, lyrics, acting, and overall script, this movie is so terrible in every sense that it would require is own shrine. I can not believe Neve Cambel agreed to be a part of this. Please do not waste your two hours watching this, better to have root cannal without anesthesia or be repeatedly ran over by a truck. The producers and the director should all be sued and locked up in a dark basement where large scenes would constantly play back the film over and over forever... so that they could judge for themselves the horror they produced. They should never ever work again. Don't these people have a conscience? Are they mad? How could they raise the money to produce this monumental piece of poop? I am truly sorry for the actors, silly little puppets... They probably were cunned into this...\", \"helpful\": [\"7\", \"36\"], \"title\": \"reefer madness: the movie musical\", \"year\": \"2005 TV Movie\"}, {\"review_id\": \"rw1188710\", \"reviewer\": \"moviemonster390\", \"movie\": \"Waiting... (I) (2005)\", \"rating\": 10.0, \"review_summary\": \"funniest movie of the year\", \"review_date\": \"7 October 2005\", \"spoiler_tag\": 0, \"review_detail\": \"i thought this movie was mad funny. it had 2 be the best comedy of the year that i thought. it had mad funny comments and it had funny parts in the movie and it reminded me a lot like clerks and i liked that movie also. Ryan Reynolds was funny and he had mad good lines in it and he also had some funny parts in it. Dane cook was funny as hell even though he didn't have that many lines but he was funny. Andy milanokis even though he didn't speak a lot was funny as the stoner/gangster and he was funny when he said his lines. this movie was funnier then wedding crashers i thought and i recommend it to everyone and u will laugh your a$$ off during this movie.10 out of 10\", \"helpful\": [\"6\", \"20\"], \"title\": \"waiting...\", \"year\": \"2005\"}, {\"review_id\": \"rw1225637\", \"reviewer\": \"bcolquho\", \"movie\": \"Special Bulletin (1983 TV Movie)\", \"rating\": 10.0, \"review_summary\": \"Chilling BRRRRRRRR.!!!!!!!!!\", \"review_date\": \"27 November 2005\", \"spoiler_tag\": 0, \"review_detail\": \"If you missed this movie when it was first on in the early 1980s, then you should watch it now. It's probably out on DVD. The plot could be taken from today's headlines. However, it's not. The thought of terrorists getting their hands on a nuclear bomb seemed distant and unrealistic back in 1983. Today, it seems all too real. Three years ago, our troops in Afghanistan captured Al Qaeda documents that said it was \\\"their religious duty\\\" to obtain nuclear weapons. The movie was about a reporter and a cameraman who were taken hostage by \\\"peace activists\\\" on a tugboat in Charleston Harbor. The \\\"peace activists\\\" are actually terrorists. They're demanding that every nuclear detonators in the Charleston area be delivered to them to destroyed or else they'll explode a nuclear bomb of their own. Where did they get it? We don't know. We have to assume that it was stolen. What happens in the last ten minutes? You'll have to torture me to get that information out of me and even then I wouldn't tell you. Watch and find out yourselves.\", \"helpful\": [\"5\", \"8\"], \"title\": \"special bulletin\", \"year\": \"1983 TV Movie\"}, {\"review_id\": \"rw1155936\", \"reviewer\": \"mrphantasm\", \"movie\": \"Dark Water (2005)\", \"rating\": 6.0, \"review_summary\": \"Standard scares in an outbalanced adaptation.\", \"review_date\": \"22 August 2005\", \"spoiler_tag\": 0, \"review_detail\": \"It would be good if Dark Water shows to the American film industry that some of the currently exploited trends are getting rancid as the water of this remake. Dark Water is one more of the Hollywood's adaptations of Asian horror movies. Once again they use Hideo Nakata's successfully created material. And they hire a foreign director that has had success with two of a list of movies, Diarios de Motocicleta and Estaci\\u00f3n do Brasil were both critically acclaimed. But was he ready to direct a horror flick? It seem like he wasn't or maybe the producers are the bad guys here and he is the next John Carpenter, who knows? The script is quite a mess; it only shows one scene of high tension and desperation felt by one of the characters at the end of the movie. Desperation is the source of fear, we can only feel the fear that exudes characters if they are in danger or they feel that way, this is quintessential in horror and it's the reason why Dark Water almost has no real scaring scenes. Dark Water has an intimate way of story-telling, showing how the supporting characters are when they hide their true nature. But at the end this works against the final result due to a not so little unfinished subplot involving the father of Ceci. Many movies with more ridiculous premises and much less budget are more respectful to what is horror. The last half of Dark Water is better than the first half. The last half doesn't show new ideas but at least tries to give some satisfaction to the audience. One can imagine Dahlia having this imaginary thought \\\"oh yeah, there's a ghost in my house, well I'll deal with that once I have solved my familiar problems (?????)\\\" or at least it looks like that is the posture of Jennifer Connelly's Dhalia.Jennifer Connelly's performance is adequate, even tough in the highly dramatic scenes she shares with Ariel Gade (her fictional daughter) the result is erratic she seems too theatrical and Ariel appears as a dull young actress. Dealing the movie mainly with the whole mother-daughter motto this is not an insignificant matter. Tim Roth's performance is a redeeming note, he is an amazing actor in supporting roles (remember Pulp Fiction?) here he creates one interesting lawyer.The music and cinematography are way too standard also. The score is the average for a psychological horror-thriller work but the cinematography has some shots that look too raw for a blockbuster like this one unless the intention was create something stylish but it certainly doesn't look good.\", \"helpful\": [\"0\", \"2\"], \"title\": \"dark water\", \"year\": \"2005\"}, {\"review_id\": \"rw1149736\", \"reviewer\": \"claudio_carvalho\", \"movie\": \"Twins of Evil (1971)\", \"rating\": 8.0, \"review_summary\": \"Another Excellent Production of Hammer\", \"review_date\": \"14 August 2005\", \"spoiler_tag\": 1, \"review_detail\": \"In the Nineteenth Century, the twin sisters Maria Gellhorn (Mary Collinson) and Frieda Gellhorn (Madeleine Collinson) become orphans and come from the progressive Venice to a small town the country of England in the lands of the Count Karnstein (Damien Thomas), who worships the devil, to live with their uncle Gustav Weil (Peter Cushing). The fanatic religious and witch finder Gustav and his secret brotherhood are in a crusade against witches and vampires, due to many deaths in the area caused indeed by their powerful enemy Count Karnstein, chasing and burning many innocent young women accused by them of witchcraft. Maria is a well-behavior woman and accepts the conditions imposed by her uncle, but when the rebel Frieda decides secretly to visit Count Karnstein in the middle of the night, the evil Count sees the opportunity to use Gustav's nieces in his revenge against Gustav.\\\"Twins of Evil\\\" is another excellent production of Hammer. Peter Cushing is amazing in the role of a witch finder, and although having good intentions, in the end is an evil man in his religious fanaticism. Mary and Madeleine Collinson are delicious, being very sexy and erotic, with an unusual frontal nudity considering a 1971 production. The Gothic story is attractive for fans like me of this type of film, being more violent than other Hammer's productions; the photography is beautiful; and there are great effects, such as decapitation of Frieda. My vote is eight.Title (Brazil): \\\"As Filhas de Dr\\u00e1cula\\\" (\\\"The Daughters of Dracula\\\")\", \"helpful\": [\"13\", \"16\"], \"title\": \"twins of evil\", \"year\": \"1971\"}, {\"review_id\": \"rw1203924\", \"reviewer\": \"mm-39\", \"movie\": \"Saw II (2005)\", \"rating\": 6.0, \"review_summary\": \"I just saw the movie! Does the movie make the cut?\", \"review_date\": \"29 October 2005\", \"spoiler_tag\": 1, \"review_detail\": \"I just saw the movie! Does the movie make the cut? I found Saw 2 a dull blade compared to the first. The first movie is built on suspense which the second maintains, but saw 2's repetition loses the tension of the predecessor. The lack of character development along with too many characters , and the unlikable characters ruin the re pore with the audience. The elevator ending was stupid. The moral judgment of a sadist on other is a hard and de-humanizing display. Jig-saw lecturing the cop on morals is like Stalin lecturing Hitler on governmental responsibility. I cannot buy this! I like the first movie when the killer is just sick with a twisted logic. The doctor is a likable man a good formula, hard for the makers to improve on. 6 out of 10\", \"helpful\": [\"4\", \"14\"], \"title\": \"saw ii\", \"year\": \"2005\"}, {\"review_id\": \"rw1162131\", \"reviewer\": \"bkoganbing\", \"movie\": \"Shalako (1968)\", \"rating\": 5.0, \"review_summary\": \"Europeans get to play cowboy\", \"review_date\": \"31 August 2005\", \"spoiler_tag\": 0, \"review_detail\": \"The idea behind Shalako is not as preposterous as it sounds. Lots of European nobles came here for hunting parties during the American wild west period. As was pointed out in the beginning of Shalako among others was the Grand Duke Alexis of Russia where Buffalo Bill served as a guide to his party. That being said I'm sure none of them were as dense as Peter Van Eyck who when warned of Indian danger, refuse to leave an area. Quite frankly those Indians should have wiped those blockheads out and would have if not for the efforts of intrepid Indian scout Shalako, played by Sean Connery in a cowboy suit.Connery looks real nice, but if he wanted to play a western a better script would have done for him. Sean knows this thing is a turkey, but if you had the opportunity to work with Brigette Bardot, would you pass it up.Stephen Boyd is the best one here as the turncoat guide of the Europeans. Boyd was a good looking man with a trace of arrogance in his screen persona that made him right for a part like Messala in Ben-Hur, but wrong for Livius in The Fall of the Roman Empire. He's back in his proper element.And I can't give the ending away, but folks take my word for it, it is ridiculous.Still if you want to see some unfamiliar faces for westerns, this is a good movie to see.\", \"helpful\": [\"35\", \"52\"], \"title\": \"shalako\", \"year\": \"1968\"}, {\"review_id\": \"rw1221885\", \"reviewer\": \"Catherine_Grace_Zeh\", \"movie\": \"The 6th Day (2000)\", \"rating\": 9.0, \"review_summary\": \"Absolutely fantastic action/sci-fi/thriller!\", \"review_date\": \"21 November 2005\", \"spoiler_tag\": 0, \"review_detail\": \"THE 6TH DAY, in my opinion, was an absolutely fantastic action/sci-fi/thriller! I saw this with my ex-boyfriend, and he thought it was weird, even though he's an avid Schwarzenegger fan, but I thought it was good. Throughout practically the whole movie, I was in complete suspense. One scene I remember clearly is when Adam (Arnold Schwarzenegger) says, \\\"I know who I am.\\\" When he was being pursued by Talia (Sarah Wynter), I was a little scared. Other than that, the entire cast were all smashing in my opinion... especially Arnold! Keep up the good work! I hope Arnold will do more films like this! To all highly recommend it.\", \"helpful\": [\"0\", \"3\"], \"title\": \"the 6th day\", \"year\": \"2000\"}, {\"review_id\": \"rw1135215\", \"reviewer\": \"spider89119\", \"movie\": \"The Brute and the Beast (1966)\", \"rating\": 8.0, \"review_summary\": \"Fulci delivers an excellent western\", \"review_date\": \"25 July 2005\", \"spoiler_tag\": 0, \"review_detail\": \"I have loved Fulci's Zombie films and his other horror films since long before I became interested in spaghetti westerns, so I was naturally very curious about this movie when I discovered that Fulci directed it. After viewing the film, I am very pleased to say that Fulci has directed an excellent western as well.The music is a perfect example of a great non-Morricone score. Lallo Gori shows that he can have a style of his own and still create a score that is unmistakeably spaghetti western flavored. The theme song is fantastic, and you hear very different variations of it throughout the movie. This gives a feeling of continuity throughout the film without sounding redundant.Nero and Hilton are both great, as usual. Hilton plays a funny character- a drunk who can shoot faster and straighter than anyone no matter how much he drinks! He can also fight several men at once even though he can't walk a straight line. The other actors are very good also. Nino Castelnuovo gets to play the most interesting part in the film. His character is truly weird and sadistic, and his preoccupation with playing the organ adds a nice hint of the macabre.If you are a fan of spaghetti westerns or euro-films in general, do yourself a favor and see this movie.\", \"helpful\": [\"16\", \"19\"], \"title\": \"the brute and the beast\", \"year\": \"1966\"}, {\"review_id\": \"rw1250267\", \"reviewer\": \"red1234\", \"movie\": \"Pride & Prejudice (2005)\", \"rating\": 7.0, \"review_summary\": \"Pride and Prejudice\", \"review_date\": \"29 December 2005\", \"spoiler_tag\": 1, \"review_detail\": \"The movie Pride and Prejudice was exceptional. The love portrayed between Elizabeth Bennet (Kira Knightley) and Mr.Darcy ( Matthew MacFadyen) was at its best. The level of romance between the characters in situations such as, the scene where Mr. Darcy assisted Ms. Bennet into the carriage, the confrontation at proposal and the final scenes all were romantic at amazingly precise level for the time the film took place. It brings back a legitimate and perfect love to a world overzealous with sexuality. It was decent and romantic and I applaud Joe for giving such a sweet vision into love without pride or prejudice.Then again, in other areas the movie lacked. In comparison to the novel and the BBC television series the part of Elizabeth Bennet was weak. Elizabeth Bennet is a strong woman figure and Kightley did not play a satisfying part. Kira was not bold enough to be called a Elizabeth Bennet perhaps she lacks experience in acting but she needed a bit more maturity and presence to fulfill the role. Mr. Darcy in this movie in comparison to a Colin Firth's acting in the BBC edition was good. Although Firth had a better grasp of the characters pride MacFadyen like Firth had a commanding presence and was awfully romantic. I believe both Firth and Macfadyen played Darcy very well. What really upset me, although minor, was the appearance of the Bennet family and the country people. They looked dirty and Elizabeth's Bennet hair was always a mess. The Bennets status was not so low and in the past at there appropriate status woman always fixed themselves up exceptionally well it was disappointing to see Kira look so when she had such a high potential to look good. Not every thing is appearance but you don't have to be so terrible put together. Mr.Bingley in the movie was fantastic, I really enjoyed his acting. Thus, the movie was great but there it was flawed. Overall, when I left the theater I wasn't so satisfied.\", \"helpful\": [\"0\", \"0\"], \"title\": \"pride & prejudice\", \"year\": \"2005\"}, {\"review_id\": \"rw1200616\", \"reviewer\": \"hodson_2008\", \"movie\": \"Doom (2005)\", \"rating\": 4.0, \"review_summary\": \"I LOVE the game, but the movie was thoroughly disappointing...\", \"review_date\": \"24 October 2005\", \"spoiler_tag\": 1, \"review_detail\": \"DOESN'T GIVE AWAY TOO MUCH, DON'T WORRY!!!! I've been playing DOOM and DOOM II since I was 4 years old. A friend got DOOM 3 about 6 months ago. I love the original two. The third was okay. I've read the books at least four times (execpt the third...let someone borrow it, never got it back.)I was PSYCHED when I heard the movie was coming out. But, then I read the previews. I mean, does anyone see how The Rock can fit as Flynn Taggart??? If anything, I think that Karl Urban (who plays John \\\"Reaper\\\" Grimm) would be a MUCH better Taggart. He even looks kinda like him! And where are our other characters? Arlene? Albert? Jill? What about the monsters? Where are our favorite bad guys? I only saw a few game-movie connections, and only ONE book-game-movie connection. I don't know about you guys, but I want my old monsters. This movie reminded me more of Resident Evil (the zombies in R.E. just moaned and walked around...in Doom, they have guns) and Half-Life (scientists being attacked by aliens and slowly turning...). I think John Carmack needs his head examined. He creates a game that changes the way First Players are played, and, yet, he approves a movie that kills the true DOOM feeling.\", \"helpful\": [\"3\", \"6\"], \"title\": \"doom\", \"year\": \"2005\"}, {\"review_id\": \"rw1220461\", \"reviewer\": \"Swimpenguin\", \"movie\": \"Harry Potter and the Goblet of Fire (2005)\", \"rating\": 4.0, \"review_summary\": \"Weird Adaptation\", \"review_date\": \"20 November 2005\", \"spoiler_tag\": 1, \"review_detail\": \"Adapting such a large book into one movie must have been difficult, but I think it could have been much better. The Tournament and Harry and Ron fighting pretty much filled the entire movie. Narrative structure was missing; I would never anticipate or understand the ending if I hadn't read the books. Also a lot of weird directorial decisions; some shots were so dark it was difficult to tell which character was which. Also confusing was why every scene with Hermione and Harry seemed shot to make it seem like Hermione is in love with Harry, which readers should dispute. I was also confused by some sexual comments, which are not part of the book. Hogwarts seemed more like a high school with magic wands than a wizarding school. Overall I was disappointed by how much of the story was missing and more by how the spirit of the story was missing.\", \"helpful\": [\"1\", \"2\"], \"title\": \"harry potter and the goblet of fire\", \"year\": \"2005\"}, {\"review_id\": \"rw1194434\", \"reviewer\": \"ginaginagina\", \"movie\": \"The Wedding Date (2005)\", \"rating\": 2.0, \"review_summary\": \"Bad costume designer/wardrobe supervisor\", \"review_date\": \"16 October 2005\", \"spoiler_tag\": 0, \"review_detail\": \"Wow, did this movie have some bad costume decisions or what? Most of the outfits were so unfitting for the actors who wore them. Debra Messing's outfits were so unflattering. The color choice and style...especially the bridesmaid dress. In the movie, when all the ladies get together for a girls night out, the color mix of their clothing was poor. It looked so bad on screen.Overall, this movie was not that great. So dull and no structure. How the heck do two strangers get so close in such little time? Debra Messing was still stuck in her \\\"sitcom mode of acting\\\" for this movie. She does too much overacting/exaggeration, which is fine...if this were a sitcom. Oh, and bad editing also.\", \"helpful\": [\"1\", \"4\"], \"title\": \"the wedding date\", \"year\": \"2005\"}, {\"review_id\": \"rw1232007\", \"reviewer\": \"jrt_joe\", \"movie\": \"Harry Potter and the Goblet of Fire (2005)\", \"rating\": 7.0, \"review_summary\": \"The Best Potter yet, though that isn't saying much.\", \"review_date\": \"1 December 2005\", \"spoiler_tag\": 1, \"review_detail\": \"The first three Potter films are some of the lamest excuses for a blockbuster ever. I always thought they picked all the wrong actors, the child characters became chartoonish and slapstick, and the screenplay is some of the hokiest, most clich\\u00e9d stuff written (Especially the first film). However I feel that they are improving with age, and that GoF is the best yet.I understand that there are so many 'purists' who hate the films because they leave out so much of the books' content. But the films need to stand alone, and shouldn't be compared to the books. I was initially upset after watching the film as I realised there was a lot left out, but would you really want to see this book made into two films? The first film would be this long introduction that is exciting in the novels, but would be boring and stretched out when translated into the film. The first film would be 2 hours of Harry Potter before he even starts the first task. Plus aside from that the actors would all look strangely years older than before when the 2nd of the GoF film was released, and they are growing up too fast as it is.The action was kept fast-paced although I felt had I not read the book, I would have no idea what was happening (especially at the end with the 'Priori Incuntatum (excuse the spelling)', as all Dumbledore did was say the those words and then move on. However most of it was kept well organised, and I think they kept enough of the book's detail in to sustain the film.At last, for all these years, the makers have promise a darker Harry film, and finally we have it. Scary, brooding and not for the very young, it captures the feel of the book, which I don't think the others did.The older actors are all fantastic, especially Maggie Smith, who steals every one of the few scenes she has in the film, Brendon Gleeson, who is clearly loving being Mad-Eye-Moody, and finally Ralph Fiennes, who creates a chilling Voldemort that we have all been waiting for. The only adult I am slightly unsure of is Michael Gambon (Dumbledore). I know that he has tried to make Dumbledore his own, but at times he seems quite violent and shouty, a far cry from Richard Harris's portrayal. However, I do think he succeeds in making Dumbledore more human - in this film he really doesn't have the answers, through the previous books/films he was always there, all-knowing. But now he is unsure, and it effects him.The child actors are improving with age, some faster than others. Emma Watson (who's Hermione in the first film was embarrassing), is the best out of the trio by far. She has a lot of emotional scenes, and she cries very well for her age! Rupert Grint is not bad, but is still left with the lines that make the 6 year olds in the audience laugh, but it is Daniel Radcliffe who is still unimpressive. With all due credit, he is SO much better in this film, and that could be down to direction, or just coming of age. His emotional scenes when he is crying at Cedric's body are actually moving instead of the laughable scene in PoA (\\\"He was their friend etc etc\\\") which was cringe-worthy. Hopefully he'll be better again in the next film.The special effects are fantastic, and the dialogue is less cheesy but still pleases the younger audience.Bring on Order of the Pheonix!\", \"helpful\": [\"0\", \"0\"], \"title\": \"harry potter and the goblet of fire\", \"year\": \"2005\"}, {\"review_id\": \"rw1208698\", \"reviewer\": \"mpndas213\", \"movie\": \"American Beauty (1999)\", \"rating\": 1.0, \"review_summary\": \"off-the-scale pretentious\", \"review_date\": \"4 November 2005\", \"spoiler_tag\": 1, \"review_detail\": \"this movie is as moving and insightful as a fart. the director and his actors have no grasp whatsoever of the human condition. instead of giving an accurate or interesting snapshot of humanity they chose to create some sort of suburban nightmare and allow a bunch of hateful and inhumane people inhabit it. the scene wherein the paper blowing around is filmed and called \\\"beautiful\\\" by one of the \\\"actors\\\" in this flick sums it up for me. i.e. if you call it beauty, then people will want to fawn over, look and act like it. in this case, and in the case of the movie, it was just trash. you and i were scammed. and the academy did its usual part by praising this garbage to the sky. only in the case of titanic has a movie been less deserving of an award.\", \"helpful\": [\"3\", \"5\"], \"title\": \"american beauty\", \"year\": \"1999\"}, {\"review_id\": \"rw1238550\", \"reviewer\": \"RightLeftMiddle\", \"movie\": \"Finding Neverland (2004)\", \"rating\": 10.0, \"review_summary\": \"Imagination creates the \\\"neverland\\\"\", \"review_date\": \"14 December 2005\", \"spoiler_tag\": 1, \"review_detail\": \"The movie was so sad, but it was wonderful. I loved it because it was one of the first movies that I have ever seen that is beautiful, and not a comedy. I was in tears near the end of the movie and not just because of the death, but because of the wonderful idea. The movie seemed to create a real world and when I saw it I was in awe of Johnny Depp's acting abilities. He is a wonderful actor and I love him and the character he plays in the movie. The movie shows a side of a person which you don't see in real life and not often in movies. He maintained the character throughout the movie, but made sure it stayed with the plot. The movie was very sad, and if I could give only one movie in the world a 10 out of 10, it would most definitely be this one. The movie was sad, happy, at times, moving, beautiful, and many more things. I loved the movie and could never see a better one.\", \"helpful\": [\"2\", \"2\"], \"title\": \"finding neverland\", \"year\": \"2004\"}, {\"review_id\": \"rw1207496\", \"reviewer\": \"dpags01\", \"movie\": \"Speak (2004)\", \"rating\": 10.0, \"review_summary\": \"Remarkable\", \"review_date\": \"2 November 2005\", \"spoiler_tag\": 0, \"review_detail\": \"A couple of weeks ago I was browsing the IMDb to see what D.B. Sweeney had been up to lately. Looking through his recent spotty filmography, Speak came up. I read the synopsis and it seemed like something I might enjoy, story-wise and cast-wise (big fan of Steve Zahn as well and was fairly impressed with Stewart's role in Panic Room). I decided to give it a shot and was glad I did, as it has given me quite a memorable movie experience.Melinda Sordino (Stewart) is a high school freshman, who was once a bright, happy student. One night a terrible event occurs that instantly changes that and simultaneously ostracizes her from her peers. School, is now a torment for her as she has no one to relate to or confide in (her parents (Sweeney & Elizabeth Perkins) are caring but unaware of her issue and oblivious to her). She regresses and rarely speaks to anyone, even to the few who try to reach out to her. One person does manage to break through, her new art teacher, Mr. Freeman (Zahn), who gets Melinda to slowly express her emotions through her art projects. She tries to regain the confidence to open back up and ultimately break free of the shell she has created for herself.This movie is definitely not a feel-good flick, but the screenplay (adapted from the same-titled book) affords some light moments (usually from Melinda's observations through her inner monologue and rare interactions in the classroom). Stewart is truly the revelation here as she perfectly nails the depressed and isolated role of Melinda and can deftly handle the couple of pretty harrowing incidents that occur. She is definitely one to watch for in the future. Zahn, usually cast for comedic parts, pulls off his best performance. The scene towards the end of the movie between Mr. Freeman and Melinda in her \\\"safe place\\\", was enough to bring me to tears, even though there were barely any words spoken. Just perfect.\", \"helpful\": [\"2\", \"4\"], \"title\": \"speak\", \"year\": \"2004\"}, {\"review_id\": \"rw1162096\", \"reviewer\": \"stickler-2\", \"movie\": \"Brooklyn Rules (2007)\", \"rating\": 9.0, \"review_summary\": \"Great film. Instant classic of the coming of age genre\", \"review_date\": \"31 August 2005\", \"spoiler_tag\": 0, \"review_detail\": \"Went to a screening last night and was blown away. Michael Corrente is the kind of director that is in short supply these days. With all the garbage coming out of Hollywood, he has resisted the temptation to head west and make more $ and has instead stuck to his roots. Brooklyn Rules is a powerful independent film with a very realistic take on the coming of age genre. The cast is top notch. The stars and supporting characters ring incredibly true. I'm not going to list all the names (and there are some of the top actors out there) but just look at the credits and know that each of the actors did some of his/her best work to date. Scenes of the three best friends growing together are inter-cut with elements of harrowing violence and blossoming love. The total effect is one that left me wondering why so few films have the balance of Brooklyn Rules. So many are all out in one direction. Hyper violence- or total sex for 90 minutes. This movie has classical composition and pacing yet is completely original in it's own way. A harrowing portrait of learning the horrors of the modern city life. The soundtrack is amazing on its own. Kudos to all involved- Great job!\", \"helpful\": [\"65\", \"94\"], \"title\": \"brooklyn rules\", \"year\": \"2007\"}]}}, {\"mode\": \"vega-lite\"});\n",
       "</script>"
      ],
      "text/plain": [
       "alt.Chart(...)"
      ]
     },
     "execution_count": 41,
     "metadata": {},
     "output_type": "execute_result"
    }
   ],
   "source": [
    "get_rating_distribution()\n"
   ]
  },
  {
   "cell_type": "code",
   "execution_count": 42,
   "metadata": {
    "id": "vy2rOKWIrxZU"
   },
   "outputs": [],
   "source": [
    "def filter_func(df: pd.DataFrame, filter: str) -> pd.DataFrame:\n",
    "\n",
    "    df = df.copy()\n",
    "    df[\"tag\"] = df[\"tag\"].apply(lambda d: \" \".join(d) if isinstance(d, list) else d)\n",
    "\n",
    "    filter = stem_words(filter)\n",
    "\n",
    "    df[\"tag\"] = df[\"tag\"].astype(str)\n",
    "    new_df = df[~df[\"tag\"].str.contains(str(filter))]\n",
    "\n",
    "    return new_df\n",
    "\n",
    "\n",
    "def query_func(df: pd.DataFrame, query: str) -> pd.DataFrame:\n",
    "    df = df.copy()\n",
    "    df[\"tag\"] = df[\"tag\"].apply(lambda d: \" \".join(d) if isinstance(d, list) else \"\")\n",
    "\n",
    "    new_df = df[\n",
    "        df[\"title\"].str.contains(str(query))\n",
    "        | df[\"tag\"].str.contains(str(stem_words(query)))\n",
    "    ]\n",
    "    return new_df\n",
    "\n",
    "\n",
    "pd.options.display.max_colwidth = 50\n",
    "\n",
    "# display(query_func(ml_movies,'cult')['tag'])\n"
   ]
  },
  {
   "cell_type": "code",
   "execution_count": 43,
   "metadata": {
    "id": "N3YUMn1GMCue"
   },
   "outputs": [],
   "source": [
    "df = filter_func(ml_movies, \"abuse\")\n"
   ]
  },
  {
   "cell_type": "code",
   "execution_count": 44,
   "metadata": {
    "id": "_E57dVNuJnwe"
   },
   "outputs": [
    {
     "data": {
      "text/html": [
       "<div>\n",
       "<style scoped>\n",
       "    .dataframe tbody tr th:only-of-type {\n",
       "        vertical-align: middle;\n",
       "    }\n",
       "\n",
       "    .dataframe tbody tr th {\n",
       "        vertical-align: top;\n",
       "    }\n",
       "\n",
       "    .dataframe thead th {\n",
       "        text-align: right;\n",
       "    }\n",
       "</style>\n",
       "<table border=\"1\" class=\"dataframe\">\n",
       "  <thead>\n",
       "    <tr style=\"text-align: right;\">\n",
       "      <th></th>\n",
       "      <th>Unnamed: 0</th>\n",
       "      <th>movieId</th>\n",
       "      <th>title</th>\n",
       "      <th>genres</th>\n",
       "      <th>year</th>\n",
       "      <th>tag</th>\n",
       "      <th>rating_mean</th>\n",
       "      <th>rating_count</th>\n",
       "      <th>rating_median</th>\n",
       "      <th>rating_std</th>\n",
       "    </tr>\n",
       "  </thead>\n",
       "  <tbody>\n",
       "    <tr>\n",
       "      <th>2</th>\n",
       "      <td>43267</td>\n",
       "      <td>165643</td>\n",
       "      <td>those people</td>\n",
       "      <td>[Drama, Romance]</td>\n",
       "      <td>2015</td>\n",
       "      <td>test gay gay cultur young love lgbt teen paint...</td>\n",
       "      <td>3.3</td>\n",
       "      <td>33</td>\n",
       "      <td>3.5</td>\n",
       "      <td>1.0</td>\n",
       "    </tr>\n",
       "    <tr>\n",
       "      <th>10</th>\n",
       "      <td>16193</td>\n",
       "      <td>85510</td>\n",
       "      <td>sucker punch</td>\n",
       "      <td>[Action, Fantasy, Thriller, IMAX]</td>\n",
       "      <td>2011</td>\n",
       "      <td>kaf ridicul upskirt femal protagonist jena mal...</td>\n",
       "      <td>2.9</td>\n",
       "      <td>2436</td>\n",
       "      <td>3.0</td>\n",
       "      <td>1.2</td>\n",
       "    </tr>\n",
       "    <tr>\n",
       "      <th>34</th>\n",
       "      <td>55592</td>\n",
       "      <td>192283</td>\n",
       "      <td>crazy rich asians</td>\n",
       "      <td>[Comedy]</td>\n",
       "      <td>2018</td>\n",
       "      <td>asian cultur romcom wealth stylish fun awkwafi...</td>\n",
       "      <td>3.5</td>\n",
       "      <td>698</td>\n",
       "      <td>3.5</td>\n",
       "      <td>0.9</td>\n",
       "    </tr>\n",
       "  </tbody>\n",
       "</table>\n",
       "</div>"
      ],
      "text/plain": [
       "    Unnamed: 0  movieId              title                             genres  \\\n",
       "2        43267   165643       those people                   [Drama, Romance]   \n",
       "10       16193    85510       sucker punch  [Action, Fantasy, Thriller, IMAX]   \n",
       "34       55592   192283  crazy rich asians                           [Comedy]   \n",
       "\n",
       "    year                                                tag  rating_mean  \\\n",
       "2   2015  test gay gay cultur young love lgbt teen paint...          3.3   \n",
       "10  2011  kaf ridicul upskirt femal protagonist jena mal...          2.9   \n",
       "34  2018  asian cultur romcom wealth stylish fun awkwafi...          3.5   \n",
       "\n",
       "    rating_count  rating_median  rating_std  \n",
       "2             33            3.5         1.0  \n",
       "10          2436            3.0         1.2  \n",
       "34           698            3.5         0.9  "
      ]
     },
     "execution_count": 44,
     "metadata": {},
     "output_type": "execute_result"
    }
   ],
   "source": [
    "exp3 = filter_func(query_func(ml_movies, \"cult\"), \"dumb down\")\n",
    "exp3.head(3)\n"
   ]
  },
  {
   "cell_type": "markdown",
   "metadata": {
    "id": "jPYfQQQQutF_"
   },
   "source": [
    "# Posters\n"
   ]
  },
  {
   "cell_type": "code",
   "execution_count": null,
   "metadata": {
    "id": "ryFoFriBvLnM"
   },
   "outputs": [],
   "source": [
    "ml_movies_clean = ml_movies.copy()\n",
    "print(len(ml_movies_clean))\n"
   ]
  },
  {
   "cell_type": "code",
   "execution_count": null,
   "metadata": {
    "id": "K3UMsFBJuwBi"
   },
   "outputs": [],
   "source": [
    "images = images[[\"poster\", \"title\", \"year\"]]\n",
    "images[\"title\"] = images[\"title\"].apply(lambda x: prep_string(x))\n",
    "poster_and_prior = pd.merge(ml_movies_clean, images, on=[\"title\", \"year\"])\n"
   ]
  },
  {
   "cell_type": "code",
   "execution_count": 45,
   "metadata": {},
   "outputs": [
    {
     "name": "stdout",
     "output_type": "stream",
     "text": [
      "/Users/sarahamiraslani/Desktop/21-kevinjd-galon-samirasl/src\n"
     ]
    }
   ],
   "source": [
    "!pwd"
   ]
  },
  {
   "cell_type": "code",
   "execution_count": null,
   "metadata": {
    "id": "f0mO0K7-x-Ln"
   },
   "outputs": [],
   "source": [
    "def prepare_images(poster_sample: pd.DataFrame, n: int) -> list[str]:\n",
    "    # poster_sample is the links to the posters of the movie titles we want to visualize\n",
    "    count = 0\n",
    "    png_names = []\n",
    "    for i in poster_sample:\n",
    "        name = f\"./data/local-filename{str(count)}.jpg\"\n",
    "        ex = urllib.request.urlretrieve(\n",
    "            i, name\n",
    "        )  # \"/content/drive/MyDrive/SIADS-591-data/local-filename{i}.jpg\")\n",
    "        im = Image.open(name)\n",
    "        png_name = f\"./data/local-filename{str(count)}.png\"\n",
    "        png_names.append(png_name)\n",
    "        im.save(png_name)\n",
    "        count += 1\n",
    "\n",
    "    imgCode = []\n",
    "    images = png_names[:n]\n",
    "    for imgPath in images:\n",
    "        image = Image.open(imgPath)  # PilImage\n",
    "        output = io.BytesIO()\n",
    "        image.save(output, format=\"JPEG\")\n",
    "        encoded_string = (\n",
    "            \"data:image/jpeg;base64,\" + base64.b64encode(output.getvalue()).decode()\n",
    "        )\n",
    "        imgCode.append(encoded_string)\n",
    "    return imgCode"
   ]
  },
  {
   "cell_type": "code",
   "execution_count": null,
   "metadata": {
    "id": "JRkQtpQ3zWoA"
   },
   "outputs": [],
   "source": [
    "def poster_visual_altair(\n",
    "    poster_sample: pd.DataFrame, n: int, row_level: int\n",
    ") -> alt.Chart:\n",
    "    \"\"\"This function is used to create a visual representation of the poster sample\"\"\"\n",
    "    # pass n number of images to show in that row\n",
    "    imgCode = prepare_images(poster_sample, n)\n",
    "    x = [i for i in range(1, 50000, 6000)]\n",
    "    x = x[:n]\n",
    "    y = [row_level] * n\n",
    "\n",
    "    source = pd.DataFrame({\"x\": x, \"y\": y, \"img\": imgCode})\n",
    "    vis = (\n",
    "        alt.Chart(source)\n",
    "        .mark_image(size=5, width=250, height=250)\n",
    "        .encode(x=alt.X(\"x\", axis=None), y=alt.Y(\"y\", axis=None), url=\"img\")\n",
    "    )\n",
    "    return vis"
   ]
  },
  {
   "cell_type": "code",
   "execution_count": null,
   "metadata": {
    "id": "fCTz3TLtDig_"
   },
   "outputs": [],
   "source": [
    "# uncomment the following line to see the output DataFrame\n",
    "# poster_and_prior.head(1)\n"
   ]
  },
  {
   "cell_type": "code",
   "execution_count": null,
   "metadata": {
    "id": "8w7pJAZdI0D9"
   },
   "outputs": [],
   "source": [
    "# given lists of titles and years we can make a dataframe to select the poster links\n",
    "selected_titles = [\"1408\", \"2012\", \"50/50\"]\n",
    "selected_years = [2007, 2009, 2011]\n",
    "data_tuples = list(zip(selected_titles, selected_years))\n",
    "selected_df = pd.DataFrame(data_tuples, columns=[\"title\", \"year\"])\n",
    "selected_final = pd.merge(poster_and_prior, selected_df, on=[\"title\", \"year\"])\n",
    "selected_final = selected_final.drop_duplicates(\n",
    "    subset=[\"title\", \"year\"], keep=\"last\"\n",
    ").reset_index(drop=True)\n",
    "selected_posters = selected_final[\"poster\"]\n"
   ]
  },
  {
   "cell_type": "markdown",
   "metadata": {
    "id": "_TELS-rJY_2Z"
   },
   "source": [
    "## The counts of some of the most common terms, and the least common terms\n"
   ]
  },
  {
   "cell_type": "code",
   "execution_count": null,
   "metadata": {
    "id": "9k4jsprhDC5g"
   },
   "outputs": [],
   "source": [
    "# We have 59868 tags for movies in the full dataset\n",
    "def insights() -> None:\n",
    "    count_tags = ml_movies.copy().dropna()\n",
    "    count_tags = count_tags[\"tag\"].tolist()\n",
    "    agg_tags = Counter()\n",
    "    for i in count_tags:\n",
    "        agg_tags.update(i)\n",
    "    print(agg_tags.most_common()[:5])\n",
    "    print(agg_tags.most_common()[-5:])\n",
    "    print(len(agg_tags))"
   ]
  },
  {
   "cell_type": "code",
   "execution_count": null,
   "metadata": {
    "id": "p2AaacFpDLb7"
   },
   "outputs": [],
   "source": [
    "def poster_visual_altair(poster_sample: pd.DataFrame, n: int, row_level: int):\n",
    "    # pass in n number of images to show in that row\n",
    "    imgCode = prepare_images(poster_sample, n)\n",
    "    x = [i for i in range(1, 50000, 6000)]\n",
    "    x = x[:n]\n",
    "    y = [row_level] * n\n",
    "\n",
    "    source = pd.DataFrame({\"x\": x, \"y\": y, \"img\": imgCode, \"poster\": poster_sample})\n",
    "    source = pd.merge(source, poster_and_prior, on=\"poster\", how=\"inner\")\n",
    "    source = source[\n",
    "        [\n",
    "            \"x\",\n",
    "            \"y\",\n",
    "            \"img\",\n",
    "            \"poster\",\n",
    "            \"title\",\n",
    "            \"year\",\n",
    "            \"genres\",\n",
    "            \"rating_mean\",\n",
    "            \"rating_count\",\n",
    "            \"rating_median\",\n",
    "            \"tag\",\n",
    "        ]\n",
    "    ]\n",
    "    vis = (\n",
    "        alt.Chart(source)\n",
    "        .mark_image(width=250, height=250)\n",
    "        .encode(\n",
    "            x=alt.X(\"x\", axis=None),\n",
    "            y=alt.Y(\"y\", axis=None),\n",
    "            url=\"img\",\n",
    "            tooltip=[\n",
    "                \"title\",\n",
    "                \"year\",\n",
    "                \"genres\",\n",
    "                \"rating_mean\",\n",
    "                \"rating_count\",\n",
    "                \"rating_median\",\n",
    "                \"tag\",\n",
    "            ],\n",
    "        )\n",
    "        .configure(background=\"#000000\")\n",
    "        .configure_view(strokeWidth=0)\n",
    "    )\n",
    "    return vis.properties(width=600, height=200)"
   ]
  },
  {
   "cell_type": "markdown",
   "metadata": {
    "id": "Yv1y5GWQSfHr"
   },
   "source": [
    "# Altair GUI with Posters\n"
   ]
  },
  {
   "cell_type": "markdown",
   "metadata": {
    "id": "fEd0R41qN9D7"
   },
   "source": [
    "To increase the effectiveness and expressiveness of the film recommendations, we\n",
    "show the movie posters if they are available for a query and filter by the user.\n",
    "We limit it to 3 for simplicity.\n",
    "\n",
    "Otherwise, we return the dataframe of information that would otherwise be in the\n",
    "tooltip for the posters had they been available.\n"
   ]
  },
  {
   "cell_type": "code",
   "execution_count": null,
   "metadata": {
    "id": "RgWhsCkXSiLc"
   },
   "outputs": [],
   "source": [
    "# def query_filter(button):\n",
    "#     if not filter_input.value:\n",
    "#         filter = \"None Marked\"\n",
    "#     else:\n",
    "#         filter = filter_input.value\n",
    "#     query = query_input.value\n",
    "#     df = filter_func(query_func(ml_movies, query), filter).sort_values(\n",
    "#         [\"rating_mean\", \"rating_count\"], ascending=False\n",
    "#     )\n",
    "#     title = df[\"title\"].tolist()[:3]\n",
    "#     year = df[\"year\"].tolist()[:3]\n",
    "#     year = [float(int(i)) for i in year]\n",
    "#     data_tuples = list(zip(title, year))\n",
    "#     selected_df = pd.DataFrame(data_tuples, columns=[\"title\", \"year\"])\n",
    "#     selected_final = pd.merge(poster_and_prior, selected_df, on=[\"title\", \"year\"])\n",
    "#     selected_posters = selected_final[\"poster\"]\n",
    "#     chart = poster_visual_altair(selected_posters, len(selected_posters), 1)\n",
    "#     clear_output()\n",
    "#     display(chart)\n"
   ]
  },
  {
   "cell_type": "code",
   "execution_count": null,
   "metadata": {
    "id": "JdKv0J9bDWOY"
   },
   "outputs": [],
   "source": [
    "output = widgets.Output()\n",
    "\n",
    "\n",
    "def calc(filter: str, query: str) -> alt.Chart:\n",
    "    df: pd.DataFrame = filter_func(query_func(ml_movies, query), filter).sort_values(\n",
    "        [\"rating_mean\", \"rating_count\"], ascending=False\n",
    "    )\n",
    "    title = df[\"title\"].tolist()[:3]\n",
    "    year = df[\"year\"].tolist()[:3]\n",
    "    year = [float(int(i)) for i in year]\n",
    "    data_tuples = list(zip(title, year))\n",
    "\n",
    "    selected_df = pd.DataFrame(data_tuples, columns=[\"title\", \"year\"])\n",
    "    selected_final = pd.merge(poster_and_prior, selected_df, on=[\"title\", \"year\"])\n",
    "\n",
    "    if len(selected_final) < 1:\n",
    "        print(\"No Posters Found for the Following Film Results\")\n",
    "        show = df.drop(columns=[\"movieId\", \"rating_std\"])\n",
    "        print(display(show.head(3)))\n",
    "    selected_posters = selected_final[\"poster\"]\n",
    "    chart = poster_visual_altair(selected_posters, len(selected_posters), 1)\n",
    "    return chart\n",
    "\n",
    "\n",
    "def clicked():\n",
    "\n",
    "    output.clear_output()\n",
    "    with output:\n",
    "        _query = querybox.value\n",
    "        _filter = querybox2.value\n",
    "        if not querybox2.value:\n",
    "            _filter = \"None Marked\"\n",
    "\n",
    "        if _query == \"\":\n",
    "            print(\"please enter a query\")\n",
    "        else:\n",
    "            return calc(_filter, _query).display()\n",
    "\n",
    "\n",
    "querybox = widgets.Text(description=\"Description:\")\n",
    "searchbutton = widgets.Button(description=\"Search\")\n",
    "\n",
    "querybox2 = widgets.Text(description=\"Filter Words:\")\n",
    "\n",
    "searchbutton.on_click(clicked)\n",
    "\n",
    "list_widgets = [\n",
    "    widgets.VBox([widgets.HBox([querybox, searchbutton]), widgets.HBox([querybox2])])\n",
    "]\n",
    "accordion = widgets.Accordion(children=list_widgets)\n",
    "accordion.set_title(0, \"Movie Recommendations\")\n",
    "display(accordion, output)\n",
    "# ie search: last holiday"
   ]
  },
  {
   "cell_type": "markdown",
   "metadata": {},
   "source": [
    "# ie: Search Description: friendship\n",
    "\n",
    "With and Without the Filter: bite\n",
    "\n",
    "This should remove the film: \"Let Me In\" whose first tag is \"bite\" is you scroll\n",
    "over the poster\n"
   ]
  },
  {
   "cell_type": "markdown",
   "metadata": {},
   "source": [
    "### Most Common and Least Common Terms in this Sample\n"
   ]
  },
  {
   "cell_type": "code",
   "execution_count": null,
   "metadata": {},
   "outputs": [],
   "source": [
    "insights()\n"
   ]
  }
 ],
 "metadata": {
  "colab": {
   "provenance": []
  },
  "kernelspec": {
   "display_name": "Python 3 (ipykernel)",
   "language": "python",
   "name": "python3"
  },
  "language_info": {
   "codemirror_mode": {
    "name": "ipython",
    "version": 3
   },
   "file_extension": ".py",
   "mimetype": "text/x-python",
   "name": "python",
   "nbconvert_exporter": "python",
   "pygments_lexer": "ipython3",
   "version": "3.8.13"
  },
  "vscode": {
   "interpreter": {
    "hash": "1a1af0ee75eeea9e2e1ee996c87e7a2b11a0bebd85af04bb136d915cefc0abce"
   }
  }
 },
 "nbformat": 4,
 "nbformat_minor": 4
}
