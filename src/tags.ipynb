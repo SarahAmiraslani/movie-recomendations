{
 "cells": [
  {
   "attachments": {},
   "cell_type": "markdown",
   "metadata": {},
   "source": [
    "# Analyzing Tags\n",
    "\n",
    "Analyzing tags in the MovieLens dataset is important because tags can provide additional metadata about movies beyond their title, release date, and genre. Tags are user-generated keywords that describe different aspects of a movie, such as its plot, themes, characters, setting, mood, and style. By analyzing tags, we can gain insights into how users perceive and categorize movies, as well as identify patterns and trends in user preferences and behavior.\n",
    "\n",
    "Our aim is to improve the accuracy and relevance of our search & filter functionality by allowing users to search and filter movies based on specific tags that match their interests and tastes."
   ]
  },
  {
   "cell_type": "code",
   "execution_count": null,
   "metadata": {},
   "outputs": [],
   "source": [
    "import pandas as pd\n",
    "\n",
    "import re\n",
    "import string\n",
    "from nltk.stem import PorterStemmer"
   ]
  },
  {
   "cell_type": "code",
   "execution_count": null,
   "metadata": {},
   "outputs": [],
   "source": [
    "ml_tags = pd.read_csv(f\"./data/ml_tags_100.csv\")"
   ]
  },
  {
   "cell_type": "code",
   "execution_count": null,
   "metadata": {},
   "outputs": [],
   "source": [
    "def prep_string(text: str) -> str:\n",
    "    \"\"\"remove punctuation, whitespace, and make lowercase\"\"\"\n",
    "\n",
    "    # remove whitespace and apply lower-casing\n",
    "    text_lstrip = str(text).lower().strip()\n",
    "\n",
    "    # replace punctuation with empty string\n",
    "    text = re.sub(\"[%s]\" % re.escape(string.punctuation), \"\", text_lstrip)\n",
    "    return text\n"
   ]
  },
  {
   "cell_type": "code",
   "execution_count": null,
   "metadata": {},
   "outputs": [],
   "source": [
    "def stem_words(text: str) -> str:\n",
    "    \"\"\"normalize text by shortening words to their root (i.e., removing commoner morphological and inflexional endings from words)\"\"\"\n",
    "    stemmer = PorterStemmer()\n",
    "    return \" \".join([stemmer.stem(word) for word in text.split()])"
   ]
  },
  {
   "cell_type": "code",
   "execution_count": null,
   "metadata": {},
   "outputs": [],
   "source": [
    "ml_tags"
   ]
  },
  {
   "cell_type": "code",
   "execution_count": null,
   "metadata": {},
   "outputs": [],
   "source": [
    "from wordcloud import WordCloud\n",
    "import matplotlib.pyplot as plt\n",
    "\n",
    "wc = WordCloud(background_color=\"white\", height=768, width=768)\n",
    "t = ' '.join(list(ml_tags['tag'].apply(prep_string).apply(stem_words).values))\n",
    "\n",
    "wc.generate(t)"
   ]
  },
  {
   "attachments": {},
   "cell_type": "markdown",
   "metadata": {},
   "source": [
    "# Word Cloud Insights\n",
    "\n",
    "Using word clouds to show the tags in the MovieLens dataset can provide several insights into the characteristics and preferences of movies and their users. A word cloud is a visual representation of the most commonly used words in a text, with larger and bolder words indicating higher frequency.\n",
    "\n",
    "One of the insights we gain from analyzing the tags is user sentiment & emotion. Base on the word cloud below, we can see examples such as `creepi`, `kidnap`, `violent`, and `alcohol` which may be triggering for some users.\n",
    "\n",
    "EDIT: Note that this was run against the full dataset - the sampled dataset will have other keywords such as `drug`, `nuditi`."
   ]
  },
  {
   "cell_type": "code",
   "execution_count": null,
   "metadata": {},
   "outputs": [],
   "source": [
    "def plot_cloud(wordcloud, title = \"Popular Tags\", figsize=(60, 40)):\n",
    "    plt.figure(figsize=figsize)\n",
    "    plt.title(title, fontsize=240)\n",
    "    plt.imshow(wordcloud) \n",
    "    plt.axis(\"off\")\n",
    "\n",
    "plot_cloud(wc)"
   ]
  }
 ],
 "metadata": {
  "kernelspec": {
   "display_name": "Python 3",
   "language": "python",
   "name": "python3"
  },
  "language_info": {
   "codemirror_mode": {
    "name": "ipython",
    "version": 3
   },
   "file_extension": ".py",
   "mimetype": "text/x-python",
   "name": "python",
   "nbconvert_exporter": "python",
   "pygments_lexer": "ipython3",
   "version": "3.7.9"
  },
  "orig_nbformat": 4,
  "vscode": {
   "interpreter": {
    "hash": "aee8b7b246df8f9039afb4144a1f6fd8d2ca17a180786b69acc140d282b71a49"
   }
  }
 },
 "nbformat": 4,
 "nbformat_minor": 2
}
